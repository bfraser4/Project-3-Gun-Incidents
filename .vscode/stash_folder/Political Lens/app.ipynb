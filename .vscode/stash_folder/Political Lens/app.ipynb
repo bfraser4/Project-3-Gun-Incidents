{
 "cells": [
  {
   "cell_type": "code",
   "execution_count": 5,
   "metadata": {},
   "outputs": [],
   "source": [
    "# Dependencies and Setup\n",
    "import matplotlib.pyplot as plt\n",
    "import pandas as pd\n",
    "import numpy as np\n",
    "import requests\n",
    "import gmaps\n",
    "import os\n",
    "\n",
    "# Import API key\n",
    "from api_keys import g_key\n",
    "\n",
    "# Configure gmaps with API key\n",
    "gmaps.configure(api_key = g_key)"
   ]
  },
  {
   "cell_type": "code",
   "execution_count": 7,
   "metadata": {},
   "outputs": [
    {
     "data": {
      "text/html": [
       "<div>\n",
       "<style scoped>\n",
       "    .dataframe tbody tr th:only-of-type {\n",
       "        vertical-align: middle;\n",
       "    }\n",
       "\n",
       "    .dataframe tbody tr th {\n",
       "        vertical-align: top;\n",
       "    }\n",
       "\n",
       "    .dataframe thead th {\n",
       "        text-align: right;\n",
       "    }\n",
       "</style>\n",
       "<table border=\"1\" class=\"dataframe\">\n",
       "  <thead>\n",
       "    <tr style=\"text-align: right;\">\n",
       "      <th></th>\n",
       "      <th>Unnamed: 0</th>\n",
       "      <th>State</th>\n",
       "      <th>Gov_Political_Affiliation</th>\n",
       "      <th>Lat</th>\n",
       "      <th>Long</th>\n",
       "    </tr>\n",
       "  </thead>\n",
       "  <tbody>\n",
       "    <tr>\n",
       "      <th>0</th>\n",
       "      <td>0</td>\n",
       "      <td>Alabama</td>\n",
       "      <td>Republican</td>\n",
       "      <td>32.318231</td>\n",
       "      <td>-86.902298</td>\n",
       "    </tr>\n",
       "    <tr>\n",
       "      <th>1</th>\n",
       "      <td>1</td>\n",
       "      <td>Alaska</td>\n",
       "      <td>Republican</td>\n",
       "      <td>63.588753</td>\n",
       "      <td>-154.493062</td>\n",
       "    </tr>\n",
       "    <tr>\n",
       "      <th>2</th>\n",
       "      <td>2</td>\n",
       "      <td>Arizona</td>\n",
       "      <td>Republican</td>\n",
       "      <td>34.048928</td>\n",
       "      <td>-111.093731</td>\n",
       "    </tr>\n",
       "    <tr>\n",
       "      <th>3</th>\n",
       "      <td>3</td>\n",
       "      <td>Arkansas</td>\n",
       "      <td>Republican</td>\n",
       "      <td>35.201050</td>\n",
       "      <td>-91.831833</td>\n",
       "    </tr>\n",
       "    <tr>\n",
       "      <th>4</th>\n",
       "      <td>4</td>\n",
       "      <td>California</td>\n",
       "      <td>Democrat</td>\n",
       "      <td>36.778261</td>\n",
       "      <td>-119.417932</td>\n",
       "    </tr>\n",
       "  </tbody>\n",
       "</table>\n",
       "</div>"
      ],
      "text/plain": [
       "   Unnamed: 0       State Gov_Political_Affiliation        Lat        Long\n",
       "0           0     Alabama                Republican  32.318231  -86.902298\n",
       "1           1      Alaska                Republican  63.588753 -154.493062\n",
       "2           2     Arizona                Republican  34.048928 -111.093731\n",
       "3           3    Arkansas                Republican  35.201050  -91.831833\n",
       "4           4  California                  Democrat  36.778261 -119.417932"
      ]
     },
     "execution_count": 7,
     "metadata": {},
     "output_type": "execute_result"
    }
   ],
   "source": [
    "output_data_file = \"../Resources/clean_political_affiliation.csv\"\n",
    "political_data = pd.read_csv(output_data_file)\n",
    "# city_data.dropna(inplace = True)\n",
    "political_data.head()"
   ]
  },
  {
   "cell_type": "code",
   "execution_count": 8,
   "metadata": {},
   "outputs": [],
   "source": [
    "# Configure gmaps\n",
    "gmaps.configure(api_key=g_key)"
   ]
  },
  {
   "cell_type": "code",
   "execution_count": 13,
   "metadata": {},
   "outputs": [
    {
     "name": "stderr",
     "output_type": "stream",
     "text": [
      "<>:6: SyntaxWarning: list indices must be integers or slices, not str; perhaps you missed a comma?\n",
      "<>:6: SyntaxWarning: list indices must be integers or slices, not str; perhaps you missed a comma?\n",
      "/var/folders/7z/2_ssh4pj4dl6pp5615v67s5w0000gn/T/ipykernel_17787/250477493.py:6: SyntaxWarning: list indices must be integers or slices, not str; perhaps you missed a comma?\n",
      "  blue_affiliation = political_data[[\"Gov_Political_Affiliation\"][\"Democrat\"]]\n",
      "/var/folders/7z/2_ssh4pj4dl6pp5615v67s5w0000gn/T/ipykernel_17787/250477493.py:6: SyntaxWarning: list indices must be integers or slices, not str; perhaps you missed a comma?\n",
      "  blue_affiliation = political_data[[\"Gov_Political_Affiliation\"][\"Democrat\"]]\n",
      "/var/folders/7z/2_ssh4pj4dl6pp5615v67s5w0000gn/T/ipykernel_17787/250477493.py:6: SyntaxWarning: list indices must be integers or slices, not str; perhaps you missed a comma?\n",
      "  blue_affiliation = political_data[[\"Gov_Political_Affiliation\"][\"Democrat\"]]\n",
      "/var/folders/7z/2_ssh4pj4dl6pp5615v67s5w0000gn/T/ipykernel_17787/250477493.py:6: SyntaxWarning: list indices must be integers or slices, not str; perhaps you missed a comma?\n",
      "  blue_affiliation = political_data[[\"Gov_Political_Affiliation\"][\"Democrat\"]]\n"
     ]
    },
    {
     "ename": "TypeError",
     "evalue": "list indices must be integers or slices, not str",
     "output_type": "error",
     "traceback": [
      "\u001b[0;31m---------------------------------------------------------------------------\u001b[0m",
      "\u001b[0;31mTypeError\u001b[0m                                 Traceback (most recent call last)",
      "\u001b[1;32m/Users/xilo/Desktop/Bootcamp/Project/Project-3-Gun-Incidents/Political Lens/app.ipynb Cell 4\u001b[0m in \u001b[0;36m<cell line: 6>\u001b[0;34m()\u001b[0m\n\u001b[1;32m      <a href='vscode-notebook-cell:/Users/xilo/Desktop/Bootcamp/Project/Project-3-Gun-Incidents/Political%20Lens/app.ipynb#W3sZmlsZQ%3D%3D?line=3'>4</a>\u001b[0m locations \u001b[39m=\u001b[39m political_data[[\u001b[39m\"\u001b[39m\u001b[39mLat\u001b[39m\u001b[39m\"\u001b[39m, \u001b[39m\"\u001b[39m\u001b[39mLong\u001b[39m\u001b[39m\"\u001b[39m]]\n\u001b[1;32m      <a href='vscode-notebook-cell:/Users/xilo/Desktop/Bootcamp/Project/Project-3-Gun-Incidents/Political%20Lens/app.ipynb#W3sZmlsZQ%3D%3D?line=4'>5</a>\u001b[0m affiliation\u001b[39m=\u001b[39m political_data[\u001b[39m\"\u001b[39m\u001b[39mGov_Political_Affiliation\u001b[39m\u001b[39m\"\u001b[39m]\n\u001b[0;32m----> <a href='vscode-notebook-cell:/Users/xilo/Desktop/Bootcamp/Project/Project-3-Gun-Incidents/Political%20Lens/app.ipynb#W3sZmlsZQ%3D%3D?line=5'>6</a>\u001b[0m blue_affiliation \u001b[39m=\u001b[39m political_data[[\u001b[39m\"\u001b[39;49m\u001b[39mGov_Political_Affiliation\u001b[39;49m\u001b[39m\"\u001b[39;49m][\u001b[39m\"\u001b[39;49m\u001b[39mDemocrat\u001b[39;49m\u001b[39m\"\u001b[39;49m]]\n\u001b[1;32m      <a href='vscode-notebook-cell:/Users/xilo/Desktop/Bootcamp/Project/Project-3-Gun-Incidents/Political%20Lens/app.ipynb#W3sZmlsZQ%3D%3D?line=7'>8</a>\u001b[0m fig \u001b[39m=\u001b[39m gmaps\u001b[39m.\u001b[39mfigure()\n\u001b[1;32m     <a href='vscode-notebook-cell:/Users/xilo/Desktop/Bootcamp/Project/Project-3-Gun-Incidents/Political%20Lens/app.ipynb#W3sZmlsZQ%3D%3D?line=9'>10</a>\u001b[0m \u001b[39m# Create heat layer\u001b[39;00m\n",
      "\u001b[0;31mTypeError\u001b[0m: list indices must be integers or slices, not str"
     ]
    }
   ],
   "source": [
    "from matplotlib import markers\n",
    "\n",
    "\n",
    "locations = political_data[[\"Lat\", \"Long\"]]\n",
    "affiliation= political_data[\"Gov_Political_Affiliation\"]\n",
    "blue_affiliation = political_data[[\"Gov_Political_Affiliation\"][\"Democrat\"]]\n",
    "\n",
    "fig = gmaps.figure()\n",
    "\n",
    "# Create heat layer\n",
    "marker_layer = gmaps.marker_layer(locations, info_box_content=affiliation, marker_layer = blue_affiliation)\n",
    "fig = gmaps.figure()\n",
    "fig.add_layer(marker_layer)\n",
    "fig\n",
    "\n",
    "# Add layer\n",
    "# fig.add_layer(heat_layer)\n",
    "\n",
    "# Display figure\n",
    "fig"
   ]
  }
 ],
 "metadata": {
  "kernelspec": {
   "display_name": "Python 3.9.12 ('base')",
   "language": "python",
   "name": "python3"
  },
  "language_info": {
   "codemirror_mode": {
    "name": "ipython",
    "version": 3
   },
   "file_extension": ".py",
   "mimetype": "text/x-python",
   "name": "python",
   "nbconvert_exporter": "python",
   "pygments_lexer": "ipython3",
   "version": "3.9.12"
  },
  "orig_nbformat": 4,
  "vscode": {
   "interpreter": {
    "hash": "db72c22d0a08e2d9295f5353b4119414611785e6b04a8fd1a6e2ba40ff32d790"
   }
  }
 },
 "nbformat": 4,
 "nbformat_minor": 2
}
