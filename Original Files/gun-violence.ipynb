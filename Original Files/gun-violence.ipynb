{
 "cells": [
  {
   "cell_type": "code",
   "execution_count": 1,
   "metadata": {},
   "outputs": [
    {
     "name": "stderr",
     "output_type": "stream",
     "text": [
      "/var/folders/wd/k3jgf14902jdltwk38wzc1440000gn/T/ipykernel_56995/3024727068.py:27: FutureWarning: The default value of regex will change from True to False in a future version.\n",
      "  raw_data_filtered[\"city_or_county\"] = raw_data[\"city_or_county\"].str.replace(r\"\\((.*?)\\)\", \"\")\n",
      "/var/folders/wd/k3jgf14902jdltwk38wzc1440000gn/T/ipykernel_56995/3024727068.py:27: SettingWithCopyWarning: \n",
      "A value is trying to be set on a copy of a slice from a DataFrame.\n",
      "Try using .loc[row_indexer,col_indexer] = value instead\n",
      "\n",
      "See the caveats in the documentation: https://pandas.pydata.org/pandas-docs/stable/user_guide/indexing.html#returning-a-view-versus-a-copy\n",
      "  raw_data_filtered[\"city_or_county\"] = raw_data[\"city_or_county\"].str.replace(r\"\\((.*?)\\)\", \"\")\n",
      "/var/folders/wd/k3jgf14902jdltwk38wzc1440000gn/T/ipykernel_56995/3024727068.py:30: SettingWithCopyWarning: \n",
      "A value is trying to be set on a copy of a slice from a DataFrame\n",
      "\n",
      "See the caveats in the documentation: https://pandas.pydata.org/pandas-docs/stable/user_guide/indexing.html#returning-a-view-versus-a-copy\n",
      "  raw_data_filtered.rename(columns = {'city_or_county':'city'}, inplace = True)\n",
      "/var/folders/wd/k3jgf14902jdltwk38wzc1440000gn/T/ipykernel_56995/3024727068.py:31: SettingWithCopyWarning: \n",
      "A value is trying to be set on a copy of a slice from a DataFrame.\n",
      "Try using .loc[row_indexer,col_indexer] = value instead\n",
      "\n",
      "See the caveats in the documentation: https://pandas.pydata.org/pandas-docs/stable/user_guide/indexing.html#returning-a-view-versus-a-copy\n",
      "  raw_data_filtered['incident_count'] = 1\n"
     ]
    },
    {
     "data": {
      "text/html": [
       "<div>\n",
       "<style scoped>\n",
       "    .dataframe tbody tr th:only-of-type {\n",
       "        vertical-align: middle;\n",
       "    }\n",
       "\n",
       "    .dataframe tbody tr th {\n",
       "        vertical-align: top;\n",
       "    }\n",
       "\n",
       "    .dataframe thead th {\n",
       "        text-align: right;\n",
       "    }\n",
       "</style>\n",
       "<table border=\"1\" class=\"dataframe\">\n",
       "  <thead>\n",
       "    <tr style=\"text-align: right;\">\n",
       "      <th></th>\n",
       "      <th></th>\n",
       "      <th>date</th>\n",
       "      <th>n_killed</th>\n",
       "      <th>n_injured</th>\n",
       "      <th>incident_count</th>\n",
       "    </tr>\n",
       "    <tr>\n",
       "      <th>state</th>\n",
       "      <th>city</th>\n",
       "      <th></th>\n",
       "      <th></th>\n",
       "      <th></th>\n",
       "      <th></th>\n",
       "    </tr>\n",
       "  </thead>\n",
       "  <tbody>\n",
       "    <tr>\n",
       "      <th>Oklahoma</th>\n",
       "      <th>Tulsa</th>\n",
       "      <td>2015-01-01</td>\n",
       "      <td>0</td>\n",
       "      <td>2</td>\n",
       "      <td>1</td>\n",
       "    </tr>\n",
       "    <tr>\n",
       "      <th>Louisiana</th>\n",
       "      <th>Labadieville</th>\n",
       "      <td>2015-01-01</td>\n",
       "      <td>1</td>\n",
       "      <td>0</td>\n",
       "      <td>1</td>\n",
       "    </tr>\n",
       "    <tr>\n",
       "      <th>Mississippi</th>\n",
       "      <th>Hattiesburg</th>\n",
       "      <td>2015-01-01</td>\n",
       "      <td>0</td>\n",
       "      <td>0</td>\n",
       "      <td>1</td>\n",
       "    </tr>\n",
       "    <tr>\n",
       "      <th>Alabama</th>\n",
       "      <th>Bessemer</th>\n",
       "      <td>2015-01-01</td>\n",
       "      <td>0</td>\n",
       "      <td>2</td>\n",
       "      <td>1</td>\n",
       "    </tr>\n",
       "    <tr>\n",
       "      <th>Illinois</th>\n",
       "      <th>Chicago</th>\n",
       "      <td>2015-01-01</td>\n",
       "      <td>0</td>\n",
       "      <td>1</td>\n",
       "      <td>1</td>\n",
       "    </tr>\n",
       "    <tr>\n",
       "      <th>...</th>\n",
       "      <th>...</th>\n",
       "      <td>...</td>\n",
       "      <td>...</td>\n",
       "      <td>...</td>\n",
       "      <td>...</td>\n",
       "    </tr>\n",
       "    <tr>\n",
       "      <th>Indiana</th>\n",
       "      <th>Fort Wayne</th>\n",
       "      <td>2016-12-31</td>\n",
       "      <td>0</td>\n",
       "      <td>0</td>\n",
       "      <td>1</td>\n",
       "    </tr>\n",
       "    <tr>\n",
       "      <th>Arkansas</th>\n",
       "      <th>Jonesboro</th>\n",
       "      <td>2016-12-31</td>\n",
       "      <td>0</td>\n",
       "      <td>0</td>\n",
       "      <td>1</td>\n",
       "    </tr>\n",
       "    <tr>\n",
       "      <th>Oklahoma</th>\n",
       "      <th>Oklahoma City</th>\n",
       "      <td>2016-12-31</td>\n",
       "      <td>1</td>\n",
       "      <td>0</td>\n",
       "      <td>1</td>\n",
       "    </tr>\n",
       "    <tr>\n",
       "      <th>Washington</th>\n",
       "      <th>Seattle</th>\n",
       "      <td>2016-12-31</td>\n",
       "      <td>0</td>\n",
       "      <td>1</td>\n",
       "      <td>1</td>\n",
       "    </tr>\n",
       "    <tr>\n",
       "      <th>Virginia</th>\n",
       "      <th>Newport News</th>\n",
       "      <td>2016-12-31</td>\n",
       "      <td>0</td>\n",
       "      <td>1</td>\n",
       "      <td>1</td>\n",
       "    </tr>\n",
       "  </tbody>\n",
       "</table>\n",
       "<p>112342 rows × 4 columns</p>\n",
       "</div>"
      ],
      "text/plain": [
       "                                date  n_killed  n_injured  incident_count\n",
       "state       city                                                         \n",
       "Oklahoma    Tulsa         2015-01-01         0          2               1\n",
       "Louisiana   Labadieville  2015-01-01         1          0               1\n",
       "Mississippi Hattiesburg   2015-01-01         0          0               1\n",
       "Alabama     Bessemer      2015-01-01         0          2               1\n",
       "Illinois    Chicago       2015-01-01         0          1               1\n",
       "...                              ...       ...        ...             ...\n",
       "Indiana     Fort Wayne    2016-12-31         0          0               1\n",
       "Arkansas    Jonesboro     2016-12-31         0          0               1\n",
       "Oklahoma    Oklahoma City 2016-12-31         1          0               1\n",
       "Washington  Seattle       2016-12-31         0          1               1\n",
       "Virginia    Newport News  2016-12-31         0          1               1\n",
       "\n",
       "[112342 rows x 4 columns]"
      ]
     },
     "execution_count": 1,
     "metadata": {},
     "output_type": "execute_result"
    }
   ],
   "source": [
    "import psycopg2\n",
    "import pandas as pd\n",
    "from flask import Flask, jsonify\n",
    "import sqlite3\n",
    "import re\n",
    "from typing import Pattern\n",
    "import json\n",
    "\n",
    "\n",
    "\n",
    "# Connect to gun_violence database\n",
    "con = sqlite3.connect(\"gun_violence.sqlite\")\n",
    "\n",
    "# Read data from gunviolencedata table and load into a DataFrame instance\n",
    "# raw_data = pd.read_sql(\"SELECT date, city_or_county, state, n_killed, n_injured from gunviolencedata WHERE (n_killed > 0 OR n_injured > 0);\", con);\n",
    "raw_data = pd.read_sql(\"SELECT date, city_or_county, state, n_killed, n_injured from gunviolencedata;\", con);\n",
    "pd.set_option('display.expand_frame_repr', False);\n",
    "con.close()\n",
    "\n",
    "\n",
    "\n",
    "raw_data['date'] = pd.to_datetime(raw_data['date'])\n",
    "\n",
    "raw_data_filtered = raw_data.loc[(raw_data['date'] >= '2015-01-01')\n",
    "                                & (raw_data['date'] <= '2016-12-31')]\n",
    "\n",
    "# ----------------- Data Cleaning --------------------------------- #\n",
    "# Remove all instances of \"(string)\" at end of city_or_county strings, if present.\n",
    "raw_data_filtered[\"city_or_county\"] = raw_data[\"city_or_county\"].str.replace(r\"\\((.*?)\\)\", \"\")\n",
    "raw_data['city_or_county'] = raw_data['city_or_county'].replace(['Saint Louis'], 'St. Louis')\n",
    "raw_data['city_or_county'] = raw_data['city_or_county'].str.strip()\n",
    "raw_data_filtered.rename(columns = {'city_or_county':'city'}, inplace = True)\n",
    "raw_data_filtered['incident_count'] = 1\n",
    "raw_data_filtered.to_csv('raw.csv')\n",
    "raw_data_filtered.set_index(['state', 'city'], inplace=True)\n",
    "# raw_data_filtered.dropna()\n",
    "\n",
    "raw_data_filtered"
   ]
  },
  {
   "cell_type": "code",
   "execution_count": 2,
   "metadata": {},
   "outputs": [],
   "source": [
    "cities= pd.read_csv('uscities.csv')\n",
    "coord = cities[['state_name','city', 'lat', 'lng', 'population']]\n",
    "\n",
    "coord.reset_index()\n",
    "coord.set_index(['state_name', 'city'], inplace=True)\n",
    "coord.index = coord.index.set_names('state', level=0)\n",
    "\n"
   ]
  },
  {
   "cell_type": "code",
   "execution_count": 3,
   "metadata": {},
   "outputs": [],
   "source": [
    "\n",
    "\n",
    "grouped_series = raw_data_filtered.groupby(['state', 'city'])['incident_count'].sum().sort_values(ascending=False)\n",
    "grouped_series\n",
    "grouped_df = grouped_series.to_frame()\n",
    "grouped_df.head()\n",
    "grouped_df.to_csv('grouped_df.csv')\n"
   ]
  },
  {
   "cell_type": "code",
   "execution_count": 4,
   "metadata": {},
   "outputs": [],
   "source": [
    "grouped_df= pd.merge(grouped_df, coord, how='left', on=['state', 'city'])\n",
    "grouped_df\n",
    "grouped_df.to_csv('grouped_df.csv')"
   ]
  },
  {
   "cell_type": "code",
   "execution_count": 5,
   "metadata": {},
   "outputs": [
    {
     "data": {
      "text/html": [
       "<div>\n",
       "<style scoped>\n",
       "    .dataframe tbody tr th:only-of-type {\n",
       "        vertical-align: middle;\n",
       "    }\n",
       "\n",
       "    .dataframe tbody tr th {\n",
       "        vertical-align: top;\n",
       "    }\n",
       "\n",
       "    .dataframe thead th {\n",
       "        text-align: right;\n",
       "    }\n",
       "</style>\n",
       "<table border=\"1\" class=\"dataframe\">\n",
       "  <thead>\n",
       "    <tr style=\"text-align: right;\">\n",
       "      <th></th>\n",
       "      <th></th>\n",
       "      <th>incident_count</th>\n",
       "      <th>lat</th>\n",
       "      <th>lng</th>\n",
       "      <th>population</th>\n",
       "      <th>per_capita</th>\n",
       "    </tr>\n",
       "    <tr>\n",
       "      <th>state</th>\n",
       "      <th>city</th>\n",
       "      <th></th>\n",
       "      <th></th>\n",
       "      <th></th>\n",
       "      <th></th>\n",
       "      <th></th>\n",
       "    </tr>\n",
       "  </thead>\n",
       "  <tbody>\n",
       "    <tr>\n",
       "      <th>South Carolina</th>\n",
       "      <th>Aiken</th>\n",
       "      <td>152</td>\n",
       "      <td>33.5303</td>\n",
       "      <td>-81.7271</td>\n",
       "      <td>31428.0</td>\n",
       "      <td>483.645157</td>\n",
       "    </tr>\n",
       "    <tr>\n",
       "      <th>Delaware</th>\n",
       "      <th>Wilmington</th>\n",
       "      <td>341</td>\n",
       "      <td>39.7415</td>\n",
       "      <td>-75.5416</td>\n",
       "      <td>70655.0</td>\n",
       "      <td>482.626849</td>\n",
       "    </tr>\n",
       "    <tr>\n",
       "      <th>Mississippi</th>\n",
       "      <th>Meridian</th>\n",
       "      <td>136</td>\n",
       "      <td>32.3846</td>\n",
       "      <td>-88.6896</td>\n",
       "      <td>37252.0</td>\n",
       "      <td>365.081069</td>\n",
       "    </tr>\n",
       "    <tr>\n",
       "      <th>Indiana</th>\n",
       "      <th>Gary</th>\n",
       "      <td>251</td>\n",
       "      <td>41.5905</td>\n",
       "      <td>-87.3473</td>\n",
       "      <td>75486.0</td>\n",
       "      <td>332.511989</td>\n",
       "    </tr>\n",
       "    <tr>\n",
       "      <th>Georgia</th>\n",
       "      <th>Statesboro</th>\n",
       "      <td>106</td>\n",
       "      <td>32.4375</td>\n",
       "      <td>-81.7751</td>\n",
       "      <td>32115.0</td>\n",
       "      <td>330.063833</td>\n",
       "    </tr>\n",
       "    <tr>\n",
       "      <th>...</th>\n",
       "      <th>...</th>\n",
       "      <td>...</td>\n",
       "      <td>...</td>\n",
       "      <td>...</td>\n",
       "      <td>...</td>\n",
       "      <td>...</td>\n",
       "    </tr>\n",
       "    <tr>\n",
       "      <th>Colorado</th>\n",
       "      <th>Lakewood</th>\n",
       "      <td>1</td>\n",
       "      <td>39.6977</td>\n",
       "      <td>-105.1172</td>\n",
       "      <td>155733.0</td>\n",
       "      <td>0.642125</td>\n",
       "    </tr>\n",
       "    <tr>\n",
       "      <th>California</th>\n",
       "      <th>Thousand Oaks</th>\n",
       "      <td>1</td>\n",
       "      <td>34.1914</td>\n",
       "      <td>-118.8756</td>\n",
       "      <td>212806.0</td>\n",
       "      <td>0.469912</td>\n",
       "    </tr>\n",
       "    <tr>\n",
       "      <th rowspan=\"2\" valign=\"top\">Texas</th>\n",
       "      <th>McKinney</th>\n",
       "      <td>1</td>\n",
       "      <td>33.2016</td>\n",
       "      <td>-96.6670</td>\n",
       "      <td>244536.0</td>\n",
       "      <td>0.408938</td>\n",
       "    </tr>\n",
       "    <tr>\n",
       "      <th>McAllen</th>\n",
       "      <td>1</td>\n",
       "      <td>26.2252</td>\n",
       "      <td>-98.2467</td>\n",
       "      <td>805270.0</td>\n",
       "      <td>0.124182</td>\n",
       "    </tr>\n",
       "    <tr>\n",
       "      <th>New York</th>\n",
       "      <th>New York</th>\n",
       "      <td>5</td>\n",
       "      <td>40.6943</td>\n",
       "      <td>-73.9249</td>\n",
       "      <td>18680025.0</td>\n",
       "      <td>0.026767</td>\n",
       "    </tr>\n",
       "  </tbody>\n",
       "</table>\n",
       "<p>1486 rows × 5 columns</p>\n",
       "</div>"
      ],
      "text/plain": [
       "                              incident_count      lat       lng  population  per_capita\n",
       "state          city                                                                    \n",
       "South Carolina Aiken                     152  33.5303  -81.7271     31428.0  483.645157\n",
       "Delaware       Wilmington                341  39.7415  -75.5416     70655.0  482.626849\n",
       "Mississippi    Meridian                  136  32.3846  -88.6896     37252.0  365.081069\n",
       "Indiana        Gary                      251  41.5905  -87.3473     75486.0  332.511989\n",
       "Georgia        Statesboro                106  32.4375  -81.7751     32115.0  330.063833\n",
       "...                                      ...      ...       ...         ...         ...\n",
       "Colorado       Lakewood                    1  39.6977 -105.1172    155733.0    0.642125\n",
       "California     Thousand Oaks               1  34.1914 -118.8756    212806.0    0.469912\n",
       "Texas          McKinney                    1  33.2016  -96.6670    244536.0    0.408938\n",
       "               McAllen                     1  26.2252  -98.2467    805270.0    0.124182\n",
       "New York       New York                    5  40.6943  -73.9249  18680025.0    0.026767\n",
       "\n",
       "[1486 rows x 5 columns]"
      ]
     },
     "execution_count": 5,
     "metadata": {},
     "output_type": "execute_result"
    }
   ],
   "source": [
    "grouped_df['per_capita'] = grouped_df.eval('(incident_count/population)*100000')\n",
    "grouped_filtered = grouped_df.loc[(grouped_df['population'] > 25000)]\n",
    "grouped_filtered.sort_values(by='per_capita', ascending=False)"
   ]
  },
  {
   "cell_type": "code",
   "execution_count": 6,
   "metadata": {},
   "outputs": [
    {
     "data": {
      "text/html": [
       "<div>\n",
       "<style scoped>\n",
       "    .dataframe tbody tr th:only-of-type {\n",
       "        vertical-align: middle;\n",
       "    }\n",
       "\n",
       "    .dataframe tbody tr th {\n",
       "        vertical-align: top;\n",
       "    }\n",
       "\n",
       "    .dataframe thead th {\n",
       "        text-align: right;\n",
       "    }\n",
       "</style>\n",
       "<table border=\"1\" class=\"dataframe\">\n",
       "  <thead>\n",
       "    <tr style=\"text-align: right;\">\n",
       "      <th></th>\n",
       "      <th></th>\n",
       "      <th>incident_count</th>\n",
       "      <th>lat</th>\n",
       "      <th>lng</th>\n",
       "      <th>population</th>\n",
       "      <th>per_capita</th>\n",
       "    </tr>\n",
       "    <tr>\n",
       "      <th>state</th>\n",
       "      <th>city</th>\n",
       "      <th></th>\n",
       "      <th></th>\n",
       "      <th></th>\n",
       "      <th></th>\n",
       "      <th></th>\n",
       "    </tr>\n",
       "  </thead>\n",
       "  <tbody>\n",
       "    <tr>\n",
       "      <th>South Carolina</th>\n",
       "      <th>Aiken</th>\n",
       "      <td>152</td>\n",
       "      <td>33.5303</td>\n",
       "      <td>-81.7271</td>\n",
       "      <td>31428.0</td>\n",
       "      <td>483.645157</td>\n",
       "    </tr>\n",
       "    <tr>\n",
       "      <th>Delaware</th>\n",
       "      <th>Wilmington</th>\n",
       "      <td>341</td>\n",
       "      <td>39.7415</td>\n",
       "      <td>-75.5416</td>\n",
       "      <td>70655.0</td>\n",
       "      <td>482.626849</td>\n",
       "    </tr>\n",
       "    <tr>\n",
       "      <th>Mississippi</th>\n",
       "      <th>Meridian</th>\n",
       "      <td>136</td>\n",
       "      <td>32.3846</td>\n",
       "      <td>-88.6896</td>\n",
       "      <td>37252.0</td>\n",
       "      <td>365.081069</td>\n",
       "    </tr>\n",
       "    <tr>\n",
       "      <th>Indiana</th>\n",
       "      <th>Gary</th>\n",
       "      <td>251</td>\n",
       "      <td>41.5905</td>\n",
       "      <td>-87.3473</td>\n",
       "      <td>75486.0</td>\n",
       "      <td>332.511989</td>\n",
       "    </tr>\n",
       "    <tr>\n",
       "      <th>Georgia</th>\n",
       "      <th>Statesboro</th>\n",
       "      <td>106</td>\n",
       "      <td>32.4375</td>\n",
       "      <td>-81.7751</td>\n",
       "      <td>32115.0</td>\n",
       "      <td>330.063833</td>\n",
       "    </tr>\n",
       "    <tr>\n",
       "      <th>North Carolina</th>\n",
       "      <th>Goldsboro</th>\n",
       "      <td>95</td>\n",
       "      <td>35.3778</td>\n",
       "      <td>-77.9717</td>\n",
       "      <td>34610.0</td>\n",
       "      <td>274.487142</td>\n",
       "    </tr>\n",
       "    <tr>\n",
       "      <th>Massachusetts</th>\n",
       "      <th>Brockton</th>\n",
       "      <td>260</td>\n",
       "      <td>42.0821</td>\n",
       "      <td>-71.0242</td>\n",
       "      <td>95740.0</td>\n",
       "      <td>271.568832</td>\n",
       "    </tr>\n",
       "    <tr>\n",
       "      <th>Maryland</th>\n",
       "      <th>Annapolis</th>\n",
       "      <td>106</td>\n",
       "      <td>38.9706</td>\n",
       "      <td>-76.5047</td>\n",
       "      <td>39321.0</td>\n",
       "      <td>269.576054</td>\n",
       "    </tr>\n",
       "    <tr>\n",
       "      <th>Wyoming</th>\n",
       "      <th>Casper</th>\n",
       "      <td>170</td>\n",
       "      <td>42.8420</td>\n",
       "      <td>-106.3208</td>\n",
       "      <td>63962.0</td>\n",
       "      <td>265.782809</td>\n",
       "    </tr>\n",
       "    <tr>\n",
       "      <th>Florida</th>\n",
       "      <th>Fort Pierce</th>\n",
       "      <td>120</td>\n",
       "      <td>27.4255</td>\n",
       "      <td>-80.3431</td>\n",
       "      <td>45855.0</td>\n",
       "      <td>261.694472</td>\n",
       "    </tr>\n",
       "    <tr>\n",
       "      <th>North Carolina</th>\n",
       "      <th>Salisbury</th>\n",
       "      <td>88</td>\n",
       "      <td>35.6658</td>\n",
       "      <td>-80.4905</td>\n",
       "      <td>33961.0</td>\n",
       "      <td>259.120756</td>\n",
       "    </tr>\n",
       "    <tr>\n",
       "      <th>Iowa</th>\n",
       "      <th>Waterloo</th>\n",
       "      <td>284</td>\n",
       "      <td>42.4918</td>\n",
       "      <td>-92.3522</td>\n",
       "      <td>115266.0</td>\n",
       "      <td>246.386619</td>\n",
       "    </tr>\n",
       "    <tr>\n",
       "      <th>Alaska</th>\n",
       "      <th>Juneau</th>\n",
       "      <td>79</td>\n",
       "      <td>58.4546</td>\n",
       "      <td>-134.1739</td>\n",
       "      <td>32099.0</td>\n",
       "      <td>246.113586</td>\n",
       "    </tr>\n",
       "    <tr>\n",
       "      <th>Massachusetts</th>\n",
       "      <th>Pittsfield</th>\n",
       "      <td>103</td>\n",
       "      <td>42.4517</td>\n",
       "      <td>-73.2605</td>\n",
       "      <td>42514.0</td>\n",
       "      <td>242.273134</td>\n",
       "    </tr>\n",
       "    <tr>\n",
       "      <th>Kentucky</th>\n",
       "      <th>Hopkinsville</th>\n",
       "      <td>75</td>\n",
       "      <td>36.8381</td>\n",
       "      <td>-87.4775</td>\n",
       "      <td>31052.0</td>\n",
       "      <td>241.530336</td>\n",
       "    </tr>\n",
       "    <tr>\n",
       "      <th>Tennessee</th>\n",
       "      <th>Jackson</th>\n",
       "      <td>164</td>\n",
       "      <td>35.6538</td>\n",
       "      <td>-88.8354</td>\n",
       "      <td>71004.0</td>\n",
       "      <td>230.972903</td>\n",
       "    </tr>\n",
       "    <tr>\n",
       "      <th>Florida</th>\n",
       "      <th>Fort Myers</th>\n",
       "      <td>189</td>\n",
       "      <td>26.6194</td>\n",
       "      <td>-81.8302</td>\n",
       "      <td>83505.0</td>\n",
       "      <td>226.333752</td>\n",
       "    </tr>\n",
       "    <tr>\n",
       "      <th>Missouri</th>\n",
       "      <th>Cape Girardeau</th>\n",
       "      <td>89</td>\n",
       "      <td>37.3109</td>\n",
       "      <td>-89.5597</td>\n",
       "      <td>40100.0</td>\n",
       "      <td>221.945137</td>\n",
       "    </tr>\n",
       "    <tr>\n",
       "      <th>California</th>\n",
       "      <th>Eureka</th>\n",
       "      <td>59</td>\n",
       "      <td>40.7943</td>\n",
       "      <td>-124.1564</td>\n",
       "      <td>26938.0</td>\n",
       "      <td>219.021457</td>\n",
       "    </tr>\n",
       "    <tr>\n",
       "      <th>New Jersey</th>\n",
       "      <th>Millville</th>\n",
       "      <td>58</td>\n",
       "      <td>39.3903</td>\n",
       "      <td>-75.0561</td>\n",
       "      <td>27485.0</td>\n",
       "      <td>211.024195</td>\n",
       "    </tr>\n",
       "    <tr>\n",
       "      <th>Georgia</th>\n",
       "      <th>Rome</th>\n",
       "      <td>138</td>\n",
       "      <td>34.2662</td>\n",
       "      <td>-85.1863</td>\n",
       "      <td>66998.0</td>\n",
       "      <td>205.976298</td>\n",
       "    </tr>\n",
       "    <tr>\n",
       "      <th>New Jersey</th>\n",
       "      <th>Paterson</th>\n",
       "      <td>298</td>\n",
       "      <td>40.9147</td>\n",
       "      <td>-74.1624</td>\n",
       "      <td>145484.0</td>\n",
       "      <td>204.833521</td>\n",
       "    </tr>\n",
       "    <tr>\n",
       "      <th>New York</th>\n",
       "      <th>Niagara Falls</th>\n",
       "      <td>98</td>\n",
       "      <td>43.0921</td>\n",
       "      <td>-79.0147</td>\n",
       "      <td>47978.0</td>\n",
       "      <td>204.260286</td>\n",
       "    </tr>\n",
       "    <tr>\n",
       "      <th>Michigan</th>\n",
       "      <th>Pontiac</th>\n",
       "      <td>120</td>\n",
       "      <td>42.6493</td>\n",
       "      <td>-83.2878</td>\n",
       "      <td>59714.0</td>\n",
       "      <td>200.957899</td>\n",
       "    </tr>\n",
       "    <tr>\n",
       "      <th>Virginia</th>\n",
       "      <th>Danville</th>\n",
       "      <td>81</td>\n",
       "      <td>36.5831</td>\n",
       "      <td>-79.4088</td>\n",
       "      <td>40668.0</td>\n",
       "      <td>199.173798</td>\n",
       "    </tr>\n",
       "    <tr>\n",
       "      <th>Louisiana</th>\n",
       "      <th>Marrero</th>\n",
       "      <td>63</td>\n",
       "      <td>29.8871</td>\n",
       "      <td>-90.1126</td>\n",
       "      <td>31751.0</td>\n",
       "      <td>198.418947</td>\n",
       "    </tr>\n",
       "    <tr>\n",
       "      <th>Florida</th>\n",
       "      <th>West Palm Beach</th>\n",
       "      <td>219</td>\n",
       "      <td>26.7469</td>\n",
       "      <td>-80.1320</td>\n",
       "      <td>111006.0</td>\n",
       "      <td>197.286633</td>\n",
       "    </tr>\n",
       "    <tr>\n",
       "      <th>Alaska</th>\n",
       "      <th>Fairbanks</th>\n",
       "      <td>124</td>\n",
       "      <td>64.8353</td>\n",
       "      <td>-147.6533</td>\n",
       "      <td>64160.0</td>\n",
       "      <td>193.266833</td>\n",
       "    </tr>\n",
       "    <tr>\n",
       "      <th>Virginia</th>\n",
       "      <th>Petersburg</th>\n",
       "      <td>59</td>\n",
       "      <td>37.2043</td>\n",
       "      <td>-77.3913</td>\n",
       "      <td>30791.0</td>\n",
       "      <td>191.614433</td>\n",
       "    </tr>\n",
       "    <tr>\n",
       "      <th>Florida</th>\n",
       "      <th>Bradenton</th>\n",
       "      <td>109</td>\n",
       "      <td>27.4901</td>\n",
       "      <td>-82.5757</td>\n",
       "      <td>57346.0</td>\n",
       "      <td>190.074286</td>\n",
       "    </tr>\n",
       "    <tr>\n",
       "      <th>Missouri</th>\n",
       "      <th>Columbia</th>\n",
       "      <td>252</td>\n",
       "      <td>38.9472</td>\n",
       "      <td>-92.3268</td>\n",
       "      <td>132806.0</td>\n",
       "      <td>189.750463</td>\n",
       "    </tr>\n",
       "    <tr>\n",
       "      <th>Indiana</th>\n",
       "      <th>East Chicago</th>\n",
       "      <td>53</td>\n",
       "      <td>41.6469</td>\n",
       "      <td>-87.4545</td>\n",
       "      <td>28044.0</td>\n",
       "      <td>188.988732</td>\n",
       "    </tr>\n",
       "    <tr>\n",
       "      <th>Pennsylvania</th>\n",
       "      <th>Chester</th>\n",
       "      <td>60</td>\n",
       "      <td>39.8456</td>\n",
       "      <td>-75.3718</td>\n",
       "      <td>33855.0</td>\n",
       "      <td>177.226407</td>\n",
       "    </tr>\n",
       "    <tr>\n",
       "      <th>Arkansas</th>\n",
       "      <th>Jonesboro</th>\n",
       "      <td>128</td>\n",
       "      <td>35.8212</td>\n",
       "      <td>-90.6791</td>\n",
       "      <td>73631.0</td>\n",
       "      <td>173.839823</td>\n",
       "    </tr>\n",
       "    <tr>\n",
       "      <th>Alabama</th>\n",
       "      <th>Bessemer</th>\n",
       "      <td>44</td>\n",
       "      <td>33.3712</td>\n",
       "      <td>-86.9728</td>\n",
       "      <td>26063.0</td>\n",
       "      <td>168.821701</td>\n",
       "    </tr>\n",
       "    <tr>\n",
       "      <th>Connecticut</th>\n",
       "      <th>New London</th>\n",
       "      <td>43</td>\n",
       "      <td>41.3502</td>\n",
       "      <td>-72.1022</td>\n",
       "      <td>27001.0</td>\n",
       "      <td>159.253361</td>\n",
       "    </tr>\n",
       "    <tr>\n",
       "      <th>Massachusetts</th>\n",
       "      <th>Holyoke</th>\n",
       "      <td>63</td>\n",
       "      <td>42.2125</td>\n",
       "      <td>-72.6411</td>\n",
       "      <td>40161.0</td>\n",
       "      <td>156.868604</td>\n",
       "    </tr>\n",
       "    <tr>\n",
       "      <th>Louisiana</th>\n",
       "      <th>New Orleans</th>\n",
       "      <td>1478</td>\n",
       "      <td>30.0687</td>\n",
       "      <td>-89.9288</td>\n",
       "      <td>957783.0</td>\n",
       "      <td>154.314704</td>\n",
       "    </tr>\n",
       "    <tr>\n",
       "      <th>New Hampshire</th>\n",
       "      <th>Rochester</th>\n",
       "      <td>48</td>\n",
       "      <td>43.2990</td>\n",
       "      <td>-70.9787</td>\n",
       "      <td>31305.0</td>\n",
       "      <td>153.330139</td>\n",
       "    </tr>\n",
       "    <tr>\n",
       "      <th>South Carolina</th>\n",
       "      <th>Summerville</th>\n",
       "      <td>80</td>\n",
       "      <td>33.0016</td>\n",
       "      <td>-80.1799</td>\n",
       "      <td>53643.0</td>\n",
       "      <td>149.134090</td>\n",
       "    </tr>\n",
       "    <tr>\n",
       "      <th>New Jersey</th>\n",
       "      <th>Camden</th>\n",
       "      <td>108</td>\n",
       "      <td>39.9361</td>\n",
       "      <td>-75.1073</td>\n",
       "      <td>73742.0</td>\n",
       "      <td>146.456565</td>\n",
       "    </tr>\n",
       "    <tr>\n",
       "      <th>Georgia</th>\n",
       "      <th>Columbus</th>\n",
       "      <td>362</td>\n",
       "      <td>32.5100</td>\n",
       "      <td>-84.8771</td>\n",
       "      <td>249510.0</td>\n",
       "      <td>145.084365</td>\n",
       "    </tr>\n",
       "    <tr>\n",
       "      <th>Illinois</th>\n",
       "      <th>Peoria</th>\n",
       "      <td>367</td>\n",
       "      <td>40.7520</td>\n",
       "      <td>-89.6154</td>\n",
       "      <td>253461.0</td>\n",
       "      <td>144.795452</td>\n",
       "    </tr>\n",
       "    <tr>\n",
       "      <th>Virginia</th>\n",
       "      <th>Newport News</th>\n",
       "      <td>259</td>\n",
       "      <td>37.1051</td>\n",
       "      <td>-76.5185</td>\n",
       "      <td>179582.0</td>\n",
       "      <td>144.223809</td>\n",
       "    </tr>\n",
       "    <tr>\n",
       "      <th>Georgia</th>\n",
       "      <th>Macon</th>\n",
       "      <td>220</td>\n",
       "      <td>32.8065</td>\n",
       "      <td>-83.6974</td>\n",
       "      <td>153026.0</td>\n",
       "      <td>143.766419</td>\n",
       "    </tr>\n",
       "    <tr>\n",
       "      <th>Virginia</th>\n",
       "      <th>Hampton</th>\n",
       "      <td>192</td>\n",
       "      <td>37.0551</td>\n",
       "      <td>-76.3630</td>\n",
       "      <td>135169.0</td>\n",
       "      <td>142.044404</td>\n",
       "    </tr>\n",
       "    <tr>\n",
       "      <th>Illinois</th>\n",
       "      <th>Rockford</th>\n",
       "      <td>397</td>\n",
       "      <td>42.2596</td>\n",
       "      <td>-89.0640</td>\n",
       "      <td>280337.0</td>\n",
       "      <td>141.615270</td>\n",
       "    </tr>\n",
       "    <tr>\n",
       "      <th>Texas</th>\n",
       "      <th>Mansfield</th>\n",
       "      <td>101</td>\n",
       "      <td>32.5690</td>\n",
       "      <td>-97.1213</td>\n",
       "      <td>71419.0</td>\n",
       "      <td>141.418950</td>\n",
       "    </tr>\n",
       "    <tr>\n",
       "      <th>Georgia</th>\n",
       "      <th>Savannah</th>\n",
       "      <td>402</td>\n",
       "      <td>32.0286</td>\n",
       "      <td>-81.1821</td>\n",
       "      <td>284429.0</td>\n",
       "      <td>141.335799</td>\n",
       "    </tr>\n",
       "    <tr>\n",
       "      <th>South Carolina</th>\n",
       "      <th>Rock Hill</th>\n",
       "      <td>165</td>\n",
       "      <td>34.9415</td>\n",
       "      <td>-81.0241</td>\n",
       "      <td>116746.0</td>\n",
       "      <td>141.332465</td>\n",
       "    </tr>\n",
       "  </tbody>\n",
       "</table>\n",
       "</div>"
      ],
      "text/plain": [
       "                                incident_count      lat       lng  population  per_capita\n",
       "state          city                                                                      \n",
       "South Carolina Aiken                       152  33.5303  -81.7271     31428.0  483.645157\n",
       "Delaware       Wilmington                  341  39.7415  -75.5416     70655.0  482.626849\n",
       "Mississippi    Meridian                    136  32.3846  -88.6896     37252.0  365.081069\n",
       "Indiana        Gary                        251  41.5905  -87.3473     75486.0  332.511989\n",
       "Georgia        Statesboro                  106  32.4375  -81.7751     32115.0  330.063833\n",
       "North Carolina Goldsboro                    95  35.3778  -77.9717     34610.0  274.487142\n",
       "Massachusetts  Brockton                    260  42.0821  -71.0242     95740.0  271.568832\n",
       "Maryland       Annapolis                   106  38.9706  -76.5047     39321.0  269.576054\n",
       "Wyoming        Casper                      170  42.8420 -106.3208     63962.0  265.782809\n",
       "Florida        Fort Pierce                 120  27.4255  -80.3431     45855.0  261.694472\n",
       "North Carolina Salisbury                    88  35.6658  -80.4905     33961.0  259.120756\n",
       "Iowa           Waterloo                    284  42.4918  -92.3522    115266.0  246.386619\n",
       "Alaska         Juneau                       79  58.4546 -134.1739     32099.0  246.113586\n",
       "Massachusetts  Pittsfield                  103  42.4517  -73.2605     42514.0  242.273134\n",
       "Kentucky       Hopkinsville                 75  36.8381  -87.4775     31052.0  241.530336\n",
       "Tennessee      Jackson                     164  35.6538  -88.8354     71004.0  230.972903\n",
       "Florida        Fort Myers                  189  26.6194  -81.8302     83505.0  226.333752\n",
       "Missouri       Cape Girardeau               89  37.3109  -89.5597     40100.0  221.945137\n",
       "California     Eureka                       59  40.7943 -124.1564     26938.0  219.021457\n",
       "New Jersey     Millville                    58  39.3903  -75.0561     27485.0  211.024195\n",
       "Georgia        Rome                        138  34.2662  -85.1863     66998.0  205.976298\n",
       "New Jersey     Paterson                    298  40.9147  -74.1624    145484.0  204.833521\n",
       "New York       Niagara Falls                98  43.0921  -79.0147     47978.0  204.260286\n",
       "Michigan       Pontiac                     120  42.6493  -83.2878     59714.0  200.957899\n",
       "Virginia       Danville                     81  36.5831  -79.4088     40668.0  199.173798\n",
       "Louisiana      Marrero                      63  29.8871  -90.1126     31751.0  198.418947\n",
       "Florida        West Palm Beach             219  26.7469  -80.1320    111006.0  197.286633\n",
       "Alaska         Fairbanks                   124  64.8353 -147.6533     64160.0  193.266833\n",
       "Virginia       Petersburg                   59  37.2043  -77.3913     30791.0  191.614433\n",
       "Florida        Bradenton                   109  27.4901  -82.5757     57346.0  190.074286\n",
       "Missouri       Columbia                    252  38.9472  -92.3268    132806.0  189.750463\n",
       "Indiana        East Chicago                 53  41.6469  -87.4545     28044.0  188.988732\n",
       "Pennsylvania   Chester                      60  39.8456  -75.3718     33855.0  177.226407\n",
       "Arkansas       Jonesboro                   128  35.8212  -90.6791     73631.0  173.839823\n",
       "Alabama        Bessemer                     44  33.3712  -86.9728     26063.0  168.821701\n",
       "Connecticut    New London                   43  41.3502  -72.1022     27001.0  159.253361\n",
       "Massachusetts  Holyoke                      63  42.2125  -72.6411     40161.0  156.868604\n",
       "Louisiana      New Orleans                1478  30.0687  -89.9288    957783.0  154.314704\n",
       "New Hampshire  Rochester                    48  43.2990  -70.9787     31305.0  153.330139\n",
       "South Carolina Summerville                  80  33.0016  -80.1799     53643.0  149.134090\n",
       "New Jersey     Camden                      108  39.9361  -75.1073     73742.0  146.456565\n",
       "Georgia        Columbus                    362  32.5100  -84.8771    249510.0  145.084365\n",
       "Illinois       Peoria                      367  40.7520  -89.6154    253461.0  144.795452\n",
       "Virginia       Newport News                259  37.1051  -76.5185    179582.0  144.223809\n",
       "Georgia        Macon                       220  32.8065  -83.6974    153026.0  143.766419\n",
       "Virginia       Hampton                     192  37.0551  -76.3630    135169.0  142.044404\n",
       "Illinois       Rockford                    397  42.2596  -89.0640    280337.0  141.615270\n",
       "Texas          Mansfield                   101  32.5690  -97.1213     71419.0  141.418950\n",
       "Georgia        Savannah                    402  32.0286  -81.1821    284429.0  141.335799\n",
       "South Carolina Rock Hill                   165  34.9415  -81.0241    116746.0  141.332465"
      ]
     },
     "execution_count": 6,
     "metadata": {},
     "output_type": "execute_result"
    }
   ],
   "source": [
    "grouped_filtered = grouped_filtered.sort_values(by='per_capita', ascending=False)\n",
    "grouped_filtered.to_csv('us_per_capita.csv')\n",
    "grouped_filtered.head(50)"
   ]
  },
  {
   "cell_type": "code",
   "execution_count": 7,
   "metadata": {},
   "outputs": [
    {
     "data": {
      "text/html": [
       "<div>\n",
       "<style scoped>\n",
       "    .dataframe tbody tr th:only-of-type {\n",
       "        vertical-align: middle;\n",
       "    }\n",
       "\n",
       "    .dataframe tbody tr th {\n",
       "        vertical-align: top;\n",
       "    }\n",
       "\n",
       "    .dataframe thead th {\n",
       "        text-align: right;\n",
       "    }\n",
       "</style>\n",
       "<table border=\"1\" class=\"dataframe\">\n",
       "  <thead>\n",
       "    <tr style=\"text-align: right;\">\n",
       "      <th></th>\n",
       "      <th></th>\n",
       "      <th>incident_count</th>\n",
       "      <th>lat</th>\n",
       "      <th>lng</th>\n",
       "      <th>population</th>\n",
       "      <th>per_capita</th>\n",
       "    </tr>\n",
       "    <tr>\n",
       "      <th>state</th>\n",
       "      <th>city</th>\n",
       "      <th></th>\n",
       "      <th></th>\n",
       "      <th></th>\n",
       "      <th></th>\n",
       "      <th></th>\n",
       "    </tr>\n",
       "  </thead>\n",
       "  <tbody>\n",
       "    <tr>\n",
       "      <th rowspan=\"20\" valign=\"top\">California</th>\n",
       "      <th>Eureka</th>\n",
       "      <td>59</td>\n",
       "      <td>40.7943</td>\n",
       "      <td>-124.1564</td>\n",
       "      <td>26938.0</td>\n",
       "      <td>219.021457</td>\n",
       "    </tr>\n",
       "    <tr>\n",
       "      <th>Desert Hot Springs</th>\n",
       "      <td>33</td>\n",
       "      <td>33.9550</td>\n",
       "      <td>-116.5429</td>\n",
       "      <td>29280.0</td>\n",
       "      <td>112.704918</td>\n",
       "    </tr>\n",
       "    <tr>\n",
       "      <th>Oakland</th>\n",
       "      <td>471</td>\n",
       "      <td>37.7904</td>\n",
       "      <td>-122.2166</td>\n",
       "      <td>422575.0</td>\n",
       "      <td>111.459504</td>\n",
       "    </tr>\n",
       "    <tr>\n",
       "      <th>Salinas</th>\n",
       "      <td>171</td>\n",
       "      <td>36.6883</td>\n",
       "      <td>-121.6317</td>\n",
       "      <td>190345.0</td>\n",
       "      <td>89.836875</td>\n",
       "    </tr>\n",
       "    <tr>\n",
       "      <th>Atwater</th>\n",
       "      <td>25</td>\n",
       "      <td>37.3529</td>\n",
       "      <td>-120.5959</td>\n",
       "      <td>30336.0</td>\n",
       "      <td>82.410338</td>\n",
       "    </tr>\n",
       "    <tr>\n",
       "      <th>Richmond</th>\n",
       "      <td>82</td>\n",
       "      <td>37.9477</td>\n",
       "      <td>-122.3389</td>\n",
       "      <td>110051.0</td>\n",
       "      <td>74.510909</td>\n",
       "    </tr>\n",
       "    <tr>\n",
       "      <th>Fresno</th>\n",
       "      <td>510</td>\n",
       "      <td>36.7830</td>\n",
       "      <td>-119.7939</td>\n",
       "      <td>702486.0</td>\n",
       "      <td>72.599312</td>\n",
       "    </tr>\n",
       "    <tr>\n",
       "      <th>Coachella</th>\n",
       "      <td>29</td>\n",
       "      <td>33.6905</td>\n",
       "      <td>-116.1430</td>\n",
       "      <td>45658.0</td>\n",
       "      <td>63.515704</td>\n",
       "    </tr>\n",
       "    <tr>\n",
       "      <th>San Bernardino</th>\n",
       "      <td>132</td>\n",
       "      <td>34.1416</td>\n",
       "      <td>-117.2943</td>\n",
       "      <td>216784.0</td>\n",
       "      <td>60.890103</td>\n",
       "    </tr>\n",
       "    <tr>\n",
       "      <th>Pasadena</th>\n",
       "      <td>81</td>\n",
       "      <td>34.1597</td>\n",
       "      <td>-118.1390</td>\n",
       "      <td>142017.0</td>\n",
       "      <td>57.035425</td>\n",
       "    </tr>\n",
       "    <tr>\n",
       "      <th>Santa Paula</th>\n",
       "      <td>16</td>\n",
       "      <td>34.3545</td>\n",
       "      <td>-119.0656</td>\n",
       "      <td>30297.0</td>\n",
       "      <td>52.810509</td>\n",
       "    </tr>\n",
       "    <tr>\n",
       "      <th>Merced</th>\n",
       "      <td>74</td>\n",
       "      <td>37.3057</td>\n",
       "      <td>-120.4779</td>\n",
       "      <td>147690.0</td>\n",
       "      <td>50.104950</td>\n",
       "    </tr>\n",
       "    <tr>\n",
       "      <th>Compton</th>\n",
       "      <td>45</td>\n",
       "      <td>33.8930</td>\n",
       "      <td>-118.2274</td>\n",
       "      <td>95804.0</td>\n",
       "      <td>46.970899</td>\n",
       "    </tr>\n",
       "    <tr>\n",
       "      <th>Palm Springs</th>\n",
       "      <td>21</td>\n",
       "      <td>33.8017</td>\n",
       "      <td>-116.5382</td>\n",
       "      <td>48390.0</td>\n",
       "      <td>43.397396</td>\n",
       "    </tr>\n",
       "    <tr>\n",
       "      <th>Oxnard</th>\n",
       "      <td>162</td>\n",
       "      <td>34.1964</td>\n",
       "      <td>-119.1815</td>\n",
       "      <td>378990.0</td>\n",
       "      <td>42.745191</td>\n",
       "    </tr>\n",
       "    <tr>\n",
       "      <th>Bakersfield</th>\n",
       "      <td>220</td>\n",
       "      <td>35.3529</td>\n",
       "      <td>-119.0359</td>\n",
       "      <td>556892.0</td>\n",
       "      <td>39.504967</td>\n",
       "    </tr>\n",
       "    <tr>\n",
       "      <th>Santa Ana</th>\n",
       "      <td>122</td>\n",
       "      <td>33.7367</td>\n",
       "      <td>-117.8819</td>\n",
       "      <td>332610.0</td>\n",
       "      <td>36.679595</td>\n",
       "    </tr>\n",
       "    <tr>\n",
       "      <th>Norwalk</th>\n",
       "      <td>38</td>\n",
       "      <td>33.9069</td>\n",
       "      <td>-118.0829</td>\n",
       "      <td>104524.0</td>\n",
       "      <td>36.355287</td>\n",
       "    </tr>\n",
       "    <tr>\n",
       "      <th>Soledad</th>\n",
       "      <td>9</td>\n",
       "      <td>36.4432</td>\n",
       "      <td>-121.3426</td>\n",
       "      <td>25667.0</td>\n",
       "      <td>35.064480</td>\n",
       "    </tr>\n",
       "    <tr>\n",
       "      <th>Cathedral City</th>\n",
       "      <td>19</td>\n",
       "      <td>33.8362</td>\n",
       "      <td>-116.4642</td>\n",
       "      <td>54812.0</td>\n",
       "      <td>34.663942</td>\n",
       "    </tr>\n",
       "  </tbody>\n",
       "</table>\n",
       "</div>"
      ],
      "text/plain": [
       "                               incident_count      lat       lng  population  per_capita\n",
       "state      city                                                                         \n",
       "California Eureka                          59  40.7943 -124.1564     26938.0  219.021457\n",
       "           Desert Hot Springs              33  33.9550 -116.5429     29280.0  112.704918\n",
       "           Oakland                        471  37.7904 -122.2166    422575.0  111.459504\n",
       "           Salinas                        171  36.6883 -121.6317    190345.0   89.836875\n",
       "           Atwater                         25  37.3529 -120.5959     30336.0   82.410338\n",
       "           Richmond                        82  37.9477 -122.3389    110051.0   74.510909\n",
       "           Fresno                         510  36.7830 -119.7939    702486.0   72.599312\n",
       "           Coachella                       29  33.6905 -116.1430     45658.0   63.515704\n",
       "           San Bernardino                 132  34.1416 -117.2943    216784.0   60.890103\n",
       "           Pasadena                        81  34.1597 -118.1390    142017.0   57.035425\n",
       "           Santa Paula                     16  34.3545 -119.0656     30297.0   52.810509\n",
       "           Merced                          74  37.3057 -120.4779    147690.0   50.104950\n",
       "           Compton                         45  33.8930 -118.2274     95804.0   46.970899\n",
       "           Palm Springs                    21  33.8017 -116.5382     48390.0   43.397396\n",
       "           Oxnard                         162  34.1964 -119.1815    378990.0   42.745191\n",
       "           Bakersfield                    220  35.3529 -119.0359    556892.0   39.504967\n",
       "           Santa Ana                      122  33.7367 -117.8819    332610.0   36.679595\n",
       "           Norwalk                         38  33.9069 -118.0829    104524.0   36.355287\n",
       "           Soledad                          9  36.4432 -121.3426     25667.0   35.064480\n",
       "           Cathedral City                  19  33.8362 -116.4642     54812.0   34.663942"
      ]
     },
     "execution_count": 7,
     "metadata": {},
     "output_type": "execute_result"
    }
   ],
   "source": [
    "\n",
    "california = grouped_filtered.query(\"state == 'California'\")\n",
    "california = california.sort_values(by='per_capita', ascending=False)\n",
    "california.head(20)"
   ]
  },
  {
   "cell_type": "code",
   "execution_count": 12,
   "metadata": {},
   "outputs": [
    {
     "data": {
      "text/html": [
       "<div>\n",
       "<style scoped>\n",
       "    .dataframe tbody tr th:only-of-type {\n",
       "        vertical-align: middle;\n",
       "    }\n",
       "\n",
       "    .dataframe tbody tr th {\n",
       "        vertical-align: top;\n",
       "    }\n",
       "\n",
       "    .dataframe thead th {\n",
       "        text-align: right;\n",
       "    }\n",
       "</style>\n",
       "<table border=\"1\" class=\"dataframe\">\n",
       "  <thead>\n",
       "    <tr style=\"text-align: right;\">\n",
       "      <th></th>\n",
       "      <th>population</th>\n",
       "    </tr>\n",
       "    <tr>\n",
       "      <th>state</th>\n",
       "      <th></th>\n",
       "    </tr>\n",
       "  </thead>\n",
       "  <tbody>\n",
       "    <tr>\n",
       "      <th>Alabama</th>\n",
       "      <td>5039877</td>\n",
       "    </tr>\n",
       "    <tr>\n",
       "      <th>Alaska</th>\n",
       "      <td>732673</td>\n",
       "    </tr>\n",
       "    <tr>\n",
       "      <th>Arizona</th>\n",
       "      <td>7276316</td>\n",
       "    </tr>\n",
       "    <tr>\n",
       "      <th>Arkansas</th>\n",
       "      <td>3025891</td>\n",
       "    </tr>\n",
       "    <tr>\n",
       "      <th>California</th>\n",
       "      <td>39237836</td>\n",
       "    </tr>\n",
       "    <tr>\n",
       "      <th>Colorado</th>\n",
       "      <td>5812069</td>\n",
       "    </tr>\n",
       "    <tr>\n",
       "      <th>Connecticut</th>\n",
       "      <td>3605597</td>\n",
       "    </tr>\n",
       "    <tr>\n",
       "      <th>Delaware</th>\n",
       "      <td>1003384</td>\n",
       "    </tr>\n",
       "    <tr>\n",
       "      <th>District of Columbia</th>\n",
       "      <td>670050</td>\n",
       "    </tr>\n",
       "    <tr>\n",
       "      <th>Florida</th>\n",
       "      <td>21781128</td>\n",
       "    </tr>\n",
       "    <tr>\n",
       "      <th>Georgia</th>\n",
       "      <td>10799566</td>\n",
       "    </tr>\n",
       "    <tr>\n",
       "      <th>Hawaii</th>\n",
       "      <td>1441553</td>\n",
       "    </tr>\n",
       "    <tr>\n",
       "      <th>Idaho</th>\n",
       "      <td>1900923</td>\n",
       "    </tr>\n",
       "    <tr>\n",
       "      <th>Illinois</th>\n",
       "      <td>12671469</td>\n",
       "    </tr>\n",
       "    <tr>\n",
       "      <th>Indiana</th>\n",
       "      <td>6805985</td>\n",
       "    </tr>\n",
       "    <tr>\n",
       "      <th>Iowa</th>\n",
       "      <td>3193079</td>\n",
       "    </tr>\n",
       "    <tr>\n",
       "      <th>Kansas</th>\n",
       "      <td>2934582</td>\n",
       "    </tr>\n",
       "    <tr>\n",
       "      <th>Kentucky</th>\n",
       "      <td>4509394</td>\n",
       "    </tr>\n",
       "    <tr>\n",
       "      <th>Louisiana</th>\n",
       "      <td>4624047</td>\n",
       "    </tr>\n",
       "    <tr>\n",
       "      <th>Maine</th>\n",
       "      <td>1372247</td>\n",
       "    </tr>\n",
       "    <tr>\n",
       "      <th>Maryland</th>\n",
       "      <td>6165129</td>\n",
       "    </tr>\n",
       "    <tr>\n",
       "      <th>Massachusetts</th>\n",
       "      <td>6984723</td>\n",
       "    </tr>\n",
       "    <tr>\n",
       "      <th>Michigan</th>\n",
       "      <td>10050811</td>\n",
       "    </tr>\n",
       "    <tr>\n",
       "      <th>Minnesota</th>\n",
       "      <td>5707390</td>\n",
       "    </tr>\n",
       "    <tr>\n",
       "      <th>Mississippi</th>\n",
       "      <td>2949965</td>\n",
       "    </tr>\n",
       "    <tr>\n",
       "      <th>Missouri</th>\n",
       "      <td>6168187</td>\n",
       "    </tr>\n",
       "    <tr>\n",
       "      <th>Montana</th>\n",
       "      <td>1104271</td>\n",
       "    </tr>\n",
       "    <tr>\n",
       "      <th>Nebraska</th>\n",
       "      <td>1963692</td>\n",
       "    </tr>\n",
       "    <tr>\n",
       "      <th>Nevada</th>\n",
       "      <td>3143991</td>\n",
       "    </tr>\n",
       "    <tr>\n",
       "      <th>New Hampshire</th>\n",
       "      <td>1388992</td>\n",
       "    </tr>\n",
       "    <tr>\n",
       "      <th>New Jersey</th>\n",
       "      <td>9267130</td>\n",
       "    </tr>\n",
       "    <tr>\n",
       "      <th>New Mexico</th>\n",
       "      <td>2115877</td>\n",
       "    </tr>\n",
       "    <tr>\n",
       "      <th>New York</th>\n",
       "      <td>19835913</td>\n",
       "    </tr>\n",
       "    <tr>\n",
       "      <th>North Carolina</th>\n",
       "      <td>10551162</td>\n",
       "    </tr>\n",
       "    <tr>\n",
       "      <th>North Dakota</th>\n",
       "      <td>774948</td>\n",
       "    </tr>\n",
       "    <tr>\n",
       "      <th>Ohio</th>\n",
       "      <td>11780017</td>\n",
       "    </tr>\n",
       "    <tr>\n",
       "      <th>Oklahoma</th>\n",
       "      <td>3986639</td>\n",
       "    </tr>\n",
       "    <tr>\n",
       "      <th>Oregon</th>\n",
       "      <td>4246155</td>\n",
       "    </tr>\n",
       "    <tr>\n",
       "      <th>Pennsylvania</th>\n",
       "      <td>12964056</td>\n",
       "    </tr>\n",
       "    <tr>\n",
       "      <th>Puerto Rico</th>\n",
       "      <td>3263584</td>\n",
       "    </tr>\n",
       "    <tr>\n",
       "      <th>Rhode Island</th>\n",
       "      <td>1095610</td>\n",
       "    </tr>\n",
       "    <tr>\n",
       "      <th>South Carolina</th>\n",
       "      <td>5190705</td>\n",
       "    </tr>\n",
       "    <tr>\n",
       "      <th>South Dakota</th>\n",
       "      <td>895376</td>\n",
       "    </tr>\n",
       "    <tr>\n",
       "      <th>Tennessee</th>\n",
       "      <td>6975218</td>\n",
       "    </tr>\n",
       "    <tr>\n",
       "      <th>Texas</th>\n",
       "      <td>29527941</td>\n",
       "    </tr>\n",
       "    <tr>\n",
       "      <th>Utah</th>\n",
       "      <td>3337975</td>\n",
       "    </tr>\n",
       "    <tr>\n",
       "      <th>Vermont</th>\n",
       "      <td>645570</td>\n",
       "    </tr>\n",
       "    <tr>\n",
       "      <th>Virginia</th>\n",
       "      <td>8642274</td>\n",
       "    </tr>\n",
       "    <tr>\n",
       "      <th>Washington</th>\n",
       "      <td>7738692</td>\n",
       "    </tr>\n",
       "    <tr>\n",
       "      <th>West Virginia</th>\n",
       "      <td>1782959</td>\n",
       "    </tr>\n",
       "    <tr>\n",
       "      <th>Wisconsin</th>\n",
       "      <td>5895908</td>\n",
       "    </tr>\n",
       "    <tr>\n",
       "      <th>Wyoming</th>\n",
       "      <td>578803</td>\n",
       "    </tr>\n",
       "  </tbody>\n",
       "</table>\n",
       "</div>"
      ],
      "text/plain": [
       "                      population\n",
       "state                           \n",
       "Alabama                  5039877\n",
       "Alaska                    732673\n",
       "Arizona                  7276316\n",
       "Arkansas                 3025891\n",
       "California              39237836\n",
       "Colorado                 5812069\n",
       "Connecticut              3605597\n",
       "Delaware                 1003384\n",
       "District of Columbia      670050\n",
       "Florida                 21781128\n",
       "Georgia                 10799566\n",
       "Hawaii                   1441553\n",
       "Idaho                    1900923\n",
       "Illinois                12671469\n",
       "Indiana                  6805985\n",
       "Iowa                     3193079\n",
       "Kansas                   2934582\n",
       "Kentucky                 4509394\n",
       "Louisiana                4624047\n",
       "Maine                    1372247\n",
       "Maryland                 6165129\n",
       "Massachusetts            6984723\n",
       "Michigan                10050811\n",
       "Minnesota                5707390\n",
       "Mississippi              2949965\n",
       "Missouri                 6168187\n",
       "Montana                  1104271\n",
       "Nebraska                 1963692\n",
       "Nevada                   3143991\n",
       "New Hampshire            1388992\n",
       "New Jersey               9267130\n",
       "New Mexico               2115877\n",
       "New York                19835913\n",
       "North Carolina          10551162\n",
       "North Dakota              774948\n",
       "Ohio                    11780017\n",
       "Oklahoma                 3986639\n",
       "Oregon                   4246155\n",
       "Pennsylvania            12964056\n",
       "Puerto Rico              3263584\n",
       "Rhode Island             1095610\n",
       "South Carolina           5190705\n",
       "South Dakota              895376\n",
       "Tennessee                6975218\n",
       "Texas                   29527941\n",
       "Utah                     3337975\n",
       "Vermont                   645570\n",
       "Virginia                 8642274\n",
       "Washington               7738692\n",
       "West Virginia            1782959\n",
       "Wisconsin                5895908\n",
       "Wyoming                   578803"
      ]
     },
     "execution_count": 12,
     "metadata": {},
     "output_type": "execute_result"
    }
   ],
   "source": [
    "states= pd.read_csv('state.csv')\n",
    "states.reset_index()\n",
    "states.set_index('state', inplace=True)\n",
    "states.sort_index()"
   ]
  },
  {
   "cell_type": "code",
   "execution_count": 13,
   "metadata": {},
   "outputs": [
    {
     "data": {
      "text/html": [
       "<div>\n",
       "<style scoped>\n",
       "    .dataframe tbody tr th:only-of-type {\n",
       "        vertical-align: middle;\n",
       "    }\n",
       "\n",
       "    .dataframe tbody tr th {\n",
       "        vertical-align: top;\n",
       "    }\n",
       "\n",
       "    .dataframe thead th {\n",
       "        text-align: right;\n",
       "    }\n",
       "</style>\n",
       "<table border=\"1\" class=\"dataframe\">\n",
       "  <thead>\n",
       "    <tr style=\"text-align: right;\">\n",
       "      <th></th>\n",
       "      <th>incident_count</th>\n",
       "    </tr>\n",
       "    <tr>\n",
       "      <th>state</th>\n",
       "      <th></th>\n",
       "    </tr>\n",
       "  </thead>\n",
       "  <tbody>\n",
       "    <tr>\n",
       "      <th>Alabama</th>\n",
       "      <td>2343</td>\n",
       "    </tr>\n",
       "    <tr>\n",
       "      <th>Alaska</th>\n",
       "      <td>825</td>\n",
       "    </tr>\n",
       "    <tr>\n",
       "      <th>Arizona</th>\n",
       "      <td>1034</td>\n",
       "    </tr>\n",
       "    <tr>\n",
       "      <th>Arkansas</th>\n",
       "      <td>1258</td>\n",
       "    </tr>\n",
       "    <tr>\n",
       "      <th>California</th>\n",
       "      <td>6851</td>\n",
       "    </tr>\n",
       "    <tr>\n",
       "      <th>Colorado</th>\n",
       "      <td>1600</td>\n",
       "    </tr>\n",
       "    <tr>\n",
       "      <th>Connecticut</th>\n",
       "      <td>1540</td>\n",
       "    </tr>\n",
       "    <tr>\n",
       "      <th>Delaware</th>\n",
       "      <td>694</td>\n",
       "    </tr>\n",
       "    <tr>\n",
       "      <th>District of Columbia</th>\n",
       "      <td>1035</td>\n",
       "    </tr>\n",
       "    <tr>\n",
       "      <th>Florida</th>\n",
       "      <td>6903</td>\n",
       "    </tr>\n",
       "    <tr>\n",
       "      <th>Georgia</th>\n",
       "      <td>4475</td>\n",
       "    </tr>\n",
       "    <tr>\n",
       "      <th>Hawaii</th>\n",
       "      <td>154</td>\n",
       "    </tr>\n",
       "    <tr>\n",
       "      <th>Idaho</th>\n",
       "      <td>332</td>\n",
       "    </tr>\n",
       "    <tr>\n",
       "      <th>Illinois</th>\n",
       "      <td>8511</td>\n",
       "    </tr>\n",
       "    <tr>\n",
       "      <th>Indiana</th>\n",
       "      <td>2831</td>\n",
       "    </tr>\n",
       "    <tr>\n",
       "      <th>Iowa</th>\n",
       "      <td>1246</td>\n",
       "    </tr>\n",
       "    <tr>\n",
       "      <th>Kansas</th>\n",
       "      <td>1033</td>\n",
       "    </tr>\n",
       "    <tr>\n",
       "      <th>Kentucky</th>\n",
       "      <td>1935</td>\n",
       "    </tr>\n",
       "    <tr>\n",
       "      <th>Louisiana</th>\n",
       "      <td>3762</td>\n",
       "    </tr>\n",
       "    <tr>\n",
       "      <th>Maine</th>\n",
       "      <td>463</td>\n",
       "    </tr>\n",
       "    <tr>\n",
       "      <th>Maryland</th>\n",
       "      <td>2577</td>\n",
       "    </tr>\n",
       "    <tr>\n",
       "      <th>Massachusetts</th>\n",
       "      <td>2882</td>\n",
       "    </tr>\n",
       "    <tr>\n",
       "      <th>Michigan</th>\n",
       "      <td>2584</td>\n",
       "    </tr>\n",
       "    <tr>\n",
       "      <th>Minnesota</th>\n",
       "      <td>878</td>\n",
       "    </tr>\n",
       "    <tr>\n",
       "      <th>Mississippi</th>\n",
       "      <td>1513</td>\n",
       "    </tr>\n",
       "    <tr>\n",
       "      <th>Missouri</th>\n",
       "      <td>3254</td>\n",
       "    </tr>\n",
       "    <tr>\n",
       "      <th>Montana</th>\n",
       "      <td>302</td>\n",
       "    </tr>\n",
       "    <tr>\n",
       "      <th>Nebraska</th>\n",
       "      <td>755</td>\n",
       "    </tr>\n",
       "    <tr>\n",
       "      <th>Nevada</th>\n",
       "      <td>1027</td>\n",
       "    </tr>\n",
       "    <tr>\n",
       "      <th>New Hampshire</th>\n",
       "      <td>481</td>\n",
       "    </tr>\n",
       "    <tr>\n",
       "      <th>New Jersey</th>\n",
       "      <td>2286</td>\n",
       "    </tr>\n",
       "    <tr>\n",
       "      <th>New Mexico</th>\n",
       "      <td>794</td>\n",
       "    </tr>\n",
       "    <tr>\n",
       "      <th>New York</th>\n",
       "      <td>5425</td>\n",
       "    </tr>\n",
       "    <tr>\n",
       "      <th>North Carolina</th>\n",
       "      <td>3957</td>\n",
       "    </tr>\n",
       "    <tr>\n",
       "      <th>North Dakota</th>\n",
       "      <td>299</td>\n",
       "    </tr>\n",
       "    <tr>\n",
       "      <th>Ohio</th>\n",
       "      <td>4574</td>\n",
       "    </tr>\n",
       "    <tr>\n",
       "      <th>Oklahoma</th>\n",
       "      <td>1738</td>\n",
       "    </tr>\n",
       "    <tr>\n",
       "      <th>Oregon</th>\n",
       "      <td>1238</td>\n",
       "    </tr>\n",
       "    <tr>\n",
       "      <th>Pennsylvania</th>\n",
       "      <td>3974</td>\n",
       "    </tr>\n",
       "    <tr>\n",
       "      <th>Rhode Island</th>\n",
       "      <td>463</td>\n",
       "    </tr>\n",
       "    <tr>\n",
       "      <th>South Carolina</th>\n",
       "      <td>3186</td>\n",
       "    </tr>\n",
       "    <tr>\n",
       "      <th>South Dakota</th>\n",
       "      <td>247</td>\n",
       "    </tr>\n",
       "    <tr>\n",
       "      <th>Tennessee</th>\n",
       "      <td>3777</td>\n",
       "    </tr>\n",
       "    <tr>\n",
       "      <th>Texas</th>\n",
       "      <td>6882</td>\n",
       "    </tr>\n",
       "    <tr>\n",
       "      <th>Utah</th>\n",
       "      <td>574</td>\n",
       "    </tr>\n",
       "    <tr>\n",
       "      <th>Vermont</th>\n",
       "      <td>211</td>\n",
       "    </tr>\n",
       "    <tr>\n",
       "      <th>Virginia</th>\n",
       "      <td>2904</td>\n",
       "    </tr>\n",
       "    <tr>\n",
       "      <th>Washington</th>\n",
       "      <td>1693</td>\n",
       "    </tr>\n",
       "    <tr>\n",
       "      <th>West Virginia</th>\n",
       "      <td>741</td>\n",
       "    </tr>\n",
       "    <tr>\n",
       "      <th>Wisconsin</th>\n",
       "      <td>1976</td>\n",
       "    </tr>\n",
       "    <tr>\n",
       "      <th>Wyoming</th>\n",
       "      <td>325</td>\n",
       "    </tr>\n",
       "  </tbody>\n",
       "</table>\n",
       "</div>"
      ],
      "text/plain": [
       "                      incident_count\n",
       "state                               \n",
       "Alabama                         2343\n",
       "Alaska                           825\n",
       "Arizona                         1034\n",
       "Arkansas                        1258\n",
       "California                      6851\n",
       "Colorado                        1600\n",
       "Connecticut                     1540\n",
       "Delaware                         694\n",
       "District of Columbia            1035\n",
       "Florida                         6903\n",
       "Georgia                         4475\n",
       "Hawaii                           154\n",
       "Idaho                            332\n",
       "Illinois                        8511\n",
       "Indiana                         2831\n",
       "Iowa                            1246\n",
       "Kansas                          1033\n",
       "Kentucky                        1935\n",
       "Louisiana                       3762\n",
       "Maine                            463\n",
       "Maryland                        2577\n",
       "Massachusetts                   2882\n",
       "Michigan                        2584\n",
       "Minnesota                        878\n",
       "Mississippi                     1513\n",
       "Missouri                        3254\n",
       "Montana                          302\n",
       "Nebraska                         755\n",
       "Nevada                          1027\n",
       "New Hampshire                    481\n",
       "New Jersey                      2286\n",
       "New Mexico                       794\n",
       "New York                        5425\n",
       "North Carolina                  3957\n",
       "North Dakota                     299\n",
       "Ohio                            4574\n",
       "Oklahoma                        1738\n",
       "Oregon                          1238\n",
       "Pennsylvania                    3974\n",
       "Rhode Island                     463\n",
       "South Carolina                  3186\n",
       "South Dakota                     247\n",
       "Tennessee                       3777\n",
       "Texas                           6882\n",
       "Utah                             574\n",
       "Vermont                          211\n",
       "Virginia                        2904\n",
       "Washington                      1693\n",
       "West Virginia                    741\n",
       "Wisconsin                       1976\n",
       "Wyoming                          325"
      ]
     },
     "execution_count": 13,
     "metadata": {},
     "output_type": "execute_result"
    }
   ],
   "source": [
    "\n",
    "\n",
    "state_groups = raw_data_filtered.groupby('state')['incident_count'].sum()\n",
    "state_groups = state_groups.to_frame()\n",
    "state_groups.reset_index()\n",
    "state_groups.sort_index()\n"
   ]
  },
  {
   "cell_type": "code",
   "execution_count": 25,
   "metadata": {},
   "outputs": [
    {
     "data": {
      "text/html": [
       "<div>\n",
       "<style scoped>\n",
       "    .dataframe tbody tr th:only-of-type {\n",
       "        vertical-align: middle;\n",
       "    }\n",
       "\n",
       "    .dataframe tbody tr th {\n",
       "        vertical-align: top;\n",
       "    }\n",
       "\n",
       "    .dataframe thead th {\n",
       "        text-align: right;\n",
       "    }\n",
       "</style>\n",
       "<table border=\"1\" class=\"dataframe\">\n",
       "  <thead>\n",
       "    <tr style=\"text-align: right;\">\n",
       "      <th></th>\n",
       "      <th>incident_count</th>\n",
       "      <th>population</th>\n",
       "      <th>per_capita</th>\n",
       "    </tr>\n",
       "    <tr>\n",
       "      <th>state</th>\n",
       "      <th></th>\n",
       "      <th></th>\n",
       "      <th></th>\n",
       "    </tr>\n",
       "  </thead>\n",
       "  <tbody>\n",
       "    <tr>\n",
       "      <th>Alabama</th>\n",
       "      <td>2343</td>\n",
       "      <td>5039877</td>\n",
       "      <td>46.489230</td>\n",
       "    </tr>\n",
       "    <tr>\n",
       "      <th>Alaska</th>\n",
       "      <td>825</td>\n",
       "      <td>732673</td>\n",
       "      <td>112.601392</td>\n",
       "    </tr>\n",
       "    <tr>\n",
       "      <th>Arizona</th>\n",
       "      <td>1034</td>\n",
       "      <td>7276316</td>\n",
       "      <td>14.210488</td>\n",
       "    </tr>\n",
       "    <tr>\n",
       "      <th>Arkansas</th>\n",
       "      <td>1258</td>\n",
       "      <td>3025891</td>\n",
       "      <td>41.574531</td>\n",
       "    </tr>\n",
       "    <tr>\n",
       "      <th>California</th>\n",
       "      <td>6851</td>\n",
       "      <td>39237836</td>\n",
       "      <td>17.460188</td>\n",
       "    </tr>\n",
       "    <tr>\n",
       "      <th>Colorado</th>\n",
       "      <td>1600</td>\n",
       "      <td>5812069</td>\n",
       "      <td>27.528923</td>\n",
       "    </tr>\n",
       "    <tr>\n",
       "      <th>Connecticut</th>\n",
       "      <td>1540</td>\n",
       "      <td>3605597</td>\n",
       "      <td>42.711373</td>\n",
       "    </tr>\n",
       "    <tr>\n",
       "      <th>Delaware</th>\n",
       "      <td>694</td>\n",
       "      <td>1003384</td>\n",
       "      <td>69.165942</td>\n",
       "    </tr>\n",
       "    <tr>\n",
       "      <th>District of Columbia</th>\n",
       "      <td>1035</td>\n",
       "      <td>670050</td>\n",
       "      <td>154.466085</td>\n",
       "    </tr>\n",
       "    <tr>\n",
       "      <th>Florida</th>\n",
       "      <td>6903</td>\n",
       "      <td>21781128</td>\n",
       "      <td>31.692573</td>\n",
       "    </tr>\n",
       "    <tr>\n",
       "      <th>Georgia</th>\n",
       "      <td>4475</td>\n",
       "      <td>10799566</td>\n",
       "      <td>41.436850</td>\n",
       "    </tr>\n",
       "    <tr>\n",
       "      <th>Hawaii</th>\n",
       "      <td>154</td>\n",
       "      <td>1441553</td>\n",
       "      <td>10.682923</td>\n",
       "    </tr>\n",
       "    <tr>\n",
       "      <th>Idaho</th>\n",
       "      <td>332</td>\n",
       "      <td>1900923</td>\n",
       "      <td>17.465200</td>\n",
       "    </tr>\n",
       "    <tr>\n",
       "      <th>Illinois</th>\n",
       "      <td>8511</td>\n",
       "      <td>12671469</td>\n",
       "      <td>67.166640</td>\n",
       "    </tr>\n",
       "    <tr>\n",
       "      <th>Indiana</th>\n",
       "      <td>2831</td>\n",
       "      <td>6805985</td>\n",
       "      <td>41.595743</td>\n",
       "    </tr>\n",
       "    <tr>\n",
       "      <th>Iowa</th>\n",
       "      <td>1246</td>\n",
       "      <td>3193079</td>\n",
       "      <td>39.021897</td>\n",
       "    </tr>\n",
       "    <tr>\n",
       "      <th>Kansas</th>\n",
       "      <td>1033</td>\n",
       "      <td>2934582</td>\n",
       "      <td>35.200925</td>\n",
       "    </tr>\n",
       "    <tr>\n",
       "      <th>Kentucky</th>\n",
       "      <td>1935</td>\n",
       "      <td>4509394</td>\n",
       "      <td>42.910422</td>\n",
       "    </tr>\n",
       "    <tr>\n",
       "      <th>Louisiana</th>\n",
       "      <td>3762</td>\n",
       "      <td>4624047</td>\n",
       "      <td>81.357305</td>\n",
       "    </tr>\n",
       "    <tr>\n",
       "      <th>Maine</th>\n",
       "      <td>463</td>\n",
       "      <td>1372247</td>\n",
       "      <td>33.740281</td>\n",
       "    </tr>\n",
       "    <tr>\n",
       "      <th>Maryland</th>\n",
       "      <td>2577</td>\n",
       "      <td>6165129</td>\n",
       "      <td>41.799612</td>\n",
       "    </tr>\n",
       "    <tr>\n",
       "      <th>Massachusetts</th>\n",
       "      <td>2882</td>\n",
       "      <td>6984723</td>\n",
       "      <td>41.261479</td>\n",
       "    </tr>\n",
       "    <tr>\n",
       "      <th>Michigan</th>\n",
       "      <td>2584</td>\n",
       "      <td>10050811</td>\n",
       "      <td>25.709368</td>\n",
       "    </tr>\n",
       "    <tr>\n",
       "      <th>Minnesota</th>\n",
       "      <td>878</td>\n",
       "      <td>5707390</td>\n",
       "      <td>15.383564</td>\n",
       "    </tr>\n",
       "    <tr>\n",
       "      <th>Mississippi</th>\n",
       "      <td>1513</td>\n",
       "      <td>2949965</td>\n",
       "      <td>51.288744</td>\n",
       "    </tr>\n",
       "    <tr>\n",
       "      <th>Missouri</th>\n",
       "      <td>3254</td>\n",
       "      <td>6168187</td>\n",
       "      <td>52.754561</td>\n",
       "    </tr>\n",
       "    <tr>\n",
       "      <th>Montana</th>\n",
       "      <td>302</td>\n",
       "      <td>1104271</td>\n",
       "      <td>27.348359</td>\n",
       "    </tr>\n",
       "    <tr>\n",
       "      <th>Nebraska</th>\n",
       "      <td>755</td>\n",
       "      <td>1963692</td>\n",
       "      <td>38.447985</td>\n",
       "    </tr>\n",
       "    <tr>\n",
       "      <th>Nevada</th>\n",
       "      <td>1027</td>\n",
       "      <td>3143991</td>\n",
       "      <td>32.665488</td>\n",
       "    </tr>\n",
       "    <tr>\n",
       "      <th>New Hampshire</th>\n",
       "      <td>481</td>\n",
       "      <td>1388992</td>\n",
       "      <td>34.629429</td>\n",
       "    </tr>\n",
       "    <tr>\n",
       "      <th>New Jersey</th>\n",
       "      <td>2286</td>\n",
       "      <td>9267130</td>\n",
       "      <td>24.667831</td>\n",
       "    </tr>\n",
       "    <tr>\n",
       "      <th>New Mexico</th>\n",
       "      <td>794</td>\n",
       "      <td>2115877</td>\n",
       "      <td>37.525811</td>\n",
       "    </tr>\n",
       "    <tr>\n",
       "      <th>New York</th>\n",
       "      <td>5425</td>\n",
       "      <td>19835913</td>\n",
       "      <td>27.349384</td>\n",
       "    </tr>\n",
       "    <tr>\n",
       "      <th>North Carolina</th>\n",
       "      <td>3957</td>\n",
       "      <td>10551162</td>\n",
       "      <td>37.502978</td>\n",
       "    </tr>\n",
       "    <tr>\n",
       "      <th>North Dakota</th>\n",
       "      <td>299</td>\n",
       "      <td>774948</td>\n",
       "      <td>38.583234</td>\n",
       "    </tr>\n",
       "    <tr>\n",
       "      <th>Ohio</th>\n",
       "      <td>4574</td>\n",
       "      <td>11780017</td>\n",
       "      <td>38.828467</td>\n",
       "    </tr>\n",
       "    <tr>\n",
       "      <th>Oklahoma</th>\n",
       "      <td>1738</td>\n",
       "      <td>3986639</td>\n",
       "      <td>43.595620</td>\n",
       "    </tr>\n",
       "    <tr>\n",
       "      <th>Oregon</th>\n",
       "      <td>1238</td>\n",
       "      <td>4246155</td>\n",
       "      <td>29.155789</td>\n",
       "    </tr>\n",
       "    <tr>\n",
       "      <th>Pennsylvania</th>\n",
       "      <td>3974</td>\n",
       "      <td>12964056</td>\n",
       "      <td>30.653987</td>\n",
       "    </tr>\n",
       "    <tr>\n",
       "      <th>Rhode Island</th>\n",
       "      <td>463</td>\n",
       "      <td>1095610</td>\n",
       "      <td>42.259563</td>\n",
       "    </tr>\n",
       "    <tr>\n",
       "      <th>South Carolina</th>\n",
       "      <td>3186</td>\n",
       "      <td>5190705</td>\n",
       "      <td>61.378946</td>\n",
       "    </tr>\n",
       "    <tr>\n",
       "      <th>South Dakota</th>\n",
       "      <td>247</td>\n",
       "      <td>895376</td>\n",
       "      <td>27.586176</td>\n",
       "    </tr>\n",
       "    <tr>\n",
       "      <th>Tennessee</th>\n",
       "      <td>3777</td>\n",
       "      <td>6975218</td>\n",
       "      <td>54.148845</td>\n",
       "    </tr>\n",
       "    <tr>\n",
       "      <th>Texas</th>\n",
       "      <td>6882</td>\n",
       "      <td>29527941</td>\n",
       "      <td>23.306739</td>\n",
       "    </tr>\n",
       "    <tr>\n",
       "      <th>Utah</th>\n",
       "      <td>574</td>\n",
       "      <td>3337975</td>\n",
       "      <td>17.196054</td>\n",
       "    </tr>\n",
       "    <tr>\n",
       "      <th>Vermont</th>\n",
       "      <td>211</td>\n",
       "      <td>645570</td>\n",
       "      <td>32.684294</td>\n",
       "    </tr>\n",
       "    <tr>\n",
       "      <th>Virginia</th>\n",
       "      <td>2904</td>\n",
       "      <td>8642274</td>\n",
       "      <td>33.602267</td>\n",
       "    </tr>\n",
       "    <tr>\n",
       "      <th>Washington</th>\n",
       "      <td>1693</td>\n",
       "      <td>7738692</td>\n",
       "      <td>21.877082</td>\n",
       "    </tr>\n",
       "    <tr>\n",
       "      <th>West Virginia</th>\n",
       "      <td>741</td>\n",
       "      <td>1782959</td>\n",
       "      <td>41.560126</td>\n",
       "    </tr>\n",
       "    <tr>\n",
       "      <th>Wisconsin</th>\n",
       "      <td>1976</td>\n",
       "      <td>5895908</td>\n",
       "      <td>33.514770</td>\n",
       "    </tr>\n",
       "    <tr>\n",
       "      <th>Wyoming</th>\n",
       "      <td>325</td>\n",
       "      <td>578803</td>\n",
       "      <td>56.150365</td>\n",
       "    </tr>\n",
       "  </tbody>\n",
       "</table>\n",
       "</div>"
      ],
      "text/plain": [
       "                      incident_count  population  per_capita\n",
       "state                                                       \n",
       "Alabama                         2343     5039877   46.489230\n",
       "Alaska                           825      732673  112.601392\n",
       "Arizona                         1034     7276316   14.210488\n",
       "Arkansas                        1258     3025891   41.574531\n",
       "California                      6851    39237836   17.460188\n",
       "Colorado                        1600     5812069   27.528923\n",
       "Connecticut                     1540     3605597   42.711373\n",
       "Delaware                         694     1003384   69.165942\n",
       "District of Columbia            1035      670050  154.466085\n",
       "Florida                         6903    21781128   31.692573\n",
       "Georgia                         4475    10799566   41.436850\n",
       "Hawaii                           154     1441553   10.682923\n",
       "Idaho                            332     1900923   17.465200\n",
       "Illinois                        8511    12671469   67.166640\n",
       "Indiana                         2831     6805985   41.595743\n",
       "Iowa                            1246     3193079   39.021897\n",
       "Kansas                          1033     2934582   35.200925\n",
       "Kentucky                        1935     4509394   42.910422\n",
       "Louisiana                       3762     4624047   81.357305\n",
       "Maine                            463     1372247   33.740281\n",
       "Maryland                        2577     6165129   41.799612\n",
       "Massachusetts                   2882     6984723   41.261479\n",
       "Michigan                        2584    10050811   25.709368\n",
       "Minnesota                        878     5707390   15.383564\n",
       "Mississippi                     1513     2949965   51.288744\n",
       "Missouri                        3254     6168187   52.754561\n",
       "Montana                          302     1104271   27.348359\n",
       "Nebraska                         755     1963692   38.447985\n",
       "Nevada                          1027     3143991   32.665488\n",
       "New Hampshire                    481     1388992   34.629429\n",
       "New Jersey                      2286     9267130   24.667831\n",
       "New Mexico                       794     2115877   37.525811\n",
       "New York                        5425    19835913   27.349384\n",
       "North Carolina                  3957    10551162   37.502978\n",
       "North Dakota                     299      774948   38.583234\n",
       "Ohio                            4574    11780017   38.828467\n",
       "Oklahoma                        1738     3986639   43.595620\n",
       "Oregon                          1238     4246155   29.155789\n",
       "Pennsylvania                    3974    12964056   30.653987\n",
       "Rhode Island                     463     1095610   42.259563\n",
       "South Carolina                  3186     5190705   61.378946\n",
       "South Dakota                     247      895376   27.586176\n",
       "Tennessee                       3777     6975218   54.148845\n",
       "Texas                           6882    29527941   23.306739\n",
       "Utah                             574     3337975   17.196054\n",
       "Vermont                          211      645570   32.684294\n",
       "Virginia                        2904     8642274   33.602267\n",
       "Washington                      1693     7738692   21.877082\n",
       "West Virginia                    741     1782959   41.560126\n",
       "Wisconsin                       1976     5895908   33.514770\n",
       "Wyoming                          325      578803   56.150365"
      ]
     },
     "execution_count": 25,
     "metadata": {},
     "output_type": "execute_result"
    }
   ],
   "source": [
    "grouped_states= pd.merge(state_groups, states, how='left', on='state')\n",
    "fred = grouped_states['population'].astype('int')\n",
    "grouped_states['per_capita'] = grouped_states.eval('(incident_count/population)*100000')\n",
    "grouped_states.sort_values(by='per_capita', ascending=False)\n",
    "grouped_states\n"
   ]
  },
  {
   "cell_type": "code",
   "execution_count": 15,
   "metadata": {},
   "outputs": [
    {
     "name": "stdout",
     "output_type": "stream",
     "text": [
      "<class 'pandas.core.frame.DataFrame'>\n",
      "Index: 51 entries, Alabama to Wyoming\n",
      "Data columns (total 3 columns):\n",
      " #   Column          Non-Null Count  Dtype  \n",
      "---  ------          --------------  -----  \n",
      " 0   incident_count  51 non-null     int64  \n",
      " 1   population      51 non-null     int64  \n",
      " 2   per_capita      51 non-null     float64\n",
      "dtypes: float64(1), int64(2)\n",
      "memory usage: 1.6+ KB\n"
     ]
    }
   ],
   "source": [
    "grouped_states.info()\n",
    "extracted1 = grouped_states['population']\n",
    "extracted2 = grouped_states['per_capita']\n",
    "extracted3 = grouped_states['incident_count']"
   ]
  },
  {
   "cell_type": "code",
   "execution_count": 26,
   "metadata": {},
   "outputs": [
    {
     "name": "stdout",
     "output_type": "stream",
     "text": [
      "<class 'pandas.core.frame.DataFrame'>\n",
      "RangeIndex: 51 entries, 0 to 50\n",
      "Data columns (total 5 columns):\n",
      " #   Column                     Non-Null Count  Dtype  \n",
      "---  ------                     --------------  -----  \n",
      " 0   Unnamed: 0                 51 non-null     int64  \n",
      " 1   State                      51 non-null     object \n",
      " 2   Gov_Political_Affiliation  51 non-null     object \n",
      " 3   Lat                        51 non-null     float64\n",
      " 4   Long                       51 non-null     float64\n",
      "dtypes: float64(2), int64(1), object(2)\n",
      "memory usage: 2.1+ KB\n"
     ]
    },
    {
     "data": {
      "text/html": [
       "<div>\n",
       "<style scoped>\n",
       "    .dataframe tbody tr th:only-of-type {\n",
       "        vertical-align: middle;\n",
       "    }\n",
       "\n",
       "    .dataframe tbody tr th {\n",
       "        vertical-align: top;\n",
       "    }\n",
       "\n",
       "    .dataframe thead th {\n",
       "        text-align: right;\n",
       "    }\n",
       "</style>\n",
       "<table border=\"1\" class=\"dataframe\">\n",
       "  <thead>\n",
       "    <tr style=\"text-align: right;\">\n",
       "      <th></th>\n",
       "      <th>state</th>\n",
       "      <th>incident_count</th>\n",
       "      <th>population</th>\n",
       "      <th>per_capita</th>\n",
       "      <th>Unnamed: 0</th>\n",
       "      <th>Gov_Political_Affiliation</th>\n",
       "      <th>Lat</th>\n",
       "      <th>Long</th>\n",
       "    </tr>\n",
       "  </thead>\n",
       "  <tbody>\n",
       "    <tr>\n",
       "      <th>0</th>\n",
       "      <td>Alabama</td>\n",
       "      <td>2343</td>\n",
       "      <td>5039877</td>\n",
       "      <td>46.489230</td>\n",
       "      <td>0</td>\n",
       "      <td>Republican</td>\n",
       "      <td>32.318231</td>\n",
       "      <td>-86.902298</td>\n",
       "    </tr>\n",
       "    <tr>\n",
       "      <th>1</th>\n",
       "      <td>Alaska</td>\n",
       "      <td>825</td>\n",
       "      <td>732673</td>\n",
       "      <td>112.601392</td>\n",
       "      <td>1</td>\n",
       "      <td>Republican</td>\n",
       "      <td>63.588753</td>\n",
       "      <td>-154.493062</td>\n",
       "    </tr>\n",
       "    <tr>\n",
       "      <th>2</th>\n",
       "      <td>Arizona</td>\n",
       "      <td>1034</td>\n",
       "      <td>7276316</td>\n",
       "      <td>14.210488</td>\n",
       "      <td>2</td>\n",
       "      <td>Republican</td>\n",
       "      <td>34.048928</td>\n",
       "      <td>-111.093731</td>\n",
       "    </tr>\n",
       "    <tr>\n",
       "      <th>3</th>\n",
       "      <td>Arkansas</td>\n",
       "      <td>1258</td>\n",
       "      <td>3025891</td>\n",
       "      <td>41.574531</td>\n",
       "      <td>3</td>\n",
       "      <td>Republican</td>\n",
       "      <td>35.201050</td>\n",
       "      <td>-91.831833</td>\n",
       "    </tr>\n",
       "    <tr>\n",
       "      <th>4</th>\n",
       "      <td>California</td>\n",
       "      <td>6851</td>\n",
       "      <td>39237836</td>\n",
       "      <td>17.460188</td>\n",
       "      <td>4</td>\n",
       "      <td>Democrat</td>\n",
       "      <td>36.778261</td>\n",
       "      <td>-119.417932</td>\n",
       "    </tr>\n",
       "    <tr>\n",
       "      <th>5</th>\n",
       "      <td>Colorado</td>\n",
       "      <td>1600</td>\n",
       "      <td>5812069</td>\n",
       "      <td>27.528923</td>\n",
       "      <td>5</td>\n",
       "      <td>Democrat</td>\n",
       "      <td>39.550051</td>\n",
       "      <td>-105.782067</td>\n",
       "    </tr>\n",
       "    <tr>\n",
       "      <th>6</th>\n",
       "      <td>Connecticut</td>\n",
       "      <td>1540</td>\n",
       "      <td>3605597</td>\n",
       "      <td>42.711373</td>\n",
       "      <td>6</td>\n",
       "      <td>Democrat</td>\n",
       "      <td>41.603221</td>\n",
       "      <td>-73.087749</td>\n",
       "    </tr>\n",
       "    <tr>\n",
       "      <th>7</th>\n",
       "      <td>Delaware</td>\n",
       "      <td>694</td>\n",
       "      <td>1003384</td>\n",
       "      <td>69.165942</td>\n",
       "      <td>7</td>\n",
       "      <td>Democrat</td>\n",
       "      <td>38.910832</td>\n",
       "      <td>-75.527670</td>\n",
       "    </tr>\n",
       "    <tr>\n",
       "      <th>8</th>\n",
       "      <td>District of Columbia</td>\n",
       "      <td>1035</td>\n",
       "      <td>670050</td>\n",
       "      <td>154.466085</td>\n",
       "      <td>8</td>\n",
       "      <td>Democrat</td>\n",
       "      <td>38.905985</td>\n",
       "      <td>-77.033418</td>\n",
       "    </tr>\n",
       "    <tr>\n",
       "      <th>9</th>\n",
       "      <td>Florida</td>\n",
       "      <td>6903</td>\n",
       "      <td>21781128</td>\n",
       "      <td>31.692573</td>\n",
       "      <td>9</td>\n",
       "      <td>Republican</td>\n",
       "      <td>27.664827</td>\n",
       "      <td>-81.515754</td>\n",
       "    </tr>\n",
       "    <tr>\n",
       "      <th>10</th>\n",
       "      <td>Georgia</td>\n",
       "      <td>4475</td>\n",
       "      <td>10799566</td>\n",
       "      <td>41.436850</td>\n",
       "      <td>10</td>\n",
       "      <td>Republican</td>\n",
       "      <td>32.157435</td>\n",
       "      <td>-82.907123</td>\n",
       "    </tr>\n",
       "    <tr>\n",
       "      <th>11</th>\n",
       "      <td>Hawaii</td>\n",
       "      <td>154</td>\n",
       "      <td>1441553</td>\n",
       "      <td>10.682923</td>\n",
       "      <td>11</td>\n",
       "      <td>Democrat</td>\n",
       "      <td>19.898682</td>\n",
       "      <td>-155.665857</td>\n",
       "    </tr>\n",
       "    <tr>\n",
       "      <th>12</th>\n",
       "      <td>Idaho</td>\n",
       "      <td>332</td>\n",
       "      <td>1900923</td>\n",
       "      <td>17.465200</td>\n",
       "      <td>12</td>\n",
       "      <td>Republican</td>\n",
       "      <td>44.068202</td>\n",
       "      <td>-114.742041</td>\n",
       "    </tr>\n",
       "    <tr>\n",
       "      <th>13</th>\n",
       "      <td>Illinois</td>\n",
       "      <td>8511</td>\n",
       "      <td>12671469</td>\n",
       "      <td>67.166640</td>\n",
       "      <td>13</td>\n",
       "      <td>Democrat</td>\n",
       "      <td>40.633125</td>\n",
       "      <td>-89.398528</td>\n",
       "    </tr>\n",
       "    <tr>\n",
       "      <th>14</th>\n",
       "      <td>Indiana</td>\n",
       "      <td>2831</td>\n",
       "      <td>6805985</td>\n",
       "      <td>41.595743</td>\n",
       "      <td>14</td>\n",
       "      <td>Republican</td>\n",
       "      <td>40.551217</td>\n",
       "      <td>-85.602364</td>\n",
       "    </tr>\n",
       "    <tr>\n",
       "      <th>15</th>\n",
       "      <td>Iowa</td>\n",
       "      <td>1246</td>\n",
       "      <td>3193079</td>\n",
       "      <td>39.021897</td>\n",
       "      <td>15</td>\n",
       "      <td>Republican</td>\n",
       "      <td>41.878003</td>\n",
       "      <td>-93.097702</td>\n",
       "    </tr>\n",
       "    <tr>\n",
       "      <th>16</th>\n",
       "      <td>Kansas</td>\n",
       "      <td>1033</td>\n",
       "      <td>2934582</td>\n",
       "      <td>35.200925</td>\n",
       "      <td>16</td>\n",
       "      <td>Democrat</td>\n",
       "      <td>39.011902</td>\n",
       "      <td>-98.484246</td>\n",
       "    </tr>\n",
       "    <tr>\n",
       "      <th>17</th>\n",
       "      <td>Kentucky</td>\n",
       "      <td>1935</td>\n",
       "      <td>4509394</td>\n",
       "      <td>42.910422</td>\n",
       "      <td>17</td>\n",
       "      <td>Democrat</td>\n",
       "      <td>37.839333</td>\n",
       "      <td>-84.270018</td>\n",
       "    </tr>\n",
       "    <tr>\n",
       "      <th>18</th>\n",
       "      <td>Louisiana</td>\n",
       "      <td>3762</td>\n",
       "      <td>4624047</td>\n",
       "      <td>81.357305</td>\n",
       "      <td>18</td>\n",
       "      <td>Democrat</td>\n",
       "      <td>31.244823</td>\n",
       "      <td>-92.145024</td>\n",
       "    </tr>\n",
       "    <tr>\n",
       "      <th>19</th>\n",
       "      <td>Maine</td>\n",
       "      <td>463</td>\n",
       "      <td>1372247</td>\n",
       "      <td>33.740281</td>\n",
       "      <td>19</td>\n",
       "      <td>Democrat</td>\n",
       "      <td>45.253783</td>\n",
       "      <td>-69.445469</td>\n",
       "    </tr>\n",
       "    <tr>\n",
       "      <th>20</th>\n",
       "      <td>Maryland</td>\n",
       "      <td>2577</td>\n",
       "      <td>6165129</td>\n",
       "      <td>41.799612</td>\n",
       "      <td>20</td>\n",
       "      <td>Republican</td>\n",
       "      <td>39.045755</td>\n",
       "      <td>-76.641271</td>\n",
       "    </tr>\n",
       "    <tr>\n",
       "      <th>21</th>\n",
       "      <td>Massachusetts</td>\n",
       "      <td>2882</td>\n",
       "      <td>6984723</td>\n",
       "      <td>41.261479</td>\n",
       "      <td>21</td>\n",
       "      <td>Republican</td>\n",
       "      <td>42.407211</td>\n",
       "      <td>-71.382437</td>\n",
       "    </tr>\n",
       "    <tr>\n",
       "      <th>22</th>\n",
       "      <td>Michigan</td>\n",
       "      <td>2584</td>\n",
       "      <td>10050811</td>\n",
       "      <td>25.709368</td>\n",
       "      <td>22</td>\n",
       "      <td>Democrat</td>\n",
       "      <td>44.314844</td>\n",
       "      <td>-85.602364</td>\n",
       "    </tr>\n",
       "    <tr>\n",
       "      <th>23</th>\n",
       "      <td>Minnesota</td>\n",
       "      <td>878</td>\n",
       "      <td>5707390</td>\n",
       "      <td>15.383564</td>\n",
       "      <td>23</td>\n",
       "      <td>Democrat</td>\n",
       "      <td>46.729553</td>\n",
       "      <td>-94.685900</td>\n",
       "    </tr>\n",
       "    <tr>\n",
       "      <th>24</th>\n",
       "      <td>Mississippi</td>\n",
       "      <td>1513</td>\n",
       "      <td>2949965</td>\n",
       "      <td>51.288744</td>\n",
       "      <td>24</td>\n",
       "      <td>Republican</td>\n",
       "      <td>32.354668</td>\n",
       "      <td>-89.398528</td>\n",
       "    </tr>\n",
       "    <tr>\n",
       "      <th>25</th>\n",
       "      <td>Missouri</td>\n",
       "      <td>3254</td>\n",
       "      <td>6168187</td>\n",
       "      <td>52.754561</td>\n",
       "      <td>25</td>\n",
       "      <td>Republican</td>\n",
       "      <td>37.964253</td>\n",
       "      <td>-91.831833</td>\n",
       "    </tr>\n",
       "    <tr>\n",
       "      <th>26</th>\n",
       "      <td>Montana</td>\n",
       "      <td>302</td>\n",
       "      <td>1104271</td>\n",
       "      <td>27.348359</td>\n",
       "      <td>26</td>\n",
       "      <td>Republican</td>\n",
       "      <td>46.879682</td>\n",
       "      <td>-110.362566</td>\n",
       "    </tr>\n",
       "    <tr>\n",
       "      <th>27</th>\n",
       "      <td>Nebraska</td>\n",
       "      <td>755</td>\n",
       "      <td>1963692</td>\n",
       "      <td>38.447985</td>\n",
       "      <td>27</td>\n",
       "      <td>Republican</td>\n",
       "      <td>41.492537</td>\n",
       "      <td>-99.901813</td>\n",
       "    </tr>\n",
       "    <tr>\n",
       "      <th>28</th>\n",
       "      <td>Nevada</td>\n",
       "      <td>1027</td>\n",
       "      <td>3143991</td>\n",
       "      <td>32.665488</td>\n",
       "      <td>28</td>\n",
       "      <td>Democrat</td>\n",
       "      <td>38.802610</td>\n",
       "      <td>-116.419389</td>\n",
       "    </tr>\n",
       "    <tr>\n",
       "      <th>29</th>\n",
       "      <td>New Hampshire</td>\n",
       "      <td>481</td>\n",
       "      <td>1388992</td>\n",
       "      <td>34.629429</td>\n",
       "      <td>29</td>\n",
       "      <td>Republican</td>\n",
       "      <td>43.193852</td>\n",
       "      <td>-71.572395</td>\n",
       "    </tr>\n",
       "    <tr>\n",
       "      <th>30</th>\n",
       "      <td>New Jersey</td>\n",
       "      <td>2286</td>\n",
       "      <td>9267130</td>\n",
       "      <td>24.667831</td>\n",
       "      <td>30</td>\n",
       "      <td>Democrat</td>\n",
       "      <td>40.058324</td>\n",
       "      <td>-74.405661</td>\n",
       "    </tr>\n",
       "    <tr>\n",
       "      <th>31</th>\n",
       "      <td>New Mexico</td>\n",
       "      <td>794</td>\n",
       "      <td>2115877</td>\n",
       "      <td>37.525811</td>\n",
       "      <td>31</td>\n",
       "      <td>Democrat</td>\n",
       "      <td>34.972730</td>\n",
       "      <td>-105.032363</td>\n",
       "    </tr>\n",
       "    <tr>\n",
       "      <th>32</th>\n",
       "      <td>New York</td>\n",
       "      <td>5425</td>\n",
       "      <td>19835913</td>\n",
       "      <td>27.349384</td>\n",
       "      <td>32</td>\n",
       "      <td>Democrat</td>\n",
       "      <td>43.299428</td>\n",
       "      <td>-74.217933</td>\n",
       "    </tr>\n",
       "    <tr>\n",
       "      <th>33</th>\n",
       "      <td>North Carolina</td>\n",
       "      <td>3957</td>\n",
       "      <td>10551162</td>\n",
       "      <td>37.502978</td>\n",
       "      <td>33</td>\n",
       "      <td>Democrat</td>\n",
       "      <td>35.759573</td>\n",
       "      <td>-79.019300</td>\n",
       "    </tr>\n",
       "    <tr>\n",
       "      <th>34</th>\n",
       "      <td>North Dakota</td>\n",
       "      <td>299</td>\n",
       "      <td>774948</td>\n",
       "      <td>38.583234</td>\n",
       "      <td>34</td>\n",
       "      <td>Republican</td>\n",
       "      <td>47.551493</td>\n",
       "      <td>-101.002012</td>\n",
       "    </tr>\n",
       "    <tr>\n",
       "      <th>35</th>\n",
       "      <td>Ohio</td>\n",
       "      <td>4574</td>\n",
       "      <td>11780017</td>\n",
       "      <td>38.828467</td>\n",
       "      <td>35</td>\n",
       "      <td>Republican</td>\n",
       "      <td>40.417287</td>\n",
       "      <td>-82.907123</td>\n",
       "    </tr>\n",
       "    <tr>\n",
       "      <th>36</th>\n",
       "      <td>Oklahoma</td>\n",
       "      <td>1738</td>\n",
       "      <td>3986639</td>\n",
       "      <td>43.595620</td>\n",
       "      <td>36</td>\n",
       "      <td>Republican</td>\n",
       "      <td>35.007752</td>\n",
       "      <td>-97.092877</td>\n",
       "    </tr>\n",
       "    <tr>\n",
       "      <th>37</th>\n",
       "      <td>Oregon</td>\n",
       "      <td>1238</td>\n",
       "      <td>4246155</td>\n",
       "      <td>29.155789</td>\n",
       "      <td>37</td>\n",
       "      <td>Democrat</td>\n",
       "      <td>43.804133</td>\n",
       "      <td>-120.554201</td>\n",
       "    </tr>\n",
       "    <tr>\n",
       "      <th>38</th>\n",
       "      <td>Pennsylvania</td>\n",
       "      <td>3974</td>\n",
       "      <td>12964056</td>\n",
       "      <td>30.653987</td>\n",
       "      <td>38</td>\n",
       "      <td>Democrat</td>\n",
       "      <td>41.203322</td>\n",
       "      <td>-77.194525</td>\n",
       "    </tr>\n",
       "    <tr>\n",
       "      <th>39</th>\n",
       "      <td>Rhode Island</td>\n",
       "      <td>463</td>\n",
       "      <td>1095610</td>\n",
       "      <td>42.259563</td>\n",
       "      <td>39</td>\n",
       "      <td>Democrat</td>\n",
       "      <td>41.580095</td>\n",
       "      <td>-71.477429</td>\n",
       "    </tr>\n",
       "    <tr>\n",
       "      <th>40</th>\n",
       "      <td>South Carolina</td>\n",
       "      <td>3186</td>\n",
       "      <td>5190705</td>\n",
       "      <td>61.378946</td>\n",
       "      <td>40</td>\n",
       "      <td>Republican</td>\n",
       "      <td>33.836081</td>\n",
       "      <td>-81.163725</td>\n",
       "    </tr>\n",
       "    <tr>\n",
       "      <th>41</th>\n",
       "      <td>South Dakota</td>\n",
       "      <td>247</td>\n",
       "      <td>895376</td>\n",
       "      <td>27.586176</td>\n",
       "      <td>41</td>\n",
       "      <td>Republican</td>\n",
       "      <td>43.969515</td>\n",
       "      <td>-99.901813</td>\n",
       "    </tr>\n",
       "    <tr>\n",
       "      <th>42</th>\n",
       "      <td>Tennessee</td>\n",
       "      <td>3777</td>\n",
       "      <td>6975218</td>\n",
       "      <td>54.148845</td>\n",
       "      <td>42</td>\n",
       "      <td>Republican</td>\n",
       "      <td>35.517491</td>\n",
       "      <td>-86.580447</td>\n",
       "    </tr>\n",
       "    <tr>\n",
       "      <th>43</th>\n",
       "      <td>Texas</td>\n",
       "      <td>6882</td>\n",
       "      <td>29527941</td>\n",
       "      <td>23.306739</td>\n",
       "      <td>43</td>\n",
       "      <td>Republican</td>\n",
       "      <td>31.968599</td>\n",
       "      <td>-99.901813</td>\n",
       "    </tr>\n",
       "    <tr>\n",
       "      <th>44</th>\n",
       "      <td>Utah</td>\n",
       "      <td>574</td>\n",
       "      <td>3337975</td>\n",
       "      <td>17.196054</td>\n",
       "      <td>44</td>\n",
       "      <td>Republican</td>\n",
       "      <td>39.320980</td>\n",
       "      <td>-111.093731</td>\n",
       "    </tr>\n",
       "    <tr>\n",
       "      <th>45</th>\n",
       "      <td>Vermont</td>\n",
       "      <td>211</td>\n",
       "      <td>645570</td>\n",
       "      <td>32.684294</td>\n",
       "      <td>45</td>\n",
       "      <td>Republican</td>\n",
       "      <td>44.558803</td>\n",
       "      <td>-72.577841</td>\n",
       "    </tr>\n",
       "    <tr>\n",
       "      <th>46</th>\n",
       "      <td>Virginia</td>\n",
       "      <td>2904</td>\n",
       "      <td>8642274</td>\n",
       "      <td>33.602267</td>\n",
       "      <td>46</td>\n",
       "      <td>Republican</td>\n",
       "      <td>37.431573</td>\n",
       "      <td>-78.656894</td>\n",
       "    </tr>\n",
       "    <tr>\n",
       "      <th>47</th>\n",
       "      <td>Washington</td>\n",
       "      <td>1693</td>\n",
       "      <td>7738692</td>\n",
       "      <td>21.877082</td>\n",
       "      <td>47</td>\n",
       "      <td>Democrat</td>\n",
       "      <td>47.751074</td>\n",
       "      <td>-120.740139</td>\n",
       "    </tr>\n",
       "    <tr>\n",
       "      <th>48</th>\n",
       "      <td>West Virginia</td>\n",
       "      <td>741</td>\n",
       "      <td>1782959</td>\n",
       "      <td>41.560126</td>\n",
       "      <td>48</td>\n",
       "      <td>Republican</td>\n",
       "      <td>38.597626</td>\n",
       "      <td>-80.454903</td>\n",
       "    </tr>\n",
       "    <tr>\n",
       "      <th>49</th>\n",
       "      <td>Wisconsin</td>\n",
       "      <td>1976</td>\n",
       "      <td>5895908</td>\n",
       "      <td>33.514770</td>\n",
       "      <td>49</td>\n",
       "      <td>Democrat</td>\n",
       "      <td>43.784440</td>\n",
       "      <td>-88.787868</td>\n",
       "    </tr>\n",
       "    <tr>\n",
       "      <th>50</th>\n",
       "      <td>Wyoming</td>\n",
       "      <td>325</td>\n",
       "      <td>578803</td>\n",
       "      <td>56.150365</td>\n",
       "      <td>50</td>\n",
       "      <td>Republican</td>\n",
       "      <td>43.075968</td>\n",
       "      <td>-107.290284</td>\n",
       "    </tr>\n",
       "  </tbody>\n",
       "</table>\n",
       "</div>"
      ],
      "text/plain": [
       "                   state  incident_count  population  per_capita  Unnamed: 0 Gov_Political_Affiliation        Lat        Long\n",
       "0                Alabama            2343     5039877   46.489230           0                Republican  32.318231  -86.902298\n",
       "1                 Alaska             825      732673  112.601392           1                Republican  63.588753 -154.493062\n",
       "2                Arizona            1034     7276316   14.210488           2                Republican  34.048928 -111.093731\n",
       "3               Arkansas            1258     3025891   41.574531           3                Republican  35.201050  -91.831833\n",
       "4             California            6851    39237836   17.460188           4                  Democrat  36.778261 -119.417932\n",
       "5               Colorado            1600     5812069   27.528923           5                  Democrat  39.550051 -105.782067\n",
       "6            Connecticut            1540     3605597   42.711373           6                  Democrat  41.603221  -73.087749\n",
       "7               Delaware             694     1003384   69.165942           7                  Democrat  38.910832  -75.527670\n",
       "8   District of Columbia            1035      670050  154.466085           8                  Democrat  38.905985  -77.033418\n",
       "9                Florida            6903    21781128   31.692573           9                Republican  27.664827  -81.515754\n",
       "10               Georgia            4475    10799566   41.436850          10                Republican  32.157435  -82.907123\n",
       "11                Hawaii             154     1441553   10.682923          11                  Democrat  19.898682 -155.665857\n",
       "12                 Idaho             332     1900923   17.465200          12                Republican  44.068202 -114.742041\n",
       "13              Illinois            8511    12671469   67.166640          13                  Democrat  40.633125  -89.398528\n",
       "14               Indiana            2831     6805985   41.595743          14                Republican  40.551217  -85.602364\n",
       "15                  Iowa            1246     3193079   39.021897          15                Republican  41.878003  -93.097702\n",
       "16                Kansas            1033     2934582   35.200925          16                  Democrat  39.011902  -98.484246\n",
       "17              Kentucky            1935     4509394   42.910422          17                  Democrat  37.839333  -84.270018\n",
       "18             Louisiana            3762     4624047   81.357305          18                  Democrat  31.244823  -92.145024\n",
       "19                 Maine             463     1372247   33.740281          19                  Democrat  45.253783  -69.445469\n",
       "20              Maryland            2577     6165129   41.799612          20                Republican  39.045755  -76.641271\n",
       "21         Massachusetts            2882     6984723   41.261479          21                Republican  42.407211  -71.382437\n",
       "22              Michigan            2584    10050811   25.709368          22                  Democrat  44.314844  -85.602364\n",
       "23             Minnesota             878     5707390   15.383564          23                  Democrat  46.729553  -94.685900\n",
       "24           Mississippi            1513     2949965   51.288744          24                Republican  32.354668  -89.398528\n",
       "25              Missouri            3254     6168187   52.754561          25                Republican  37.964253  -91.831833\n",
       "26               Montana             302     1104271   27.348359          26                Republican  46.879682 -110.362566\n",
       "27              Nebraska             755     1963692   38.447985          27                Republican  41.492537  -99.901813\n",
       "28                Nevada            1027     3143991   32.665488          28                  Democrat  38.802610 -116.419389\n",
       "29         New Hampshire             481     1388992   34.629429          29                Republican  43.193852  -71.572395\n",
       "30            New Jersey            2286     9267130   24.667831          30                  Democrat  40.058324  -74.405661\n",
       "31            New Mexico             794     2115877   37.525811          31                  Democrat  34.972730 -105.032363\n",
       "32              New York            5425    19835913   27.349384          32                  Democrat  43.299428  -74.217933\n",
       "33        North Carolina            3957    10551162   37.502978          33                  Democrat  35.759573  -79.019300\n",
       "34          North Dakota             299      774948   38.583234          34                Republican  47.551493 -101.002012\n",
       "35                  Ohio            4574    11780017   38.828467          35                Republican  40.417287  -82.907123\n",
       "36              Oklahoma            1738     3986639   43.595620          36                Republican  35.007752  -97.092877\n",
       "37                Oregon            1238     4246155   29.155789          37                  Democrat  43.804133 -120.554201\n",
       "38          Pennsylvania            3974    12964056   30.653987          38                  Democrat  41.203322  -77.194525\n",
       "39          Rhode Island             463     1095610   42.259563          39                  Democrat  41.580095  -71.477429\n",
       "40        South Carolina            3186     5190705   61.378946          40                Republican  33.836081  -81.163725\n",
       "41          South Dakota             247      895376   27.586176          41                Republican  43.969515  -99.901813\n",
       "42             Tennessee            3777     6975218   54.148845          42                Republican  35.517491  -86.580447\n",
       "43                 Texas            6882    29527941   23.306739          43                Republican  31.968599  -99.901813\n",
       "44                  Utah             574     3337975   17.196054          44                Republican  39.320980 -111.093731\n",
       "45               Vermont             211      645570   32.684294          45                Republican  44.558803  -72.577841\n",
       "46              Virginia            2904     8642274   33.602267          46                Republican  37.431573  -78.656894\n",
       "47            Washington            1693     7738692   21.877082          47                  Democrat  47.751074 -120.740139\n",
       "48         West Virginia             741     1782959   41.560126          48                Republican  38.597626  -80.454903\n",
       "49             Wisconsin            1976     5895908   33.514770          49                  Democrat  43.784440  -88.787868\n",
       "50               Wyoming             325      578803   56.150365          50                Republican  43.075968 -107.290284"
      ]
     },
     "execution_count": 26,
     "metadata": {},
     "output_type": "execute_result"
    }
   ],
   "source": [
    "political = pd.read_csv('clean_political_affiliation.csv')\n",
    "political.info()\n",
    "\n",
    "# political['Gov_Political_Affiliation', 'State']\n",
    "# political = political.drop(['Unnamed: 0'], axis=1)\n",
    "# political.set_index(['State'])\n",
    "# grouped_states = grouped_states.join(gov)\n",
    "# grouped_states\n",
    "political.rename(columns = {'State':'state'}, inplace = True)\n",
    "political.reindex()\n",
    "political.set_index('state', inplace=True)\n",
    "# political.drop(['Unnamed: 0'], axis=1)\n",
    "grouped_states = pd.merge(grouped_states, political, on=['state'])\n",
    "# grouped_states.drop(['Unnamed: 0'], axis=1)\n",
    "sort = grouped_states.sort_values(by='per_capita')\n",
    "# sorted_df = df_marks.sort_values(by='algebra')\n",
    "grouped_states.reset_index(inplace=True)\n",
    "grouped_states.rename(columns = {'index':'state'})\n",
    "\n",
    "\n",
    "\n"
   ]
  },
  {
   "cell_type": "code",
   "execution_count": 31,
   "metadata": {},
   "outputs": [
    {
     "ename": "RuntimeError",
     "evalue": "Working outside of application context.\n\nThis typically means that you attempted to use functionality that needed\nto interface with the current application object in some way. To solve\nthis, set up an application context with app.app_context().  See the\ndocumentation for more information.",
     "output_type": "error",
     "traceback": [
      "\u001b[0;31m---------------------------------------------------------------------------\u001b[0m",
      "\u001b[0;31mRuntimeError\u001b[0m                              Traceback (most recent call last)",
      "\u001b[1;32m/Users/sonnybigler/Documents/dataclass/Project-3-Gun-Incidents/Original Files/gun-violence.ipynb Cell 13\u001b[0m in \u001b[0;36m<cell line: 4>\u001b[0;34m()\u001b[0m\n\u001b[1;32m      <a href='vscode-notebook-cell:/Users/sonnybigler/Documents/dataclass/Project-3-Gun-Incidents/Original%20Files/gun-violence.ipynb#X44sZmlsZQ%3D%3D?line=0'>1</a>\u001b[0m grouped_states\u001b[39m.\u001b[39mto_csv(\u001b[39m'\u001b[39m\u001b[39mstate_data.csv\u001b[39m\u001b[39m'\u001b[39m)\n\u001b[1;32m      <a href='vscode-notebook-cell:/Users/sonnybigler/Documents/dataclass/Project-3-Gun-Incidents/Original%20Files/gun-violence.ipynb#X44sZmlsZQ%3D%3D?line=2'>3</a>\u001b[0m \u001b[39mdict\u001b[39m \u001b[39m=\u001b[39m grouped_states\u001b[39m.\u001b[39mto_dict()\n\u001b[0;32m----> <a href='vscode-notebook-cell:/Users/sonnybigler/Documents/dataclass/Project-3-Gun-Incidents/Original%20Files/gun-violence.ipynb#X44sZmlsZQ%3D%3D?line=3'>4</a>\u001b[0m jsonify(\u001b[39mdict\u001b[39;49m)\n",
      "File \u001b[0;32m/opt/anaconda3/lib/python3.9/site-packages/flask/json/__init__.py:358\u001b[0m, in \u001b[0;36mjsonify\u001b[0;34m(*args, **kwargs)\u001b[0m\n\u001b[1;32m    355\u001b[0m indent \u001b[39m=\u001b[39m \u001b[39mNone\u001b[39;00m\n\u001b[1;32m    356\u001b[0m separators \u001b[39m=\u001b[39m (\u001b[39m\"\u001b[39m\u001b[39m,\u001b[39m\u001b[39m\"\u001b[39m, \u001b[39m\"\u001b[39m\u001b[39m:\u001b[39m\u001b[39m\"\u001b[39m)\n\u001b[0;32m--> 358\u001b[0m \u001b[39mif\u001b[39;00m current_app\u001b[39m.\u001b[39;49mconfig[\u001b[39m\"\u001b[39m\u001b[39mJSONIFY_PRETTYPRINT_REGULAR\u001b[39m\u001b[39m\"\u001b[39m] \u001b[39mor\u001b[39;00m current_app\u001b[39m.\u001b[39mdebug:\n\u001b[1;32m    359\u001b[0m     indent \u001b[39m=\u001b[39m \u001b[39m2\u001b[39m\n\u001b[1;32m    360\u001b[0m     separators \u001b[39m=\u001b[39m (\u001b[39m\"\u001b[39m\u001b[39m, \u001b[39m\u001b[39m\"\u001b[39m, \u001b[39m\"\u001b[39m\u001b[39m: \u001b[39m\u001b[39m\"\u001b[39m)\n",
      "File \u001b[0;32m/opt/anaconda3/lib/python3.9/site-packages/werkzeug/local.py:436\u001b[0m, in \u001b[0;36m_ProxyLookup.__get__\u001b[0;34m(self, instance, owner)\u001b[0m\n\u001b[1;32m    433\u001b[0m     \u001b[39mreturn\u001b[39;00m \u001b[39mself\u001b[39m\n\u001b[1;32m    435\u001b[0m \u001b[39mtry\u001b[39;00m:\n\u001b[0;32m--> 436\u001b[0m     obj \u001b[39m=\u001b[39m instance\u001b[39m.\u001b[39;49m_get_current_object()\n\u001b[1;32m    437\u001b[0m \u001b[39mexcept\u001b[39;00m \u001b[39mRuntimeError\u001b[39;00m:\n\u001b[1;32m    438\u001b[0m     \u001b[39mif\u001b[39;00m \u001b[39mself\u001b[39m\u001b[39m.\u001b[39mfallback \u001b[39mis\u001b[39;00m \u001b[39mNone\u001b[39;00m:\n",
      "File \u001b[0;32m/opt/anaconda3/lib/python3.9/site-packages/werkzeug/local.py:565\u001b[0m, in \u001b[0;36mLocalProxy._get_current_object\u001b[0;34m(self)\u001b[0m\n\u001b[1;32m    560\u001b[0m \u001b[39m\"\"\"Return the current object.  This is useful if you want the real\u001b[39;00m\n\u001b[1;32m    561\u001b[0m \u001b[39mobject behind the proxy at a time for performance reasons or because\u001b[39;00m\n\u001b[1;32m    562\u001b[0m \u001b[39myou want to pass the object into a different context.\u001b[39;00m\n\u001b[1;32m    563\u001b[0m \u001b[39m\"\"\"\u001b[39;00m\n\u001b[1;32m    564\u001b[0m \u001b[39mif\u001b[39;00m \u001b[39mnot\u001b[39;00m \u001b[39mhasattr\u001b[39m(\u001b[39mself\u001b[39m\u001b[39m.\u001b[39m__local, \u001b[39m\"\u001b[39m\u001b[39m__release_local__\u001b[39m\u001b[39m\"\u001b[39m):  \u001b[39m# type: ignore\u001b[39;00m\n\u001b[0;32m--> 565\u001b[0m     \u001b[39mreturn\u001b[39;00m \u001b[39mself\u001b[39;49m\u001b[39m.\u001b[39;49m__local()  \u001b[39m# type: ignore\u001b[39;00m\n\u001b[1;32m    567\u001b[0m \u001b[39mtry\u001b[39;00m:\n\u001b[1;32m    568\u001b[0m     \u001b[39mreturn\u001b[39;00m \u001b[39mgetattr\u001b[39m(\u001b[39mself\u001b[39m\u001b[39m.\u001b[39m__local, \u001b[39mself\u001b[39m\u001b[39m.\u001b[39m__name)  \u001b[39m# type: ignore\u001b[39;00m\n",
      "File \u001b[0;32m/opt/anaconda3/lib/python3.9/site-packages/flask/globals.py:52\u001b[0m, in \u001b[0;36m_find_app\u001b[0;34m()\u001b[0m\n\u001b[1;32m     50\u001b[0m top \u001b[39m=\u001b[39m _app_ctx_stack\u001b[39m.\u001b[39mtop\n\u001b[1;32m     51\u001b[0m \u001b[39mif\u001b[39;00m top \u001b[39mis\u001b[39;00m \u001b[39mNone\u001b[39;00m:\n\u001b[0;32m---> 52\u001b[0m     \u001b[39mraise\u001b[39;00m \u001b[39mRuntimeError\u001b[39;00m(_app_ctx_err_msg)\n\u001b[1;32m     53\u001b[0m \u001b[39mreturn\u001b[39;00m top\u001b[39m.\u001b[39mapp\n",
      "\u001b[0;31mRuntimeError\u001b[0m: Working outside of application context.\n\nThis typically means that you attempted to use functionality that needed\nto interface with the current application object in some way. To solve\nthis, set up an application context with app.app_context().  See the\ndocumentation for more information."
     ]
    }
   ],
   "source": [
    "grouped_states.to_csv('state_data.csv')\n",
    "\n",
    "\n"
   ]
  },
  {
   "cell_type": "code",
   "execution_count": 18,
   "metadata": {},
   "outputs": [
    {
     "data": {
      "text/plain": [
       "Gov_Political_Affiliation\n",
       "Democrat      35.735934\n",
       "Republican    40.794257\n",
       "Name: per_capita, dtype: float64"
      ]
     },
     "execution_count": 18,
     "metadata": {},
     "output_type": "execute_result"
    }
   ],
   "source": [
    "\n",
    "\n",
    "state_stats1 = grouped_states[['state', 'population', 'per_capita', 'Gov_Political_Affiliation']]\n",
    "state_stats1 = state_stats1.drop(index=8)\n",
    "state_stats1\n",
    "\n",
    "grouped_series = raw_data_filtered.groupby(['state', 'city'])['incident_count'].sum().sort_values(ascending=False)\n",
    "\n",
    "grouped_stat_stats = state_stats1.groupby(['Gov_Political_Affiliation'])['per_capita'].mean()\n",
    "grouped_stat_stats\n"
   ]
  },
  {
   "cell_type": "code",
   "execution_count": 19,
   "metadata": {},
   "outputs": [],
   "source": [
    "# Blue_states = state_stats1[state_stats1['Gov_Political_Affiliation'] == 'Democrat']\n",
    "Blue_states = state_stats1['per_capita'][state_stats1['Gov_Political_Affiliation'] == 'Democrat']\n",
    "Blue_states.name = 'Democrat'\n",
    "Blue_States = Blue_states.reset_index()\n",
    "Red_states = state_stats1['per_capita'][state_stats1['Gov_Political_Affiliation'] == 'Republican']\n",
    "Red_States = Red_states.reset_index()\n",
    "Red_states.name = 'Republican'\n",
    "Red_States.to_csv('red.csv')\n",
    "Blue_States.to_csv('blue.csv')\n",
    "\n",
    "# RedBlue=pd.concat([Red_states,Blue_states],axis=1)\n",
    "# RedBlue\n",
    "\n"
   ]
  },
  {
   "cell_type": "code",
   "execution_count": 20,
   "metadata": {},
   "outputs": [
    {
     "data": {
      "image/png": "[encoded data removed]",
      "text/plain": [
       "<Figure size 432x288 with 1 Axes>"
      ]
     },
     "metadata": {
      "needs_background": "light"
     },
     "output_type": "display_data"
    }
   ],
   "source": [
    "from matplotlib.axis import YAxis\n",
    "import matplotlib.pyplot as plt\n",
    "\n",
    "xblue = grouped_states[grouped_states['Gov_Political_Affiliation']=='Democrat']\n",
    "xred = grouped_states[grouped_states['Gov_Political_Affiliation']=='Republican']\n",
    "x = xred['incident_count'].values\n",
    "y = xred['population'].values\n",
    "plt.scatter(x, y, c='red')\n",
    "x = xblue['incident_count'].values\n",
    "y = xblue['population'].values\n",
    "plt.scatter(x, y, c='blue')\n",
    "\n",
    "plt.show()\n"
   ]
  },
  {
   "cell_type": "code",
   "execution_count": 21,
   "metadata": {},
   "outputs": [
    {
     "data": {
      "application/vnd.plotly.v1+json": {
       "config": {
        "plotlyServerURL": "https://plot.ly"
       },
       "data": [
        {
         "customdata": [
          [
           "Republican"
          ],
          [
           "Republican"
          ],
          [
           "Republican"
          ],
          [
           "Republican"
          ],
          [
           "Democrat"
          ],
          [
           "Democrat"
          ],
          [
           "Democrat"
          ],
          [
           "Democrat"
          ],
          [
           "Democrat"
          ],
          [
           "Republican"
          ],
          [
           "Republican"
          ],
          [
           "Democrat"
          ],
          [
           "Republican"
          ],
          [
           "Democrat"
          ],
          [
           "Republican"
          ],
          [
           "Republican"
          ],
          [
           "Democrat"
          ],
          [
           "Democrat"
          ],
          [
           "Democrat"
          ],
          [
           "Democrat"
          ],
          [
           "Republican"
          ],
          [
           "Republican"
          ],
          [
           "Democrat"
          ],
          [
           "Democrat"
          ],
          [
           "Republican"
          ],
          [
           "Republican"
          ],
          [
           "Republican"
          ],
          [
           "Republican"
          ],
          [
           "Democrat"
          ],
          [
           "Republican"
          ],
          [
           "Democrat"
          ],
          [
           "Democrat"
          ],
          [
           "Democrat"
          ],
          [
           "Democrat"
          ],
          [
           "Republican"
          ],
          [
           "Republican"
          ],
          [
           "Republican"
          ],
          [
           "Democrat"
          ],
          [
           "Democrat"
          ],
          [
           "Democrat"
          ],
          [
           "Republican"
          ],
          [
           "Republican"
          ],
          [
           "Republican"
          ],
          [
           "Republican"
          ],
          [
           "Republican"
          ],
          [
           "Republican"
          ],
          [
           "Republican"
          ],
          [
           "Democrat"
          ],
          [
           "Republican"
          ],
          [
           "Democrat"
          ],
          [
           "Republican"
          ]
         ],
         "domain": {
          "x": [
           0,
           1
          ],
          "y": [
           0,
           1
          ]
         },
         "hovertemplate": "Gov_Political_Affiliation=%{customdata[0]}<extra></extra>",
         "labels": [
          "Republican",
          "Republican",
          "Republican",
          "Republican",
          "Democrat",
          "Democrat",
          "Democrat",
          "Democrat",
          "Democrat",
          "Republican",
          "Republican",
          "Democrat",
          "Republican",
          "Democrat",
          "Republican",
          "Republican",
          "Democrat",
          "Democrat",
          "Democrat",
          "Democrat",
          "Republican",
          "Republican",
          "Democrat",
          "Democrat",
          "Republican",
          "Republican",
          "Republican",
          "Republican",
          "Democrat",
          "Republican",
          "Democrat",
          "Democrat",
          "Democrat",
          "Democrat",
          "Republican",
          "Republican",
          "Republican",
          "Democrat",
          "Democrat",
          "Democrat",
          "Republican",
          "Republican",
          "Republican",
          "Republican",
          "Republican",
          "Republican",
          "Republican",
          "Democrat",
          "Republican",
          "Democrat",
          "Republican"
         ],
         "legendgroup": "",
         "marker": {
          "colors": [
           "red",
           "red",
           "red",
           "red",
           "blue",
           "blue",
           "blue",
           "blue",
           "blue",
           "red",
           "red",
           "blue",
           "red",
           "blue",
           "red",
           "red",
           "blue",
           "blue",
           "blue",
           "blue",
           "red",
           "red",
           "blue",
           "blue",
           "red",
           "red",
           "red",
           "red",
           "blue",
           "red",
           "blue",
           "blue",
           "blue",
           "blue",
           "red",
           "red",
           "red",
           "blue",
           "blue",
           "blue",
           "red",
           "red",
           "red",
           "red",
           "red",
           "red",
           "red",
           "blue",
           "red",
           "blue",
           "red"
          ]
         },
         "name": "",
         "showlegend": true,
         "type": "pie"
        }
       ],
       "layout": {
        "legend": {
         "tracegroupgap": 0
        },
        "template": {
         "data": {
          "bar": [
           {
            "error_x": {
             "color": "#2a3f5f"
            },
            "error_y": {
             "color": "#2a3f5f"
            },
            "marker": {
             "line": {
              "color": "#E5ECF6",
              "width": 0.5
             },
             "pattern": {
              "fillmode": "overlay",
              "size": 10,
              "solidity": 0.2
             }
            },
            "type": "bar"
           }
          ],
          "barpolar": [
           {
            "marker": {
             "line": {
              "color": "#E5ECF6",
              "width": 0.5
             },
             "pattern": {
              "fillmode": "overlay",
              "size": 10,
              "solidity": 0.2
             }
            },
            "type": "barpolar"
           }
          ],
          "carpet": [
           {
            "aaxis": {
             "endlinecolor": "#2a3f5f",
             "gridcolor": "white",
             "linecolor": "white",
             "minorgridcolor": "white",
             "startlinecolor": "#2a3f5f"
            },
            "baxis": {
             "endlinecolor": "#2a3f5f",
             "gridcolor": "white",
             "linecolor": "white",
             "minorgridcolor": "white",
             "startlinecolor": "#2a3f5f"
            },
            "type": "carpet"
           }
          ],
          "choropleth": [
           {
            "colorbar": {
             "outlinewidth": 0,
             "ticks": ""
            },
            "type": "choropleth"
           }
          ],
          "contour": [
           {
            "colorbar": {
             "outlinewidth": 0,
             "ticks": ""
            },
            "colorscale": [
             [
              0,
              "#0d0887"
             ],
             [
              0.1111111111111111,
              "#46039f"
             ],
             [
              0.2222222222222222,
              "#7201a8"
             ],
             [
              0.3333333333333333,
              "#9c179e"
             ],
             [
              0.4444444444444444,
              "#bd3786"
             ],
             [
              0.5555555555555556,
              "#d8576b"
             ],
             [
              0.6666666666666666,
              "#ed7953"
             ],
             [
              0.7777777777777778,
              "#fb9f3a"
             ],
             [
              0.8888888888888888,
              "#fdca26"
             ],
             [
              1,
              "#f0f921"
             ]
            ],
            "type": "contour"
           }
          ],
          "contourcarpet": [
           {
            "colorbar": {
             "outlinewidth": 0,
             "ticks": ""
            },
            "type": "contourcarpet"
           }
          ],
          "heatmap": [
           {
            "colorbar": {
             "outlinewidth": 0,
             "ticks": ""
            },
            "colorscale": [
             [
              0,
              "#0d0887"
             ],
             [
              0.1111111111111111,
              "#46039f"
             ],
             [
              0.2222222222222222,
              "#7201a8"
             ],
             [
              0.3333333333333333,
              "#9c179e"
             ],
             [
              0.4444444444444444,
              "#bd3786"
             ],
             [
              0.5555555555555556,
              "#d8576b"
             ],
             [
              0.6666666666666666,
              "#ed7953"
             ],
             [
              0.7777777777777778,
              "#fb9f3a"
             ],
             [
              0.8888888888888888,
              "#fdca26"
             ],
             [
              1,
              "#f0f921"
             ]
            ],
            "type": "heatmap"
           }
          ],
          "heatmapgl": [
           {
            "colorbar": {
             "outlinewidth": 0,
             "ticks": ""
            },
            "colorscale": [
             [
              0,
              "#0d0887"
             ],
             [
              0.1111111111111111,
              "#46039f"
             ],
             [
              0.2222222222222222,
              "#7201a8"
             ],
             [
              0.3333333333333333,
              "#9c179e"
             ],
             [
              0.4444444444444444,
              "#bd3786"
             ],
             [
              0.5555555555555556,
              "#d8576b"
             ],
             [
              0.6666666666666666,
              "#ed7953"
             ],
             [
              0.7777777777777778,
              "#fb9f3a"
             ],
             [
              0.8888888888888888,
              "#fdca26"
             ],
             [
              1,
              "#f0f921"
             ]
            ],
            "type": "heatmapgl"
           }
          ],
          "histogram": [
           {
            "marker": {
             "pattern": {
              "fillmode": "overlay",
              "size": 10,
              "solidity": 0.2
             }
            },
            "type": "histogram"
           }
          ],
          "histogram2d": [
           {
            "colorbar": {
             "outlinewidth": 0,
             "ticks": ""
            },
            "colorscale": [
             [
              0,
              "#0d0887"
             ],
             [
              0.1111111111111111,
              "#46039f"
             ],
             [
              0.2222222222222222,
              "#7201a8"
             ],
             [
              0.3333333333333333,
              "#9c179e"
             ],
             [
              0.4444444444444444,
              "#bd3786"
             ],
             [
              0.5555555555555556,
              "#d8576b"
             ],
             [
              0.6666666666666666,
              "#ed7953"
             ],
             [
              0.7777777777777778,
              "#fb9f3a"
             ],
             [
              0.8888888888888888,
              "#fdca26"
             ],
             [
              1,
              "#f0f921"
             ]
            ],
            "type": "histogram2d"
           }
          ],
          "histogram2dcontour": [
           {
            "colorbar": {
             "outlinewidth": 0,
             "ticks": ""
            },
            "colorscale": [
             [
              0,
              "#0d0887"
             ],
             [
              0.1111111111111111,
              "#46039f"
             ],
             [
              0.2222222222222222,
              "#7201a8"
             ],
             [
              0.3333333333333333,
              "#9c179e"
             ],
             [
              0.4444444444444444,
              "#bd3786"
             ],
             [
              0.5555555555555556,
              "#d8576b"
             ],
             [
              0.6666666666666666,
              "#ed7953"
             ],
             [
              0.7777777777777778,
              "#fb9f3a"
             ],
             [
              0.8888888888888888,
              "#fdca26"
             ],
             [
              1,
              "#f0f921"
             ]
            ],
            "type": "histogram2dcontour"
           }
          ],
          "mesh3d": [
           {
            "colorbar": {
             "outlinewidth": 0,
             "ticks": ""
            },
            "type": "mesh3d"
           }
          ],
          "parcoords": [
           {
            "line": {
             "colorbar": {
              "outlinewidth": 0,
              "ticks": ""
             }
            },
            "type": "parcoords"
           }
          ],
          "pie": [
           {
            "automargin": true,
            "type": "pie"
           }
          ],
          "scatter": [
           {
            "marker": {
             "colorbar": {
              "outlinewidth": 0,
              "ticks": ""
             }
            },
            "type": "scatter"
           }
          ],
          "scatter3d": [
           {
            "line": {
             "colorbar": {
              "outlinewidth": 0,
              "ticks": ""
             }
            },
            "marker": {
             "colorbar": {
              "outlinewidth": 0,
              "ticks": ""
             }
            },
            "type": "scatter3d"
           }
          ],
          "scattercarpet": [
           {
            "marker": {
             "colorbar": {
              "outlinewidth": 0,
              "ticks": ""
             }
            },
            "type": "scattercarpet"
           }
          ],
          "scattergeo": [
           {
            "marker": {
             "colorbar": {
              "outlinewidth": 0,
              "ticks": ""
             }
            },
            "type": "scattergeo"
           }
          ],
          "scattergl": [
           {
            "marker": {
             "colorbar": {
              "outlinewidth": 0,
              "ticks": ""
             }
            },
            "type": "scattergl"
           }
          ],
          "scattermapbox": [
           {
            "marker": {
             "colorbar": {
              "outlinewidth": 0,
              "ticks": ""
             }
            },
            "type": "scattermapbox"
           }
          ],
          "scatterpolar": [
           {
            "marker": {
             "colorbar": {
              "outlinewidth": 0,
              "ticks": ""
             }
            },
            "type": "scatterpolar"
           }
          ],
          "scatterpolargl": [
           {
            "marker": {
             "colorbar": {
              "outlinewidth": 0,
              "ticks": ""
             }
            },
            "type": "scatterpolargl"
           }
          ],
          "scatterternary": [
           {
            "marker": {
             "colorbar": {
              "outlinewidth": 0,
              "ticks": ""
             }
            },
            "type": "scatterternary"
           }
          ],
          "surface": [
           {
            "colorbar": {
             "outlinewidth": 0,
             "ticks": ""
            },
            "colorscale": [
             [
              0,
              "#0d0887"
             ],
             [
              0.1111111111111111,
              "#46039f"
             ],
             [
              0.2222222222222222,
              "#7201a8"
             ],
             [
              0.3333333333333333,
              "#9c179e"
             ],
             [
              0.4444444444444444,
              "#bd3786"
             ],
             [
              0.5555555555555556,
              "#d8576b"
             ],
             [
              0.6666666666666666,
              "#ed7953"
             ],
             [
              0.7777777777777778,
              "#fb9f3a"
             ],
             [
              0.8888888888888888,
              "#fdca26"
             ],
             [
              1,
              "#f0f921"
             ]
            ],
            "type": "surface"
           }
          ],
          "table": [
           {
            "cells": {
             "fill": {
              "color": "#EBF0F8"
             },
             "line": {
              "color": "white"
             }
            },
            "header": {
             "fill": {
              "color": "#C8D4E3"
             },
             "line": {
              "color": "white"
             }
            },
            "type": "table"
           }
          ]
         },
         "layout": {
          "annotationdefaults": {
           "arrowcolor": "#2a3f5f",
           "arrowhead": 0,
           "arrowwidth": 1
          },
          "autotypenumbers": "strict",
          "coloraxis": {
           "colorbar": {
            "outlinewidth": 0,
            "ticks": ""
           }
          },
          "colorscale": {
           "diverging": [
            [
             0,
             "#8e0152"
            ],
            [
             0.1,
             "#c51b7d"
            ],
            [
             0.2,
             "#de77ae"
            ],
            [
             0.3,
             "#f1b6da"
            ],
            [
             0.4,
             "#fde0ef"
            ],
            [
             0.5,
             "#f7f7f7"
            ],
            [
             0.6,
             "#e6f5d0"
            ],
            [
             0.7,
             "#b8e186"
            ],
            [
             0.8,
             "#7fbc41"
            ],
            [
             0.9,
             "#4d9221"
            ],
            [
             1,
             "#276419"
            ]
           ],
           "sequential": [
            [
             0,
             "#0d0887"
            ],
            [
             0.1111111111111111,
             "#46039f"
            ],
            [
             0.2222222222222222,
             "#7201a8"
            ],
            [
             0.3333333333333333,
             "#9c179e"
            ],
            [
             0.4444444444444444,
             "#bd3786"
            ],
            [
             0.5555555555555556,
             "#d8576b"
            ],
            [
             0.6666666666666666,
             "#ed7953"
            ],
            [
             0.7777777777777778,
             "#fb9f3a"
            ],
            [
             0.8888888888888888,
             "#fdca26"
            ],
            [
             1,
             "#f0f921"
            ]
           ],
           "sequentialminus": [
            [
             0,
             "#0d0887"
            ],
            [
             0.1111111111111111,
             "#46039f"
            ],
            [
             0.2222222222222222,
             "#7201a8"
            ],
            [
             0.3333333333333333,
             "#9c179e"
            ],
            [
             0.4444444444444444,
             "#bd3786"
            ],
            [
             0.5555555555555556,
             "#d8576b"
            ],
            [
             0.6666666666666666,
             "#ed7953"
            ],
            [
             0.7777777777777778,
             "#fb9f3a"
            ],
            [
             0.8888888888888888,
             "#fdca26"
            ],
            [
             1,
             "#f0f921"
            ]
           ]
          },
          "colorway": [
           "#636efa",
           "#EF553B",
           "#00cc96",
           "#ab63fa",
           "#FFA15A",
           "#19d3f3",
           "#FF6692",
           "#B6E880",
           "#FF97FF",
           "#FECB52"
          ],
          "font": {
           "color": "#2a3f5f"
          },
          "geo": {
           "bgcolor": "white",
           "lakecolor": "white",
           "landcolor": "#E5ECF6",
           "showlakes": true,
           "showland": true,
           "subunitcolor": "white"
          },
          "hoverlabel": {
           "align": "left"
          },
          "hovermode": "closest",
          "mapbox": {
           "style": "light"
          },
          "paper_bgcolor": "white",
          "plot_bgcolor": "#E5ECF6",
          "polar": {
           "angularaxis": {
            "gridcolor": "white",
            "linecolor": "white",
            "ticks": ""
           },
           "bgcolor": "#E5ECF6",
           "radialaxis": {
            "gridcolor": "white",
            "linecolor": "white",
            "ticks": ""
           }
          },
          "scene": {
           "xaxis": {
            "backgroundcolor": "#E5ECF6",
            "gridcolor": "white",
            "gridwidth": 2,
            "linecolor": "white",
            "showbackground": true,
            "ticks": "",
            "zerolinecolor": "white"
           },
           "yaxis": {
            "backgroundcolor": "#E5ECF6",
            "gridcolor": "white",
            "gridwidth": 2,
            "linecolor": "white",
            "showbackground": true,
            "ticks": "",
            "zerolinecolor": "white"
           },
           "zaxis": {
            "backgroundcolor": "#E5ECF6",
            "gridcolor": "white",
            "gridwidth": 2,
            "linecolor": "white",
            "showbackground": true,
            "ticks": "",
            "zerolinecolor": "white"
           }
          },
          "shapedefaults": {
           "line": {
            "color": "#2a3f5f"
           }
          },
          "ternary": {
           "aaxis": {
            "gridcolor": "white",
            "linecolor": "white",
            "ticks": ""
           },
           "baxis": {
            "gridcolor": "white",
            "linecolor": "white",
            "ticks": ""
           },
           "bgcolor": "#E5ECF6",
           "caxis": {
            "gridcolor": "white",
            "linecolor": "white",
            "ticks": ""
           }
          },
          "title": {
           "x": 0.05
          },
          "xaxis": {
           "automargin": true,
           "gridcolor": "white",
           "linecolor": "white",
           "ticks": "",
           "title": {
            "standoff": 15
           },
           "zerolinecolor": "white",
           "zerolinewidth": 2
          },
          "yaxis": {
           "automargin": true,
           "gridcolor": "white",
           "linecolor": "white",
           "ticks": "",
           "title": {
            "standoff": 15
           },
           "zerolinecolor": "white",
           "zerolinewidth": 2
          }
         }
        },
        "title": {
         "text": "Blue-Red States"
        }
       }
      }
     },
     "metadata": {},
     "output_type": "display_data"
    }
   ],
   "source": [
    "import plotly.express as px\n",
    "\n",
    "px.pie(grouped_states, names='Gov_Political_Affiliation', color='Gov_Political_Affiliation', color_discrete_map={'Republican':'red',\n",
    "                                 'Democrat':'blue'}, title=\"Blue-Red States\")\n",
    "\n"
   ]
  },
  {
   "cell_type": "code",
   "execution_count": 22,
   "metadata": {},
   "outputs": [
    {
     "data": {
      "application/vnd.plotly.v1+json": {
       "config": {
        "plotlyServerURL": "https://plot.ly"
       },
       "data": [
        {
         "alignmentgroup": "True",
         "customdata": [
          [
           "Alabama"
          ],
          [
           "Alaska"
          ],
          [
           "Arizona"
          ],
          [
           "Arkansas"
          ],
          [
           "California"
          ],
          [
           "Colorado"
          ],
          [
           "Connecticut"
          ],
          [
           "Delaware"
          ],
          [
           "Florida"
          ],
          [
           "Georgia"
          ],
          [
           "Hawaii"
          ],
          [
           "Idaho"
          ],
          [
           "Illinois"
          ],
          [
           "Indiana"
          ],
          [
           "Iowa"
          ],
          [
           "Kansas"
          ],
          [
           "Kentucky"
          ],
          [
           "Louisiana"
          ],
          [
           "Maine"
          ],
          [
           "Maryland"
          ],
          [
           "Massachusetts"
          ],
          [
           "Michigan"
          ],
          [
           "Minnesota"
          ],
          [
           "Mississippi"
          ],
          [
           "Missouri"
          ],
          [
           "Montana"
          ],
          [
           "Nebraska"
          ],
          [
           "Nevada"
          ],
          [
           "New Hampshire"
          ],
          [
           "New Jersey"
          ],
          [
           "New Mexico"
          ],
          [
           "New York"
          ],
          [
           "North Carolina"
          ],
          [
           "North Dakota"
          ],
          [
           "Ohio"
          ],
          [
           "Oklahoma"
          ],
          [
           "Oregon"
          ],
          [
           "Pennsylvania"
          ],
          [
           "Rhode Island"
          ],
          [
           "South Carolina"
          ],
          [
           "South Dakota"
          ],
          [
           "Tennessee"
          ],
          [
           "Texas"
          ],
          [
           "Utah"
          ],
          [
           "Vermont"
          ],
          [
           "Virginia"
          ],
          [
           "Washington"
          ],
          [
           "West Virginia"
          ],
          [
           "Wisconsin"
          ],
          [
           "Wyoming"
          ]
         ],
         "hovertemplate": "State Polticial Leaning=%{x}<br>gun incidents=%{y}<br>state=%{customdata[0]}<extra></extra>",
         "legendgroup": "",
         "marker": {
          "color": "#636efa"
         },
         "name": "",
         "notched": false,
         "offsetgroup": "",
         "orientation": "v",
         "showlegend": false,
         "type": "box",
         "x": [
          "Republican",
          "Republican",
          "Republican",
          "Republican",
          "Democrat",
          "Democrat",
          "Democrat",
          "Democrat",
          "Republican",
          "Republican",
          "Democrat",
          "Republican",
          "Democrat",
          "Republican",
          "Republican",
          "Democrat",
          "Democrat",
          "Democrat",
          "Democrat",
          "Republican",
          "Republican",
          "Democrat",
          "Democrat",
          "Republican",
          "Republican",
          "Republican",
          "Republican",
          "Democrat",
          "Republican",
          "Democrat",
          "Democrat",
          "Democrat",
          "Democrat",
          "Republican",
          "Republican",
          "Republican",
          "Democrat",
          "Democrat",
          "Democrat",
          "Republican",
          "Republican",
          "Republican",
          "Republican",
          "Republican",
          "Republican",
          "Republican",
          "Democrat",
          "Republican",
          "Democrat",
          "Republican"
         ],
         "x0": " ",
         "xaxis": "x",
         "y": [
          46.48922979667956,
          112.60139243564318,
          14.210487834777929,
          41.57453127029361,
          17.460188171437384,
          27.528923004871412,
          42.7113734563236,
          69.16594245074667,
          31.692573497570926,
          41.436850332689296,
          10.682923208511932,
          17.465199800307534,
          67.16664026878021,
          41.59574257069329,
          39.02189704670633,
          35.20092469728227,
          42.91042210993317,
          81.35730454296854,
          33.74028145078837,
          41.799611978922094,
          41.261478801664715,
          25.709368129596708,
          15.383564115996979,
          51.2887441037436,
          52.754561429476766,
          27.348359234282164,
          38.447984714507164,
          32.6654879101117,
          34.62942911118279,
          24.667831356633606,
          37.525810810363744,
          27.349383917947208,
          37.502978344944374,
          38.58323397182779,
          38.82846688591366,
          43.595620270608904,
          29.15578917868048,
          30.653986684414196,
          42.259563165725034,
          61.37894563455253,
          27.586176086917675,
          54.14884524039249,
          23.30673852267586,
          17.196054494116943,
          32.684294499434614,
          33.602267181068314,
          21.877082070199975,
          41.56012561141338,
          33.514769904822124,
          56.15036549568679
         ],
         "y0": " ",
         "yaxis": "y"
        }
       ],
       "layout": {
        "boxmode": "group",
        "legend": {
         "tracegroupgap": 0
        },
        "template": {
         "data": {
          "bar": [
           {
            "error_x": {
             "color": "#2a3f5f"
            },
            "error_y": {
             "color": "#2a3f5f"
            },
            "marker": {
             "line": {
              "color": "#E5ECF6",
              "width": 0.5
             },
             "pattern": {
              "fillmode": "overlay",
              "size": 10,
              "solidity": 0.2
             }
            },
            "type": "bar"
           }
          ],
          "barpolar": [
           {
            "marker": {
             "line": {
              "color": "#E5ECF6",
              "width": 0.5
             },
             "pattern": {
              "fillmode": "overlay",
              "size": 10,
              "solidity": 0.2
             }
            },
            "type": "barpolar"
           }
          ],
          "carpet": [
           {
            "aaxis": {
             "endlinecolor": "#2a3f5f",
             "gridcolor": "white",
             "linecolor": "white",
             "minorgridcolor": "white",
             "startlinecolor": "#2a3f5f"
            },
            "baxis": {
             "endlinecolor": "#2a3f5f",
             "gridcolor": "white",
             "linecolor": "white",
             "minorgridcolor": "white",
             "startlinecolor": "#2a3f5f"
            },
            "type": "carpet"
           }
          ],
          "choropleth": [
           {
            "colorbar": {
             "outlinewidth": 0,
             "ticks": ""
            },
            "type": "choropleth"
           }
          ],
          "contour": [
           {
            "colorbar": {
             "outlinewidth": 0,
             "ticks": ""
            },
            "colorscale": [
             [
              0,
              "#0d0887"
             ],
             [
              0.1111111111111111,
              "#46039f"
             ],
             [
              0.2222222222222222,
              "#7201a8"
             ],
             [
              0.3333333333333333,
              "#9c179e"
             ],
             [
              0.4444444444444444,
              "#bd3786"
             ],
             [
              0.5555555555555556,
              "#d8576b"
             ],
             [
              0.6666666666666666,
              "#ed7953"
             ],
             [
              0.7777777777777778,
              "#fb9f3a"
             ],
             [
              0.8888888888888888,
              "#fdca26"
             ],
             [
              1,
              "#f0f921"
             ]
            ],
            "type": "contour"
           }
          ],
          "contourcarpet": [
           {
            "colorbar": {
             "outlinewidth": 0,
             "ticks": ""
            },
            "type": "contourcarpet"
           }
          ],
          "heatmap": [
           {
            "colorbar": {
             "outlinewidth": 0,
             "ticks": ""
            },
            "colorscale": [
             [
              0,
              "#0d0887"
             ],
             [
              0.1111111111111111,
              "#46039f"
             ],
             [
              0.2222222222222222,
              "#7201a8"
             ],
             [
              0.3333333333333333,
              "#9c179e"
             ],
             [
              0.4444444444444444,
              "#bd3786"
             ],
             [
              0.5555555555555556,
              "#d8576b"
             ],
             [
              0.6666666666666666,
              "#ed7953"
             ],
             [
              0.7777777777777778,
              "#fb9f3a"
             ],
             [
              0.8888888888888888,
              "#fdca26"
             ],
             [
              1,
              "#f0f921"
             ]
            ],
            "type": "heatmap"
           }
          ],
          "heatmapgl": [
           {
            "colorbar": {
             "outlinewidth": 0,
             "ticks": ""
            },
            "colorscale": [
             [
              0,
              "#0d0887"
             ],
             [
              0.1111111111111111,
              "#46039f"
             ],
             [
              0.2222222222222222,
              "#7201a8"
             ],
             [
              0.3333333333333333,
              "#9c179e"
             ],
             [
              0.4444444444444444,
              "#bd3786"
             ],
             [
              0.5555555555555556,
              "#d8576b"
             ],
             [
              0.6666666666666666,
              "#ed7953"
             ],
             [
              0.7777777777777778,
              "#fb9f3a"
             ],
             [
              0.8888888888888888,
              "#fdca26"
             ],
             [
              1,
              "#f0f921"
             ]
            ],
            "type": "heatmapgl"
           }
          ],
          "histogram": [
           {
            "marker": {
             "pattern": {
              "fillmode": "overlay",
              "size": 10,
              "solidity": 0.2
             }
            },
            "type": "histogram"
           }
          ],
          "histogram2d": [
           {
            "colorbar": {
             "outlinewidth": 0,
             "ticks": ""
            },
            "colorscale": [
             [
              0,
              "#0d0887"
             ],
             [
              0.1111111111111111,
              "#46039f"
             ],
             [
              0.2222222222222222,
              "#7201a8"
             ],
             [
              0.3333333333333333,
              "#9c179e"
             ],
             [
              0.4444444444444444,
              "#bd3786"
             ],
             [
              0.5555555555555556,
              "#d8576b"
             ],
             [
              0.6666666666666666,
              "#ed7953"
             ],
             [
              0.7777777777777778,
              "#fb9f3a"
             ],
             [
              0.8888888888888888,
              "#fdca26"
             ],
             [
              1,
              "#f0f921"
             ]
            ],
            "type": "histogram2d"
           }
          ],
          "histogram2dcontour": [
           {
            "colorbar": {
             "outlinewidth": 0,
             "ticks": ""
            },
            "colorscale": [
             [
              0,
              "#0d0887"
             ],
             [
              0.1111111111111111,
              "#46039f"
             ],
             [
              0.2222222222222222,
              "#7201a8"
             ],
             [
              0.3333333333333333,
              "#9c179e"
             ],
             [
              0.4444444444444444,
              "#bd3786"
             ],
             [
              0.5555555555555556,
              "#d8576b"
             ],
             [
              0.6666666666666666,
              "#ed7953"
             ],
             [
              0.7777777777777778,
              "#fb9f3a"
             ],
             [
              0.8888888888888888,
              "#fdca26"
             ],
             [
              1,
              "#f0f921"
             ]
            ],
            "type": "histogram2dcontour"
           }
          ],
          "mesh3d": [
           {
            "colorbar": {
             "outlinewidth": 0,
             "ticks": ""
            },
            "type": "mesh3d"
           }
          ],
          "parcoords": [
           {
            "line": {
             "colorbar": {
              "outlinewidth": 0,
              "ticks": ""
             }
            },
            "type": "parcoords"
           }
          ],
          "pie": [
           {
            "automargin": true,
            "type": "pie"
           }
          ],
          "scatter": [
           {
            "marker": {
             "colorbar": {
              "outlinewidth": 0,
              "ticks": ""
             }
            },
            "type": "scatter"
           }
          ],
          "scatter3d": [
           {
            "line": {
             "colorbar": {
              "outlinewidth": 0,
              "ticks": ""
             }
            },
            "marker": {
             "colorbar": {
              "outlinewidth": 0,
              "ticks": ""
             }
            },
            "type": "scatter3d"
           }
          ],
          "scattercarpet": [
           {
            "marker": {
             "colorbar": {
              "outlinewidth": 0,
              "ticks": ""
             }
            },
            "type": "scattercarpet"
           }
          ],
          "scattergeo": [
           {
            "marker": {
             "colorbar": {
              "outlinewidth": 0,
              "ticks": ""
             }
            },
            "type": "scattergeo"
           }
          ],
          "scattergl": [
           {
            "marker": {
             "colorbar": {
              "outlinewidth": 0,
              "ticks": ""
             }
            },
            "type": "scattergl"
           }
          ],
          "scattermapbox": [
           {
            "marker": {
             "colorbar": {
              "outlinewidth": 0,
              "ticks": ""
             }
            },
            "type": "scattermapbox"
           }
          ],
          "scatterpolar": [
           {
            "marker": {
             "colorbar": {
              "outlinewidth": 0,
              "ticks": ""
             }
            },
            "type": "scatterpolar"
           }
          ],
          "scatterpolargl": [
           {
            "marker": {
             "colorbar": {
              "outlinewidth": 0,
              "ticks": ""
             }
            },
            "type": "scatterpolargl"
           }
          ],
          "scatterternary": [
           {
            "marker": {
             "colorbar": {
              "outlinewidth": 0,
              "ticks": ""
             }
            },
            "type": "scatterternary"
           }
          ],
          "surface": [
           {
            "colorbar": {
             "outlinewidth": 0,
             "ticks": ""
            },
            "colorscale": [
             [
              0,
              "#0d0887"
             ],
             [
              0.1111111111111111,
              "#46039f"
             ],
             [
              0.2222222222222222,
              "#7201a8"
             ],
             [
              0.3333333333333333,
              "#9c179e"
             ],
             [
              0.4444444444444444,
              "#bd3786"
             ],
             [
              0.5555555555555556,
              "#d8576b"
             ],
             [
              0.6666666666666666,
              "#ed7953"
             ],
             [
              0.7777777777777778,
              "#fb9f3a"
             ],
             [
              0.8888888888888888,
              "#fdca26"
             ],
             [
              1,
              "#f0f921"
             ]
            ],
            "type": "surface"
           }
          ],
          "table": [
           {
            "cells": {
             "fill": {
              "color": "#EBF0F8"
             },
             "line": {
              "color": "white"
             }
            },
            "header": {
             "fill": {
              "color": "#C8D4E3"
             },
             "line": {
              "color": "white"
             }
            },
            "type": "table"
           }
          ]
         },
         "layout": {
          "annotationdefaults": {
           "arrowcolor": "#2a3f5f",
           "arrowhead": 0,
           "arrowwidth": 1
          },
          "autotypenumbers": "strict",
          "coloraxis": {
           "colorbar": {
            "outlinewidth": 0,
            "ticks": ""
           }
          },
          "colorscale": {
           "diverging": [
            [
             0,
             "#8e0152"
            ],
            [
             0.1,
             "#c51b7d"
            ],
            [
             0.2,
             "#de77ae"
            ],
            [
             0.3,
             "#f1b6da"
            ],
            [
             0.4,
             "#fde0ef"
            ],
            [
             0.5,
             "#f7f7f7"
            ],
            [
             0.6,
             "#e6f5d0"
            ],
            [
             0.7,
             "#b8e186"
            ],
            [
             0.8,
             "#7fbc41"
            ],
            [
             0.9,
             "#4d9221"
            ],
            [
             1,
             "#276419"
            ]
           ],
           "sequential": [
            [
             0,
             "#0d0887"
            ],
            [
             0.1111111111111111,
             "#46039f"
            ],
            [
             0.2222222222222222,
             "#7201a8"
            ],
            [
             0.3333333333333333,
             "#9c179e"
            ],
            [
             0.4444444444444444,
             "#bd3786"
            ],
            [
             0.5555555555555556,
             "#d8576b"
            ],
            [
             0.6666666666666666,
             "#ed7953"
            ],
            [
             0.7777777777777778,
             "#fb9f3a"
            ],
            [
             0.8888888888888888,
             "#fdca26"
            ],
            [
             1,
             "#f0f921"
            ]
           ],
           "sequentialminus": [
            [
             0,
             "#0d0887"
            ],
            [
             0.1111111111111111,
             "#46039f"
            ],
            [
             0.2222222222222222,
             "#7201a8"
            ],
            [
             0.3333333333333333,
             "#9c179e"
            ],
            [
             0.4444444444444444,
             "#bd3786"
            ],
            [
             0.5555555555555556,
             "#d8576b"
            ],
            [
             0.6666666666666666,
             "#ed7953"
            ],
            [
             0.7777777777777778,
             "#fb9f3a"
            ],
            [
             0.8888888888888888,
             "#fdca26"
            ],
            [
             1,
             "#f0f921"
            ]
           ]
          },
          "colorway": [
           "#636efa",
           "#EF553B",
           "#00cc96",
           "#ab63fa",
           "#FFA15A",
           "#19d3f3",
           "#FF6692",
           "#B6E880",
           "#FF97FF",
           "#FECB52"
          ],
          "font": {
           "color": "#2a3f5f"
          },
          "geo": {
           "bgcolor": "white",
           "lakecolor": "white",
           "landcolor": "#E5ECF6",
           "showlakes": true,
           "showland": true,
           "subunitcolor": "white"
          },
          "hoverlabel": {
           "align": "left"
          },
          "hovermode": "closest",
          "mapbox": {
           "style": "light"
          },
          "paper_bgcolor": "white",
          "plot_bgcolor": "#E5ECF6",
          "polar": {
           "angularaxis": {
            "gridcolor": "white",
            "linecolor": "white",
            "ticks": ""
           },
           "bgcolor": "#E5ECF6",
           "radialaxis": {
            "gridcolor": "white",
            "linecolor": "white",
            "ticks": ""
           }
          },
          "scene": {
           "xaxis": {
            "backgroundcolor": "#E5ECF6",
            "gridcolor": "white",
            "gridwidth": 2,
            "linecolor": "white",
            "showbackground": true,
            "ticks": "",
            "zerolinecolor": "white"
           },
           "yaxis": {
            "backgroundcolor": "#E5ECF6",
            "gridcolor": "white",
            "gridwidth": 2,
            "linecolor": "white",
            "showbackground": true,
            "ticks": "",
            "zerolinecolor": "white"
           },
           "zaxis": {
            "backgroundcolor": "#E5ECF6",
            "gridcolor": "white",
            "gridwidth": 2,
            "linecolor": "white",
            "showbackground": true,
            "ticks": "",
            "zerolinecolor": "white"
           }
          },
          "shapedefaults": {
           "line": {
            "color": "#2a3f5f"
           }
          },
          "ternary": {
           "aaxis": {
            "gridcolor": "white",
            "linecolor": "white",
            "ticks": ""
           },
           "baxis": {
            "gridcolor": "white",
            "linecolor": "white",
            "ticks": ""
           },
           "bgcolor": "#E5ECF6",
           "caxis": {
            "gridcolor": "white",
            "linecolor": "white",
            "ticks": ""
           }
          },
          "title": {
           "x": 0.05
          },
          "xaxis": {
           "automargin": true,
           "gridcolor": "white",
           "linecolor": "white",
           "ticks": "",
           "title": {
            "standoff": 15
           },
           "zerolinecolor": "white",
           "zerolinewidth": 2
          },
          "yaxis": {
           "automargin": true,
           "gridcolor": "white",
           "linecolor": "white",
           "ticks": "",
           "title": {
            "standoff": 15
           },
           "zerolinecolor": "white",
           "zerolinewidth": 2
          }
         }
        },
        "title": {
         "text": "Box & Whisker Plot of Per Capita Incidents"
        },
        "xaxis": {
         "anchor": "y",
         "domain": [
          0,
          1
         ],
         "title": {
          "text": "State Polticial Leaning"
         }
        },
        "yaxis": {
         "anchor": "x",
         "domain": [
          0,
          1
         ],
         "title": {
          "text": "gun incidents"
         }
        }
       }
      }
     },
     "metadata": {},
     "output_type": "display_data"
    }
   ],
   "source": [
    "px.box(state_stats1, y ='per_capita', x='Gov_Political_Affiliation', title='Box & Whisker Plot of Per Capita Incidents', hover_data=['state'],\\\n",
    "    labels={'Gov_Political_Affiliation':'State Polticial Leaning', 'per_capita':'gun incidents'})"
   ]
  },
  {
   "cell_type": "code",
   "execution_count": 23,
   "metadata": {},
   "outputs": [
    {
     "data": {
      "application/vnd.plotly.v1+json": {
       "config": {
        "plotlyServerURL": "https://plot.ly"
       },
       "data": [
        {
         "alignmentgroup": "True",
         "hovertemplate": "variable=per_capita<br>Mean Gun Incidents by Poltical Leaning (States)=%{x}<br>Incidents=%{y}<extra></extra>",
         "legendgroup": "per_capita",
         "marker": {
          "color": "#636efa",
          "pattern": {
           "shape": ""
          }
         },
         "name": "per_capita",
         "offsetgroup": "per_capita",
         "orientation": "v",
         "showlegend": true,
         "textposition": "auto",
         "type": "bar",
         "x": [
          "Democrat",
          "Republican"
         ],
         "xaxis": "x",
         "y": [
          35.73593358868544,
          40.794257423348206
         ],
         "yaxis": "y"
        }
       ],
       "layout": {
        "barmode": "relative",
        "legend": {
         "title": {
          "text": "variable"
         },
         "tracegroupgap": 0
        },
        "margin": {
         "t": 60
        },
        "template": {
         "data": {
          "bar": [
           {
            "error_x": {
             "color": "#2a3f5f"
            },
            "error_y": {
             "color": "#2a3f5f"
            },
            "marker": {
             "line": {
              "color": "#E5ECF6",
              "width": 0.5
             },
             "pattern": {
              "fillmode": "overlay",
              "size": 10,
              "solidity": 0.2
             }
            },
            "type": "bar"
           }
          ],
          "barpolar": [
           {
            "marker": {
             "line": {
              "color": "#E5ECF6",
              "width": 0.5
             },
             "pattern": {
              "fillmode": "overlay",
              "size": 10,
              "solidity": 0.2
             }
            },
            "type": "barpolar"
           }
          ],
          "carpet": [
           {
            "aaxis": {
             "endlinecolor": "#2a3f5f",
             "gridcolor": "white",
             "linecolor": "white",
             "minorgridcolor": "white",
             "startlinecolor": "#2a3f5f"
            },
            "baxis": {
             "endlinecolor": "#2a3f5f",
             "gridcolor": "white",
             "linecolor": "white",
             "minorgridcolor": "white",
             "startlinecolor": "#2a3f5f"
            },
            "type": "carpet"
           }
          ],
          "choropleth": [
           {
            "colorbar": {
             "outlinewidth": 0,
             "ticks": ""
            },
            "type": "choropleth"
           }
          ],
          "contour": [
           {
            "colorbar": {
             "outlinewidth": 0,
             "ticks": ""
            },
            "colorscale": [
             [
              0,
              "#0d0887"
             ],
             [
              0.1111111111111111,
              "#46039f"
             ],
             [
              0.2222222222222222,
              "#7201a8"
             ],
             [
              0.3333333333333333,
              "#9c179e"
             ],
             [
              0.4444444444444444,
              "#bd3786"
             ],
             [
              0.5555555555555556,
              "#d8576b"
             ],
             [
              0.6666666666666666,
              "#ed7953"
             ],
             [
              0.7777777777777778,
              "#fb9f3a"
             ],
             [
              0.8888888888888888,
              "#fdca26"
             ],
             [
              1,
              "#f0f921"
             ]
            ],
            "type": "contour"
           }
          ],
          "contourcarpet": [
           {
            "colorbar": {
             "outlinewidth": 0,
             "ticks": ""
            },
            "type": "contourcarpet"
           }
          ],
          "heatmap": [
           {
            "colorbar": {
             "outlinewidth": 0,
             "ticks": ""
            },
            "colorscale": [
             [
              0,
              "#0d0887"
             ],
             [
              0.1111111111111111,
              "#46039f"
             ],
             [
              0.2222222222222222,
              "#7201a8"
             ],
             [
              0.3333333333333333,
              "#9c179e"
             ],
             [
              0.4444444444444444,
              "#bd3786"
             ],
             [
              0.5555555555555556,
              "#d8576b"
             ],
             [
              0.6666666666666666,
              "#ed7953"
             ],
             [
              0.7777777777777778,
              "#fb9f3a"
             ],
             [
              0.8888888888888888,
              "#fdca26"
             ],
             [
              1,
              "#f0f921"
             ]
            ],
            "type": "heatmap"
           }
          ],
          "heatmapgl": [
           {
            "colorbar": {
             "outlinewidth": 0,
             "ticks": ""
            },
            "colorscale": [
             [
              0,
              "#0d0887"
             ],
             [
              0.1111111111111111,
              "#46039f"
             ],
             [
              0.2222222222222222,
              "#7201a8"
             ],
             [
              0.3333333333333333,
              "#9c179e"
             ],
             [
              0.4444444444444444,
              "#bd3786"
             ],
             [
              0.5555555555555556,
              "#d8576b"
             ],
             [
              0.6666666666666666,
              "#ed7953"
             ],
             [
              0.7777777777777778,
              "#fb9f3a"
             ],
             [
              0.8888888888888888,
              "#fdca26"
             ],
             [
              1,
              "#f0f921"
             ]
            ],
            "type": "heatmapgl"
           }
          ],
          "histogram": [
           {
            "marker": {
             "pattern": {
              "fillmode": "overlay",
              "size": 10,
              "solidity": 0.2
             }
            },
            "type": "histogram"
           }
          ],
          "histogram2d": [
           {
            "colorbar": {
             "outlinewidth": 0,
             "ticks": ""
            },
            "colorscale": [
             [
              0,
              "#0d0887"
             ],
             [
              0.1111111111111111,
              "#46039f"
             ],
             [
              0.2222222222222222,
              "#7201a8"
             ],
             [
              0.3333333333333333,
              "#9c179e"
             ],
             [
              0.4444444444444444,
              "#bd3786"
             ],
             [
              0.5555555555555556,
              "#d8576b"
             ],
             [
              0.6666666666666666,
              "#ed7953"
             ],
             [
              0.7777777777777778,
              "#fb9f3a"
             ],
             [
              0.8888888888888888,
              "#fdca26"
             ],
             [
              1,
              "#f0f921"
             ]
            ],
            "type": "histogram2d"
           }
          ],
          "histogram2dcontour": [
           {
            "colorbar": {
             "outlinewidth": 0,
             "ticks": ""
            },
            "colorscale": [
             [
              0,
              "#0d0887"
             ],
             [
              0.1111111111111111,
              "#46039f"
             ],
             [
              0.2222222222222222,
              "#7201a8"
             ],
             [
              0.3333333333333333,
              "#9c179e"
             ],
             [
              0.4444444444444444,
              "#bd3786"
             ],
             [
              0.5555555555555556,
              "#d8576b"
             ],
             [
              0.6666666666666666,
              "#ed7953"
             ],
             [
              0.7777777777777778,
              "#fb9f3a"
             ],
             [
              0.8888888888888888,
              "#fdca26"
             ],
             [
              1,
              "#f0f921"
             ]
            ],
            "type": "histogram2dcontour"
           }
          ],
          "mesh3d": [
           {
            "colorbar": {
             "outlinewidth": 0,
             "ticks": ""
            },
            "type": "mesh3d"
           }
          ],
          "parcoords": [
           {
            "line": {
             "colorbar": {
              "outlinewidth": 0,
              "ticks": ""
             }
            },
            "type": "parcoords"
           }
          ],
          "pie": [
           {
            "automargin": true,
            "type": "pie"
           }
          ],
          "scatter": [
           {
            "marker": {
             "colorbar": {
              "outlinewidth": 0,
              "ticks": ""
             }
            },
            "type": "scatter"
           }
          ],
          "scatter3d": [
           {
            "line": {
             "colorbar": {
              "outlinewidth": 0,
              "ticks": ""
             }
            },
            "marker": {
             "colorbar": {
              "outlinewidth": 0,
              "ticks": ""
             }
            },
            "type": "scatter3d"
           }
          ],
          "scattercarpet": [
           {
            "marker": {
             "colorbar": {
              "outlinewidth": 0,
              "ticks": ""
             }
            },
            "type": "scattercarpet"
           }
          ],
          "scattergeo": [
           {
            "marker": {
             "colorbar": {
              "outlinewidth": 0,
              "ticks": ""
             }
            },
            "type": "scattergeo"
           }
          ],
          "scattergl": [
           {
            "marker": {
             "colorbar": {
              "outlinewidth": 0,
              "ticks": ""
             }
            },
            "type": "scattergl"
           }
          ],
          "scattermapbox": [
           {
            "marker": {
             "colorbar": {
              "outlinewidth": 0,
              "ticks": ""
             }
            },
            "type": "scattermapbox"
           }
          ],
          "scatterpolar": [
           {
            "marker": {
             "colorbar": {
              "outlinewidth": 0,
              "ticks": ""
             }
            },
            "type": "scatterpolar"
           }
          ],
          "scatterpolargl": [
           {
            "marker": {
             "colorbar": {
              "outlinewidth": 0,
              "ticks": ""
             }
            },
            "type": "scatterpolargl"
           }
          ],
          "scatterternary": [
           {
            "marker": {
             "colorbar": {
              "outlinewidth": 0,
              "ticks": ""
             }
            },
            "type": "scatterternary"
           }
          ],
          "surface": [
           {
            "colorbar": {
             "outlinewidth": 0,
             "ticks": ""
            },
            "colorscale": [
             [
              0,
              "#0d0887"
             ],
             [
              0.1111111111111111,
              "#46039f"
             ],
             [
              0.2222222222222222,
              "#7201a8"
             ],
             [
              0.3333333333333333,
              "#9c179e"
             ],
             [
              0.4444444444444444,
              "#bd3786"
             ],
             [
              0.5555555555555556,
              "#d8576b"
             ],
             [
              0.6666666666666666,
              "#ed7953"
             ],
             [
              0.7777777777777778,
              "#fb9f3a"
             ],
             [
              0.8888888888888888,
              "#fdca26"
             ],
             [
              1,
              "#f0f921"
             ]
            ],
            "type": "surface"
           }
          ],
          "table": [
           {
            "cells": {
             "fill": {
              "color": "#EBF0F8"
             },
             "line": {
              "color": "white"
             }
            },
            "header": {
             "fill": {
              "color": "#C8D4E3"
             },
             "line": {
              "color": "white"
             }
            },
            "type": "table"
           }
          ]
         },
         "layout": {
          "annotationdefaults": {
           "arrowcolor": "#2a3f5f",
           "arrowhead": 0,
           "arrowwidth": 1
          },
          "autotypenumbers": "strict",
          "coloraxis": {
           "colorbar": {
            "outlinewidth": 0,
            "ticks": ""
           }
          },
          "colorscale": {
           "diverging": [
            [
             0,
             "#8e0152"
            ],
            [
             0.1,
             "#c51b7d"
            ],
            [
             0.2,
             "#de77ae"
            ],
            [
             0.3,
             "#f1b6da"
            ],
            [
             0.4,
             "#fde0ef"
            ],
            [
             0.5,
             "#f7f7f7"
            ],
            [
             0.6,
             "#e6f5d0"
            ],
            [
             0.7,
             "#b8e186"
            ],
            [
             0.8,
             "#7fbc41"
            ],
            [
             0.9,
             "#4d9221"
            ],
            [
             1,
             "#276419"
            ]
           ],
           "sequential": [
            [
             0,
             "#0d0887"
            ],
            [
             0.1111111111111111,
             "#46039f"
            ],
            [
             0.2222222222222222,
             "#7201a8"
            ],
            [
             0.3333333333333333,
             "#9c179e"
            ],
            [
             0.4444444444444444,
             "#bd3786"
            ],
            [
             0.5555555555555556,
             "#d8576b"
            ],
            [
             0.6666666666666666,
             "#ed7953"
            ],
            [
             0.7777777777777778,
             "#fb9f3a"
            ],
            [
             0.8888888888888888,
             "#fdca26"
            ],
            [
             1,
             "#f0f921"
            ]
           ],
           "sequentialminus": [
            [
             0,
             "#0d0887"
            ],
            [
             0.1111111111111111,
             "#46039f"
            ],
            [
             0.2222222222222222,
             "#7201a8"
            ],
            [
             0.3333333333333333,
             "#9c179e"
            ],
            [
             0.4444444444444444,
             "#bd3786"
            ],
            [
             0.5555555555555556,
             "#d8576b"
            ],
            [
             0.6666666666666666,
             "#ed7953"
            ],
            [
             0.7777777777777778,
             "#fb9f3a"
            ],
            [
             0.8888888888888888,
             "#fdca26"
            ],
            [
             1,
             "#f0f921"
            ]
           ]
          },
          "colorway": [
           "#636efa",
           "#EF553B",
           "#00cc96",
           "#ab63fa",
           "#FFA15A",
           "#19d3f3",
           "#FF6692",
           "#B6E880",
           "#FF97FF",
           "#FECB52"
          ],
          "font": {
           "color": "#2a3f5f"
          },
          "geo": {
           "bgcolor": "white",
           "lakecolor": "white",
           "landcolor": "#E5ECF6",
           "showlakes": true,
           "showland": true,
           "subunitcolor": "white"
          },
          "hoverlabel": {
           "align": "left"
          },
          "hovermode": "closest",
          "mapbox": {
           "style": "light"
          },
          "paper_bgcolor": "white",
          "plot_bgcolor": "#E5ECF6",
          "polar": {
           "angularaxis": {
            "gridcolor": "white",
            "linecolor": "white",
            "ticks": ""
           },
           "bgcolor": "#E5ECF6",
           "radialaxis": {
            "gridcolor": "white",
            "linecolor": "white",
            "ticks": ""
           }
          },
          "scene": {
           "xaxis": {
            "backgroundcolor": "#E5ECF6",
            "gridcolor": "white",
            "gridwidth": 2,
            "linecolor": "white",
            "showbackground": true,
            "ticks": "",
            "zerolinecolor": "white"
           },
           "yaxis": {
            "backgroundcolor": "#E5ECF6",
            "gridcolor": "white",
            "gridwidth": 2,
            "linecolor": "white",
            "showbackground": true,
            "ticks": "",
            "zerolinecolor": "white"
           },
           "zaxis": {
            "backgroundcolor": "#E5ECF6",
            "gridcolor": "white",
            "gridwidth": 2,
            "linecolor": "white",
            "showbackground": true,
            "ticks": "",
            "zerolinecolor": "white"
           }
          },
          "shapedefaults": {
           "line": {
            "color": "#2a3f5f"
           }
          },
          "ternary": {
           "aaxis": {
            "gridcolor": "white",
            "linecolor": "white",
            "ticks": ""
           },
           "baxis": {
            "gridcolor": "white",
            "linecolor": "white",
            "ticks": ""
           },
           "bgcolor": "#E5ECF6",
           "caxis": {
            "gridcolor": "white",
            "linecolor": "white",
            "ticks": ""
           }
          },
          "title": {
           "x": 0.05
          },
          "xaxis": {
           "automargin": true,
           "gridcolor": "white",
           "linecolor": "white",
           "ticks": "",
           "title": {
            "standoff": 15
           },
           "zerolinecolor": "white",
           "zerolinewidth": 2
          },
          "yaxis": {
           "automargin": true,
           "gridcolor": "white",
           "linecolor": "white",
           "ticks": "",
           "title": {
            "standoff": 15
           },
           "zerolinecolor": "white",
           "zerolinewidth": 2
          }
         }
        },
        "xaxis": {
         "anchor": "y",
         "domain": [
          0,
          1
         ],
         "title": {
          "text": "Mean Gun Incidents by Poltical Leaning (States)"
         }
        },
        "yaxis": {
         "anchor": "x",
         "domain": [
          0,
          1
         ],
         "title": {
          "text": "Incidents"
         }
        }
       }
      }
     },
     "metadata": {},
     "output_type": "display_data"
    }
   ],
   "source": [
    "\n",
    "\n",
    "px.bar(state_stats1.groupby(['Gov_Political_Affiliation'])['per_capita'].mean(), labels={\n",
    "                     \"Gov_Political_Affiliation\": \"Mean Gun Incidents by Poltical Leaning (States)\",\n",
    "                     \"value\": \"Incidents\",\n",
    "                     \"per_capita\": \"incident average\"})"
   ]
  },
  {
   "cell_type": "code",
   "execution_count": 24,
   "metadata": {},
   "outputs": [
    {
     "data": {
      "application/vnd.plotly.v1+json": {
       "config": {
        "plotlyServerURL": "https://plot.ly"
       },
       "data": [
        {
         "hovertemplate": "Gov_Political_Affiliation=Republican<br>per_capita=%{marker.size}<br>incident_count=%{y}<extra></extra>",
         "legendgroup": "Republican",
         "marker": {
          "color": "#636efa",
          "size": [
           46.48922979667956,
           112.60139243564318,
           14.210487834777929,
           41.57453127029361,
           31.692573497570926,
           41.436850332689296,
           17.465199800307534,
           41.59574257069329,
           39.02189704670633,
           41.799611978922094,
           41.261478801664715,
           51.2887441037436,
           52.754561429476766,
           27.348359234282164,
           38.447984714507164,
           34.62942911118279,
           38.58323397182779,
           38.82846688591366,
           43.595620270608904,
           61.37894563455253,
           27.586176086917675,
           54.14884524039249,
           23.30673852267586,
           17.196054494116943,
           32.684294499434614,
           33.602267181068314,
           41.56012561141338,
           56.15036549568679
          ],
          "sizemode": "area",
          "sizeref": 0.38616521155137673,
          "symbol": "circle"
         },
         "mode": "markers",
         "name": "Republican",
         "orientation": "v",
         "showlegend": true,
         "type": "scatter",
         "x": [
          46.48922979667956,
          112.60139243564318,
          14.210487834777929,
          41.57453127029361,
          31.692573497570926,
          41.436850332689296,
          17.465199800307534,
          41.59574257069329,
          39.02189704670633,
          41.799611978922094,
          41.261478801664715,
          51.2887441037436,
          52.754561429476766,
          27.348359234282164,
          38.447984714507164,
          34.62942911118279,
          38.58323397182779,
          38.82846688591366,
          43.595620270608904,
          61.37894563455253,
          27.586176086917675,
          54.14884524039249,
          23.30673852267586,
          17.196054494116943,
          32.684294499434614,
          33.602267181068314,
          41.56012561141338,
          56.15036549568679
         ],
         "xaxis": "x",
         "y": [
          2343,
          825,
          1034,
          1258,
          6903,
          4475,
          332,
          2831,
          1246,
          2577,
          2882,
          1513,
          3254,
          302,
          755,
          481,
          299,
          4574,
          1738,
          3186,
          247,
          3777,
          6882,
          574,
          211,
          2904,
          741,
          325
         ],
         "yaxis": "y"
        },
        {
         "hovertemplate": "Gov_Political_Affiliation=Democrat<br>per_capita=%{marker.size}<br>incident_count=%{y}<extra></extra>",
         "legendgroup": "Democrat",
         "marker": {
          "color": "#EF553B",
          "size": [
           17.460188171437384,
           27.528923004871412,
           42.7113734563236,
           69.16594245074667,
           154.4660846205507,
           10.682923208511932,
           67.16664026878021,
           35.20092469728227,
           42.91042210993317,
           81.35730454296854,
           33.74028145078837,
           25.709368129596708,
           15.383564115996979,
           32.6654879101117,
           24.667831356633606,
           37.525810810363744,
           27.349383917947208,
           37.502978344944374,
           29.15578917868048,
           30.653986684414196,
           42.259563165725034,
           21.877082070199975,
           33.514769904822124
          ],
          "sizemode": "area",
          "sizeref": 0.38616521155137673,
          "symbol": "circle"
         },
         "mode": "markers",
         "name": "Democrat",
         "orientation": "v",
         "showlegend": true,
         "type": "scatter",
         "x": [
          17.460188171437384,
          27.528923004871412,
          42.7113734563236,
          69.16594245074667,
          154.4660846205507,
          10.682923208511932,
          67.16664026878021,
          35.20092469728227,
          42.91042210993317,
          81.35730454296854,
          33.74028145078837,
          25.709368129596708,
          15.383564115996979,
          32.6654879101117,
          24.667831356633606,
          37.525810810363744,
          27.349383917947208,
          37.502978344944374,
          29.15578917868048,
          30.653986684414196,
          42.259563165725034,
          21.877082070199975,
          33.514769904822124
         ],
         "xaxis": "x",
         "y": [
          6851,
          1600,
          1540,
          694,
          1035,
          154,
          8511,
          1033,
          1935,
          3762,
          463,
          2584,
          878,
          1027,
          2286,
          794,
          5425,
          3957,
          1238,
          3974,
          463,
          1693,
          1976
         ],
         "yaxis": "y"
        }
       ],
       "layout": {
        "legend": {
         "itemsizing": "constant",
         "title": {
          "text": "Gov_Political_Affiliation"
         },
         "tracegroupgap": 0
        },
        "margin": {
         "t": 60
        },
        "template": {
         "data": {
          "bar": [
           {
            "error_x": {
             "color": "#2a3f5f"
            },
            "error_y": {
             "color": "#2a3f5f"
            },
            "marker": {
             "line": {
              "color": "#E5ECF6",
              "width": 0.5
             },
             "pattern": {
              "fillmode": "overlay",
              "size": 10,
              "solidity": 0.2
             }
            },
            "type": "bar"
           }
          ],
          "barpolar": [
           {
            "marker": {
             "line": {
              "color": "#E5ECF6",
              "width": 0.5
             },
             "pattern": {
              "fillmode": "overlay",
              "size": 10,
              "solidity": 0.2
             }
            },
            "type": "barpolar"
           }
          ],
          "carpet": [
           {
            "aaxis": {
             "endlinecolor": "#2a3f5f",
             "gridcolor": "white",
             "linecolor": "white",
             "minorgridcolor": "white",
             "startlinecolor": "#2a3f5f"
            },
            "baxis": {
             "endlinecolor": "#2a3f5f",
             "gridcolor": "white",
             "linecolor": "white",
             "minorgridcolor": "white",
             "startlinecolor": "#2a3f5f"
            },
            "type": "carpet"
           }
          ],
          "choropleth": [
           {
            "colorbar": {
             "outlinewidth": 0,
             "ticks": ""
            },
            "type": "choropleth"
           }
          ],
          "contour": [
           {
            "colorbar": {
             "outlinewidth": 0,
             "ticks": ""
            },
            "colorscale": [
             [
              0,
              "#0d0887"
             ],
             [
              0.1111111111111111,
              "#46039f"
             ],
             [
              0.2222222222222222,
              "#7201a8"
             ],
             [
              0.3333333333333333,
              "#9c179e"
             ],
             [
              0.4444444444444444,
              "#bd3786"
             ],
             [
              0.5555555555555556,
              "#d8576b"
             ],
             [
              0.6666666666666666,
              "#ed7953"
             ],
             [
              0.7777777777777778,
              "#fb9f3a"
             ],
             [
              0.8888888888888888,
              "#fdca26"
             ],
             [
              1,
              "#f0f921"
             ]
            ],
            "type": "contour"
           }
          ],
          "contourcarpet": [
           {
            "colorbar": {
             "outlinewidth": 0,
             "ticks": ""
            },
            "type": "contourcarpet"
           }
          ],
          "heatmap": [
           {
            "colorbar": {
             "outlinewidth": 0,
             "ticks": ""
            },
            "colorscale": [
             [
              0,
              "#0d0887"
             ],
             [
              0.1111111111111111,
              "#46039f"
             ],
             [
              0.2222222222222222,
              "#7201a8"
             ],
             [
              0.3333333333333333,
              "#9c179e"
             ],
             [
              0.4444444444444444,
              "#bd3786"
             ],
             [
              0.5555555555555556,
              "#d8576b"
             ],
             [
              0.6666666666666666,
              "#ed7953"
             ],
             [
              0.7777777777777778,
              "#fb9f3a"
             ],
             [
              0.8888888888888888,
              "#fdca26"
             ],
             [
              1,
              "#f0f921"
             ]
            ],
            "type": "heatmap"
           }
          ],
          "heatmapgl": [
           {
            "colorbar": {
             "outlinewidth": 0,
             "ticks": ""
            },
            "colorscale": [
             [
              0,
              "#0d0887"
             ],
             [
              0.1111111111111111,
              "#46039f"
             ],
             [
              0.2222222222222222,
              "#7201a8"
             ],
             [
              0.3333333333333333,
              "#9c179e"
             ],
             [
              0.4444444444444444,
              "#bd3786"
             ],
             [
              0.5555555555555556,
              "#d8576b"
             ],
             [
              0.6666666666666666,
              "#ed7953"
             ],
             [
              0.7777777777777778,
              "#fb9f3a"
             ],
             [
              0.8888888888888888,
              "#fdca26"
             ],
             [
              1,
              "#f0f921"
             ]
            ],
            "type": "heatmapgl"
           }
          ],
          "histogram": [
           {
            "marker": {
             "pattern": {
              "fillmode": "overlay",
              "size": 10,
              "solidity": 0.2
             }
            },
            "type": "histogram"
           }
          ],
          "histogram2d": [
           {
            "colorbar": {
             "outlinewidth": 0,
             "ticks": ""
            },
            "colorscale": [
             [
              0,
              "#0d0887"
             ],
             [
              0.1111111111111111,
              "#46039f"
             ],
             [
              0.2222222222222222,
              "#7201a8"
             ],
             [
              0.3333333333333333,
              "#9c179e"
             ],
             [
              0.4444444444444444,
              "#bd3786"
             ],
             [
              0.5555555555555556,
              "#d8576b"
             ],
             [
              0.6666666666666666,
              "#ed7953"
             ],
             [
              0.7777777777777778,
              "#fb9f3a"
             ],
             [
              0.8888888888888888,
              "#fdca26"
             ],
             [
              1,
              "#f0f921"
             ]
            ],
            "type": "histogram2d"
           }
          ],
          "histogram2dcontour": [
           {
            "colorbar": {
             "outlinewidth": 0,
             "ticks": ""
            },
            "colorscale": [
             [
              0,
              "#0d0887"
             ],
             [
              0.1111111111111111,
              "#46039f"
             ],
             [
              0.2222222222222222,
              "#7201a8"
             ],
             [
              0.3333333333333333,
              "#9c179e"
             ],
             [
              0.4444444444444444,
              "#bd3786"
             ],
             [
              0.5555555555555556,
              "#d8576b"
             ],
             [
              0.6666666666666666,
              "#ed7953"
             ],
             [
              0.7777777777777778,
              "#fb9f3a"
             ],
             [
              0.8888888888888888,
              "#fdca26"
             ],
             [
              1,
              "#f0f921"
             ]
            ],
            "type": "histogram2dcontour"
           }
          ],
          "mesh3d": [
           {
            "colorbar": {
             "outlinewidth": 0,
             "ticks": ""
            },
            "type": "mesh3d"
           }
          ],
          "parcoords": [
           {
            "line": {
             "colorbar": {
              "outlinewidth": 0,
              "ticks": ""
             }
            },
            "type": "parcoords"
           }
          ],
          "pie": [
           {
            "automargin": true,
            "type": "pie"
           }
          ],
          "scatter": [
           {
            "marker": {
             "colorbar": {
              "outlinewidth": 0,
              "ticks": ""
             }
            },
            "type": "scatter"
           }
          ],
          "scatter3d": [
           {
            "line": {
             "colorbar": {
              "outlinewidth": 0,
              "ticks": ""
             }
            },
            "marker": {
             "colorbar": {
              "outlinewidth": 0,
              "ticks": ""
             }
            },
            "type": "scatter3d"
           }
          ],
          "scattercarpet": [
           {
            "marker": {
             "colorbar": {
              "outlinewidth": 0,
              "ticks": ""
             }
            },
            "type": "scattercarpet"
           }
          ],
          "scattergeo": [
           {
            "marker": {
             "colorbar": {
              "outlinewidth": 0,
              "ticks": ""
             }
            },
            "type": "scattergeo"
           }
          ],
          "scattergl": [
           {
            "marker": {
             "colorbar": {
              "outlinewidth": 0,
              "ticks": ""
             }
            },
            "type": "scattergl"
           }
          ],
          "scattermapbox": [
           {
            "marker": {
             "colorbar": {
              "outlinewidth": 0,
              "ticks": ""
             }
            },
            "type": "scattermapbox"
           }
          ],
          "scatterpolar": [
           {
            "marker": {
             "colorbar": {
              "outlinewidth": 0,
              "ticks": ""
             }
            },
            "type": "scatterpolar"
           }
          ],
          "scatterpolargl": [
           {
            "marker": {
             "colorbar": {
              "outlinewidth": 0,
              "ticks": ""
             }
            },
            "type": "scatterpolargl"
           }
          ],
          "scatterternary": [
           {
            "marker": {
             "colorbar": {
              "outlinewidth": 0,
              "ticks": ""
             }
            },
            "type": "scatterternary"
           }
          ],
          "surface": [
           {
            "colorbar": {
             "outlinewidth": 0,
             "ticks": ""
            },
            "colorscale": [
             [
              0,
              "#0d0887"
             ],
             [
              0.1111111111111111,
              "#46039f"
             ],
             [
              0.2222222222222222,
              "#7201a8"
             ],
             [
              0.3333333333333333,
              "#9c179e"
             ],
             [
              0.4444444444444444,
              "#bd3786"
             ],
             [
              0.5555555555555556,
              "#d8576b"
             ],
             [
              0.6666666666666666,
              "#ed7953"
             ],
             [
              0.7777777777777778,
              "#fb9f3a"
             ],
             [
              0.8888888888888888,
              "#fdca26"
             ],
             [
              1,
              "#f0f921"
             ]
            ],
            "type": "surface"
           }
          ],
          "table": [
           {
            "cells": {
             "fill": {
              "color": "#EBF0F8"
             },
             "line": {
              "color": "white"
             }
            },
            "header": {
             "fill": {
              "color": "#C8D4E3"
             },
             "line": {
              "color": "white"
             }
            },
            "type": "table"
           }
          ]
         },
         "layout": {
          "annotationdefaults": {
           "arrowcolor": "#2a3f5f",
           "arrowhead": 0,
           "arrowwidth": 1
          },
          "autotypenumbers": "strict",
          "coloraxis": {
           "colorbar": {
            "outlinewidth": 0,
            "ticks": ""
           }
          },
          "colorscale": {
           "diverging": [
            [
             0,
             "#8e0152"
            ],
            [
             0.1,
             "#c51b7d"
            ],
            [
             0.2,
             "#de77ae"
            ],
            [
             0.3,
             "#f1b6da"
            ],
            [
             0.4,
             "#fde0ef"
            ],
            [
             0.5,
             "#f7f7f7"
            ],
            [
             0.6,
             "#e6f5d0"
            ],
            [
             0.7,
             "#b8e186"
            ],
            [
             0.8,
             "#7fbc41"
            ],
            [
             0.9,
             "#4d9221"
            ],
            [
             1,
             "#276419"
            ]
           ],
           "sequential": [
            [
             0,
             "#0d0887"
            ],
            [
             0.1111111111111111,
             "#46039f"
            ],
            [
             0.2222222222222222,
             "#7201a8"
            ],
            [
             0.3333333333333333,
             "#9c179e"
            ],
            [
             0.4444444444444444,
             "#bd3786"
            ],
            [
             0.5555555555555556,
             "#d8576b"
            ],
            [
             0.6666666666666666,
             "#ed7953"
            ],
            [
             0.7777777777777778,
             "#fb9f3a"
            ],
            [
             0.8888888888888888,
             "#fdca26"
            ],
            [
             1,
             "#f0f921"
            ]
           ],
           "sequentialminus": [
            [
             0,
             "#0d0887"
            ],
            [
             0.1111111111111111,
             "#46039f"
            ],
            [
             0.2222222222222222,
             "#7201a8"
            ],
            [
             0.3333333333333333,
             "#9c179e"
            ],
            [
             0.4444444444444444,
             "#bd3786"
            ],
            [
             0.5555555555555556,
             "#d8576b"
            ],
            [
             0.6666666666666666,
             "#ed7953"
            ],
            [
             0.7777777777777778,
             "#fb9f3a"
            ],
            [
             0.8888888888888888,
             "#fdca26"
            ],
            [
             1,
             "#f0f921"
            ]
           ]
          },
          "colorway": [
           "#636efa",
           "#EF553B",
           "#00cc96",
           "#ab63fa",
           "#FFA15A",
           "#19d3f3",
           "#FF6692",
           "#B6E880",
           "#FF97FF",
           "#FECB52"
          ],
          "font": {
           "color": "#2a3f5f"
          },
          "geo": {
           "bgcolor": "white",
           "lakecolor": "white",
           "landcolor": "#E5ECF6",
           "showlakes": true,
           "showland": true,
           "subunitcolor": "white"
          },
          "hoverlabel": {
           "align": "left"
          },
          "hovermode": "closest",
          "mapbox": {
           "style": "light"
          },
          "paper_bgcolor": "white",
          "plot_bgcolor": "#E5ECF6",
          "polar": {
           "angularaxis": {
            "gridcolor": "white",
            "linecolor": "white",
            "ticks": ""
           },
           "bgcolor": "#E5ECF6",
           "radialaxis": {
            "gridcolor": "white",
            "linecolor": "white",
            "ticks": ""
           }
          },
          "scene": {
           "xaxis": {
            "backgroundcolor": "#E5ECF6",
            "gridcolor": "white",
            "gridwidth": 2,
            "linecolor": "white",
            "showbackground": true,
            "ticks": "",
            "zerolinecolor": "white"
           },
           "yaxis": {
            "backgroundcolor": "#E5ECF6",
            "gridcolor": "white",
            "gridwidth": 2,
            "linecolor": "white",
            "showbackground": true,
            "ticks": "",
            "zerolinecolor": "white"
           },
           "zaxis": {
            "backgroundcolor": "#E5ECF6",
            "gridcolor": "white",
            "gridwidth": 2,
            "linecolor": "white",
            "showbackground": true,
            "ticks": "",
            "zerolinecolor": "white"
           }
          },
          "shapedefaults": {
           "line": {
            "color": "#2a3f5f"
           }
          },
          "ternary": {
           "aaxis": {
            "gridcolor": "white",
            "linecolor": "white",
            "ticks": ""
           },
           "baxis": {
            "gridcolor": "white",
            "linecolor": "white",
            "ticks": ""
           },
           "bgcolor": "#E5ECF6",
           "caxis": {
            "gridcolor": "white",
            "linecolor": "white",
            "ticks": ""
           }
          },
          "title": {
           "x": 0.05
          },
          "xaxis": {
           "automargin": true,
           "gridcolor": "white",
           "linecolor": "white",
           "ticks": "",
           "title": {
            "standoff": 15
           },
           "zerolinecolor": "white",
           "zerolinewidth": 2
          },
          "yaxis": {
           "automargin": true,
           "gridcolor": "white",
           "linecolor": "white",
           "ticks": "",
           "title": {
            "standoff": 15
           },
           "zerolinecolor": "white",
           "zerolinewidth": 2
          }
         }
        },
        "xaxis": {
         "anchor": "y",
         "domain": [
          0,
          1
         ],
         "title": {
          "text": "per_capita"
         }
        },
        "yaxis": {
         "anchor": "x",
         "domain": [
          0,
          1
         ],
         "title": {
          "text": "incident_count"
         }
        }
       }
      }
     },
     "metadata": {},
     "output_type": "display_data"
    }
   ],
   "source": [
    "fig = px.scatter(grouped_states, x='per_capita', y='incident_count', size='per_capita',\\\n",
    "    color='Gov_Political_Affiliation')\n",
    "fig.show()"
   ]
  }
 ],
 "metadata": {
  "kernelspec": {
   "display_name": "Python 3.9.12 ('base')",
   "language": "python",
   "name": "python3"
  },
  "language_info": {
   "codemirror_mode": {
    "name": "ipython",
    "version": 3
   },
   "file_extension": ".py",
   "mimetype": "text/x-python",
   "name": "python",
   "nbconvert_exporter": "python",
   "pygments_lexer": "ipython3",
   "version": "3.9.12"
  },
  "orig_nbformat": 4,
  "vscode": {
   "interpreter": {
    "hash": "40d3a090f54c6569ab1632332b64b2c03c39dcf918b08424e98f38b5ae0af88f"
   }
  }
 },
 "nbformat": 4,
 "nbformat_minor": 2
}
