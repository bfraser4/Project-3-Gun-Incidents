{
 "cells": [
  {
   "cell_type": "code",
   "execution_count": 126,
   "metadata": {},
   "outputs": [],
   "source": [
    "import pandas as pd"
   ]
  },
  {
   "cell_type": "code",
   "execution_count": 127,
   "metadata": {},
   "outputs": [
    {
     "data": {
      "text/html": [
       "<div>\n",
       "<style scoped>\n",
       "    .dataframe tbody tr th:only-of-type {\n",
       "        vertical-align: middle;\n",
       "    }\n",
       "\n",
       "    .dataframe tbody tr th {\n",
       "        vertical-align: top;\n",
       "    }\n",
       "\n",
       "    .dataframe thead th {\n",
       "        text-align: right;\n",
       "    }\n",
       "</style>\n",
       "<table border=\"1\" class=\"dataframe\">\n",
       "  <thead>\n",
       "    <tr style=\"text-align: right;\">\n",
       "      <th></th>\n",
       "      <th>State</th>\n",
       "      <th>Year</th>\n",
       "      <th>Injury_Intent</th>\n",
       "      <th>Total_Deaths</th>\n",
       "      <th>Population</th>\n",
       "      <th>Age-adjusted Rate (per 100,000)</th>\n",
       "    </tr>\n",
       "  </thead>\n",
       "  <tbody>\n",
       "    <tr>\n",
       "      <th>0</th>\n",
       "      <td>Alabama</td>\n",
       "      <td>2011</td>\n",
       "      <td>All Firearm Deaths</td>\n",
       "      <td>785.0</td>\n",
       "      <td>4802740</td>\n",
       "      <td>16.02121</td>\n",
       "    </tr>\n",
       "    <tr>\n",
       "      <th>1</th>\n",
       "      <td>Alabama</td>\n",
       "      <td>2011</td>\n",
       "      <td>Firearm Suicide</td>\n",
       "      <td>452.0</td>\n",
       "      <td>4802740</td>\n",
       "      <td>8.97016</td>\n",
       "    </tr>\n",
       "    <tr>\n",
       "      <th>2</th>\n",
       "      <td>Alabama</td>\n",
       "      <td>2011</td>\n",
       "      <td>Firearm Homicide (including Legal Intervention)</td>\n",
       "      <td>293.0</td>\n",
       "      <td>4802740</td>\n",
       "      <td>6.23522</td>\n",
       "    </tr>\n",
       "    <tr>\n",
       "      <th>3</th>\n",
       "      <td>Alabama</td>\n",
       "      <td>2012</td>\n",
       "      <td>All Firearm Deaths</td>\n",
       "      <td>831.0</td>\n",
       "      <td>4822023</td>\n",
       "      <td>17.10741</td>\n",
       "    </tr>\n",
       "    <tr>\n",
       "      <th>4</th>\n",
       "      <td>Alabama</td>\n",
       "      <td>2012</td>\n",
       "      <td>Firearm Suicide</td>\n",
       "      <td>500.0</td>\n",
       "      <td>4822023</td>\n",
       "      <td>10.01996</td>\n",
       "    </tr>\n",
       "  </tbody>\n",
       "</table>\n",
       "</div>"
      ],
      "text/plain": [
       "     State  Year                                    Injury_Intent  \\\n",
       "0  Alabama  2011                               All Firearm Deaths   \n",
       "1  Alabama  2011                                  Firearm Suicide   \n",
       "2  Alabama  2011  Firearm Homicide (including Legal Intervention)   \n",
       "3  Alabama  2012                               All Firearm Deaths   \n",
       "4  Alabama  2012                                  Firearm Suicide   \n",
       "\n",
       "   Total_Deaths  Population  Age-adjusted Rate (per 100,000)  \n",
       "0         785.0     4802740                         16.02121  \n",
       "1         452.0     4802740                          8.97016  \n",
       "2         293.0     4802740                          6.23522  \n",
       "3         831.0     4822023                         17.10741  \n",
       "4         500.0     4822023                         10.01996  "
      ]
     },
     "execution_count": 127,
     "metadata": {},
     "output_type": "execute_result"
    }
   ],
   "source": [
    "#read CSV\n",
    "incidents = pd.read_csv('incidentby_year.csv')\n",
    "incidents.head()"
   ]
  },
  {
   "cell_type": "code",
   "execution_count": 132,
   "metadata": {},
   "outputs": [
    {
     "name": "stdout",
     "output_type": "stream",
     "text": [
      "        State  Year       Injury_Intent  Total_Deaths  Population  \\\n",
      "0     Alabama  2011  All Firearm Deaths         785.0     4802740   \n",
      "1     Alabama  2011     Firearm Suicide         452.0     4802740   \n",
      "2     Alabama  2011    Firearm Homicide         293.0     4802740   \n",
      "3     Alabama  2012  All Firearm Deaths         831.0     4822023   \n",
      "4     Alabama  2012     Firearm Suicide         500.0     4822023   \n",
      "...       ...   ...                 ...           ...         ...   \n",
      "1555  Wyoming  2019     Firearm Suicide         114.0      578759   \n",
      "1556  Wyoming  2019    Firearm Homicide          18.0      578759   \n",
      "1557  Wyoming  2020  All Firearm Deaths         154.0      582328   \n",
      "1558  Wyoming  2020     Firearm Suicide         128.0      582328   \n",
      "1559  Wyoming  2020    Firearm Homicide          21.0      582328   \n",
      "\n",
      "      Age-adjusted Rate (per 100,000)  \n",
      "0                            16.02121  \n",
      "1                             8.97016  \n",
      "2                             6.23522  \n",
      "3                            17.10741  \n",
      "4                            10.01996  \n",
      "...                               ...  \n",
      "1555                         19.07889  \n",
      "1556                              NaN  \n",
      "1557                         25.90416  \n",
      "1558                         20.90501  \n",
      "1559                          4.05742  \n",
      "\n",
      "[1560 rows x 6 columns]\n"
     ]
    }
   ],
   "source": [
    "#create df\n",
    "df = pd.DataFrame(incidents)\n",
    "df\n",
    "\n",
    "# df['Injury_Intent'] = df['Injury_Intent'].str.replace(r')', '')\n",
    "\n",
    "df['Injury_Intent'] = df['Injury_Intent'].replace(['Firearm Homicide including Legal Intervention'], 'Firearm Homicide')\n",
    "\n",
    "print(df) "
   ]
  },
  {
   "cell_type": "code",
   "execution_count": 133,
   "metadata": {},
   "outputs": [],
   "source": [
    "injury = df.set_index(['Injury_Intent'])\n",
    "suicides = injury.loc['Firearm Suicide']\n",
    "\n",
    "injury_df = pd.DataFrame(suicides)\n",
    "injury_df.drop(['Age-adjusted Rate (per 100,000)', 'Population'], axis=1, inplace=True)\n",
    "injury_df.to_csv('firearm_suicides.csv')\n"
   ]
  },
  {
   "cell_type": "code",
   "execution_count": 136,
   "metadata": {},
   "outputs": [],
   "source": [
    "injury = df.set_index(['Injury_Intent'])\n",
    "homicide = injury.loc['Firearm Homicide']\n",
    "\n",
    "homicide_df = pd.DataFrame(homicide)\n",
    "homicide_df\n",
    "\n",
    "homicide_df.drop(['Age-adjusted Rate (per 100,000)', 'Population'], axis=1, inplace=True)\n",
    "\n",
    "homicide_df.to_csv('firearm_homicides.csv')"
   ]
  }
 ],
 "metadata": {
  "kernelspec": {
   "display_name": "Python 3.9.12 ('base')",
   "language": "python",
   "name": "python3"
  },
  "language_info": {
   "codemirror_mode": {
    "name": "ipython",
    "version": 3
   },
   "file_extension": ".py",
   "mimetype": "text/x-python",
   "name": "python",
   "nbconvert_exporter": "python",
   "pygments_lexer": "ipython3",
   "version": "3.9.12"
  },
  "orig_nbformat": 4,
  "vscode": {
   "interpreter": {
    "hash": "451d2264f7fe9ea4aed8c4fe3c72fa0b32d9ba08acb963d1646278e19bdadf77"
   }
  }
 },
 "nbformat": 4,
 "nbformat_minor": 2
}
