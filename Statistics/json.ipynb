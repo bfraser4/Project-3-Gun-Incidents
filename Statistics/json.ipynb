{
 "cells": [
  {
   "cell_type": "code",
   "execution_count": 19,
   "metadata": {},
   "outputs": [],
   "source": [
    "import pandas as pd\n",
    "import json\n",
    "\n",
    "#read CSV\n",
    "read_ = pd.read_csv(r'firearm_homicides.csv')\n",
    "\n",
    "#new df\n",
    "new_df = pd.DataFrame(read_)\n",
    "new_df.head()\n",
    "\n",
    "\n",
    "#convert to JSON\n",
    "result = new_df.to_json(orient='split')\n",
    "parsed = json.loads(result)\n",
    "data = json.dumps(new_df.to_dict())\n",
    "\n",
    "json_data = new_df.to_json(r'new_data.json')\n",
    "\n"
   ]
  },
  {
   "cell_type": "code",
   "execution_count": 25,
   "metadata": {},
   "outputs": [],
   "source": [
    "import pandas as pd\n",
    "\n",
    "df = pd.read_csv('firearm_homicides.csv')\n",
    "# df['Injury_Intent'] = df.to_dict('records')\n",
    "# df['State'] = df.to_dict('records')\n",
    "out = df[['Injury_Intent', 'State', 'Year', 'Total_Deaths']].to_json(r'new_data.json', orient='records', indent=4)"
   ]
  }
 ],
 "metadata": {
  "kernelspec": {
   "display_name": "Python 3.9.12 ('base')",
   "language": "python",
   "name": "python3"
  },
  "language_info": {
   "codemirror_mode": {
    "name": "ipython",
    "version": 3
   },
   "file_extension": ".py",
   "mimetype": "text/x-python",
   "name": "python",
   "nbconvert_exporter": "python",
   "pygments_lexer": "ipython3",
   "version": "3.9.12"
  },
  "orig_nbformat": 4,
  "vscode": {
   "interpreter": {
    "hash": "451d2264f7fe9ea4aed8c4fe3c72fa0b32d9ba08acb963d1646278e19bdadf77"
   }
  }
 },
 "nbformat": 4,
 "nbformat_minor": 2
}
